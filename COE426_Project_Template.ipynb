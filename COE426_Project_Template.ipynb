{
  "nbformat": 4,
  "nbformat_minor": 0,
  "metadata": {
    "colab": {
      "name": "COE426 Project Template.ipynb",
      "provenance": [],
      "collapsed_sections": []
    },
    "kernelspec": {
      "display_name": "Python 3",
      "name": "python3"
    }
  },
  "cells": [
    {
      "cell_type": "code",
      "metadata": {
        "colab": {
          "base_uri": "https://localhost:8080/"
        },
        "id": "PcZIM3h10cXp",
        "outputId": "640b5c41-f899-4b6f-8fe3-a58df5dd6195"
      },
      "source": [
        "!pip install plotly"
      ],
      "execution_count": 1,
      "outputs": [
        {
          "output_type": "stream",
          "text": [
            "Requirement already satisfied: plotly in /usr/local/lib/python3.7/dist-packages (4.4.1)\n",
            "Requirement already satisfied: six in /usr/local/lib/python3.7/dist-packages (from plotly) (1.15.0)\n",
            "Requirement already satisfied: retrying>=1.3.3 in /usr/local/lib/python3.7/dist-packages (from plotly) (1.3.3)\n"
          ],
          "name": "stdout"
        }
      ]
    },
    {
      "cell_type": "code",
      "metadata": {
        "id": "iFEafHYCA_jy"
      },
      "source": [
        "#import all needed libraries\n",
        "import numpy as np\n",
        "from random import sample\n",
        "import matplotlib.pyplot as plt\n",
        "from mpl_toolkits.mplot3d import Axes3D\n",
        "from itertools import combinations\n",
        "from sklearn.cluster import KMeans\n",
        "from sklearn.metrics import pairwise_distances_argmin\n",
        "import pandas as pd\n",
        "import plotly.express as px\n",
        "from scipy.spatial.distance import cdist\n",
        "from sklearn.cluster import KMeans"
      ],
      "execution_count": 2,
      "outputs": []
    },
    {
      "cell_type": "markdown",
      "metadata": {
        "id": "8deG58A2BZzD"
      },
      "source": [
        "#COE426 Project"
      ]
    },
    {
      "cell_type": "markdown",
      "metadata": {
        "id": "_9WjubrFHW9A"
      },
      "source": [
        "## Basic Algorithm of K-means.\n",
        "- We will make this DP.\n",
        "- **dont edit this code!** see below code.\n",
        "- Reference https://github.com/jakevdp/PythonDataScienceHandbook/blob/master/notebooks/05.11-K-Means.ipynb"
      ]
    },
    {
      "cell_type": "code",
      "metadata": {
        "id": "CqEmnxCtHdMB"
      },
      "source": [
        "# this algorithm was modified so that it can be used for analysis it may have some bugs\n",
        "def find_clusters(X, n_clusters, Initial_C):\n",
        "    # 1. Randomly chooses clusters\n",
        "    centers = Initial_C\n",
        "    \n",
        "    while True:\n",
        "        # 2a. Assign labels based on closest center\n",
        "        labels = pairwise_distances_argmin(X, centers)\n",
        "        \n",
        "        # 2b. Find new centers from means of points\n",
        "        new_centers = np.array([X[labels == i].mean(0) for i in range(n_clusters)])\n",
        "        \n",
        "        # 2c. Check for convergence\n",
        "        if np.all(centers == new_centers):\n",
        "            break\n",
        "        centers = new_centers\n",
        "    \n",
        "    return centers, labels"
      ],
      "execution_count": 3,
      "outputs": []
    },
    {
      "cell_type": "markdown",
      "metadata": {
        "id": "_SgwxuAUGJH5"
      },
      "source": [
        "##Data + Variables"
      ]
    },
    {
      "cell_type": "markdown",
      "metadata": {
        "id": "z7VotVVAAg98"
      },
      "source": [
        "You should edit this data section need to use the algorithm on different data set."
      ]
    },
    {
      "cell_type": "code",
      "metadata": {
        "id": "CSLqJCHZGKpX",
        "colab": {
          "base_uri": "https://localhost:8080/"
        },
        "outputId": "17e83872-bae1-4179-aacf-95265af28509"
      },
      "source": [
        "customers = pd.read_csv(\"https://raw.githubusercontent.com/ugis22/clustering_analysis/master/customers.csv\") #get dataset and process it\n",
        "Encode = {\"Male\":0, \"Female\":1}\n",
        "customers[\"Gender\"] = customers[\"Gender\"].map(Encode)\n",
        "X = customers.drop(\"CustomerID\", axis=1) #X = data in dataframe form\n",
        "D = X.to_numpy() #D = data in array form\n",
        "\n",
        "n=2 #n will be used to generate n*k non-random centroids and it can be changed for testing. Please see the original paper for more information about this variable. \n",
        "k=5 #number of clusters\n",
        "\n",
        "#For simplicity, we will define one domain of sensitive column. Our domain in this data set is the Annual Income (k$). it will be used for generating random centroids as paper states.\n",
        "min_domain = X[\"Annual Income (k$)\"].min()\n",
        "high_domain = X[\"Annual Income (k$)\"].max()\n",
        "high_df = X[X[\"Annual Income (k$)\"] == high_domain]\n",
        "low_df = X[X[\"Annual Income (k$)\"] == min_domain]\n",
        "domain_array = high_df.append(low_df).to_numpy()\n",
        "\n",
        "#Global Sensitivity Calculations as paper states\n",
        "#r --> assume domain of data in a sphere between (-r, r)\n",
        "#if the data is perfect, it will be between -r and r, and r will be = max or min, but this is not the case.\n",
        "#to find r for data greater then zero do this: \n",
        "#1- add r, domain=(0,2r)\n",
        "#2- add min value, domain=(min,2r+min)\n",
        "#3- now, we know 2r+min=max, find r which is r=(max-min)/2\n",
        "r = []\n",
        "for i in range(D.shape[1]):\n",
        "      r.append(((D[:,i].max()+1)-D[:,i].min())/2)\n",
        "radius_a = 15 #A variable in the paper. it can be changed to generate different distanced-away points (centroids)\n",
        "print(\"r = \", r)"
      ],
      "execution_count": 4,
      "outputs": [
        {
          "output_type": "stream",
          "text": [
            "r =  [1.0, 26.5, 61.5, 49.5]\n"
          ],
          "name": "stdout"
        }
      ]
    },
    {
      "cell_type": "markdown",
      "metadata": {
        "id": "0Avx5IUqvjhk"
      },
      "source": [
        "#DP K-Means\n",
        "- Reference Algorithm to implement: https://arxiv.org/pdf/2010.01234.pdf"
      ]
    },
    {
      "cell_type": "code",
      "metadata": {
        "colab": {
          "base_uri": "https://localhost:8080/",
          "height": 388
        },
        "id": "pd4ARoRL9XnI",
        "outputId": "af3f5c5f-8231-4103-9088-a7660603f4c1"
      },
      "source": [
        "#To find optimal K - https://www.kaggle.com/cdabakoglu/clustering-mall-customers-k-means\n",
        "#assume our K is 5 for mall customers data set. You need to set K for different data set based on this graph\n",
        "wcss = []\n",
        "for new_iter in range(1,11):\n",
        "    kmeans = KMeans(n_clusters=new_iter, init=\"k-means++\")\n",
        "    kmeans.fit(X.iloc[:,1:])\n",
        "    wcss.append(kmeans.inertia_)\n",
        "plt.figure(figsize=(12,6))    \n",
        "plt.grid()\n",
        "plt.plot(range(1,11),wcss, linewidth=2, color=\"red\", marker =\"8\")\n",
        "plt.xlabel(\"K Value\")\n",
        "plt.xticks(np.arange(1,11,1))\n",
        "plt.ylabel(\"WCSS\")\n",
        "plt.show()"
      ],
      "execution_count": 5,
      "outputs": [
        {
          "output_type": "display_data",
          "data": {
            "image/png": "[encoded data removed]",
            "text/plain": [
              "<Figure size 864x432 with 1 Axes>"
            ]
          },
          "metadata": {
            "tags": [],
            "needs_background": "light"
          }
        }
      ]
    },
    {
      "cell_type": "code",
      "metadata": {
        "id": "FokmY9sEWm2g"
      },
      "source": [
        "def Generate_Centroids(D, n, k, domain_array, radius_a): #Generate Centroids Function based on Paper. Reference: End of this jupyter file.\n",
        "  Centroid = np.zeros((0, D.shape[1]))\n",
        "  while (len(Centroid) != n*k):\n",
        "    random_data = []\n",
        "    for i in range(D.shape[1]):\n",
        "      random_data.append(np.random.randint(low=D[:,i].min(), high=D[:,i].max()+1))\n",
        "    Random_Centroid = np.array([random_data])\n",
        "    min_distance = np.min(cdist(Random_Centroid,domain_array))\n",
        "    if ((min_distance>radius_a) and (len(Centroid)==0)):\n",
        "      Centroid = np.vstack([Centroid, Random_Centroid])\n",
        "    if (len(Centroid)!=0):\n",
        "      min_distance = np.min(cdist(Random_Centroid,Centroid))\n",
        "      if ((min_distance>2*radius_a)):\n",
        "        Centroid = np.vstack([Centroid, Random_Centroid])\n",
        "  return Centroid"
      ],
      "execution_count": 6,
      "outputs": []
    },
    {
      "cell_type": "code",
      "metadata": {
        "id": "T8zmfGBXvjA-"
      },
      "source": [
        "def dp(D, k_clusters, n, domainlimit_r, Initial_C, e, max_clustering): #The algorithm of DP-Kmeans.\n",
        "    \"\"\" DP K-Means \n",
        "\n",
        "    Args:\n",
        "        D : Dataset in numpy array form\n",
        "        k_clusters : number of clusters\n",
        "        n : it's used to find k_clusters*n initial centroids to get a better chance for good initial centroids.\n",
        "        domainlimit_r : radius of data for global sensitivity calculations\n",
        "        Initial_C: intial centroids\n",
        "        e : privacy budget\n",
        "        max_clustering: the maximum number of iterations before returing the clusters.\n",
        "    Returns:\n",
        "        Two elements array. \n",
        "        [0]:numpy array of the cluster centroids.\n",
        "        [1]:numpy array that maps every row in the dataset to centroid's index in [0]. (labeling of data)\n",
        "\n",
        "    \"\"\"\n",
        "    # 1. Initial Private Random Centroids Selection\n",
        "    r=domainlimit_r\n",
        "    global_sen = np.array(r)*D.shape[1]+1\n",
        "    privacybudget = e/max_clustering\n",
        "    C = Initial_C\n",
        "\n",
        "    for iter in range(max_clustering):\n",
        "        # 2a. Assign labels based on closest center\n",
        "        labels = pairwise_distances_argmin(D, C)\n",
        "        # 2b. Calculates Noise\n",
        "        noise1=[]\n",
        "        for i in range(D.shape[1]):\n",
        "          noise1.append(np.random.laplace(global_sen[i]/privacybudget))\n",
        "        noise2 = np.random.laplace(global_sen[i]/privacybudget)\n",
        "\n",
        "        # 2c. Find new centers from means of points and add noise to them\n",
        "        new_centers = np.array([((D[labels == i].sum(0)+noise1)/(len(D[labels == i])+noise2)) for i in range(k_clusters*n)])\n",
        "\n",
        "        # 2d. Check for convergence\n",
        "        if np.all(C == new_centers):\n",
        "            break\n",
        "        C = new_centers\n",
        "\n",
        "    C = np.unique(C, axis=0)\n",
        "    C_num = len(C)\n",
        "    while C_num>k_clusters:\n",
        "      # finding the two nearest clusters and combine them to C_o\n",
        "      min_dist=float('inf')\n",
        "      for p in range(C_num):\n",
        "        for q in range(p+1,C_num):\n",
        "          dist = np.linalg.norm(C[p]-C[q])\n",
        "          if dist < min_dist:\n",
        "            C_p=C[p]\n",
        "            C_q=C[q]\n",
        "            C_p_index=p\n",
        "            C_q_index=q\n",
        "            min_dist=dist\n",
        "      C_o = []\n",
        "\n",
        "      for i in range(D.shape[1]):\n",
        "        if C_p[i] > C_q[i]:\n",
        "          min_dimension=C_q[i]\n",
        "          m=C_p_index\n",
        "        else:\n",
        "          min_dimension=C_p[i]\n",
        "          m=C_q_index\n",
        "        num_Cm = len(D[labels == m])\n",
        "        num_Cp = len(D[labels == C_p_index])\n",
        "        num_Cq = len(D[labels == C_q_index])\n",
        "        C_o.append(min_dimension+abs(C_p[i]-C_q[i])*num_Cm/(num_Cp+num_Cq))\n",
        "      \n",
        "      C_o=np.array(C_o)\n",
        "        \n",
        "      # Deleting C_p from C and replace C_q with C_o\n",
        "      C[C_q_index]=C_o\n",
        "      C=np.delete(C, C_p_index, 0)\n",
        "      \n",
        "      C_num=C_num-1\n",
        "\n",
        "      # assigning new labels to centers.\n",
        "\n",
        "      labels = pairwise_distances_argmin(D, C)\n",
        "    labels = pairwise_distances_argmin(D, C)\n",
        "    return C, labels"
      ],
      "execution_count": 7,
      "outputs": []
    },
    {
      "cell_type": "code",
      "metadata": {
        "id": "gGa9246NyS2_"
      },
      "source": [
        "n=2\n",
        "init_cent = Generate_Centroids(D, n, k, domain_array, radius_a)"
      ],
      "execution_count": 8,
      "outputs": []
    },
    {
      "cell_type": "code",
      "metadata": {
        "colab": {
          "base_uri": "https://localhost:8080/"
        },
        "id": "-53PInrs86eE",
        "outputId": "31d49a09-c93a-4217-8946-08e4ed7c30c8"
      },
      "source": [
        "# if you get an error in the next line run the previous cell again and continue. The error happens because the initials centroids are not good.\n",
        "centers_original, labels_original = find_clusters(D, k, init_cent)\n",
        "print(centers_original)\n",
        "print(labels_original)\n",
        "centers_df, labels_df = dp(D, k, n, r, init_cent, 70, 3)\n",
        "print(centers_df)\n",
        "print(labels_df)"
      ],
      "execution_count": 9,
      "outputs": [
        {
          "output_type": "stream",
          "text": [
            "[[ 0.48648649 40.32432432 87.43243243 18.18918919]\n",
            " [ 0.59210526 43.93421053 55.21052632 49.44736842]\n",
            " [ 0.56       24.96       28.04       77.        ]\n",
            " [ 0.53846154 32.69230769 86.53846154 82.12820513]\n",
            " [ 0.60869565 45.2173913  26.30434783 20.91304348]]\n",
            "[4 2 4 2 4 2 4 2 4 2 4 2 4 2 4 2 4 2 4 2 4 2 4 2 4 2 4 2 4 2 4 2 4 2 4 2 4\n",
            " 2 4 2 4 2 4 2 4 2 1 1 1 1 1 1 1 1 1 1 1 1 1 1 1 1 1 1 1 2 1 1 2 1 1 1 1 1\n",
            " 1 1 1 1 1 1 1 1 1 1 1 1 1 1 1 1 1 1 1 1 1 1 1 1 1 1 1 1 1 1 1 1 1 1 1 1 1\n",
            " 1 1 1 1 1 1 1 1 1 1 1 1 3 0 3 1 3 0 3 0 3 0 3 0 3 0 3 0 3 0 3 0 3 0 3 0 3\n",
            " 0 3 0 3 0 3 0 3 0 3 0 3 0 3 0 3 0 3 0 3 0 3 0 3 0 3 0 3 0 3 0 3 0 3 0 3 0\n",
            " 3 0 3 0 3 0 3 0 3 0 3 0 3 0 3]\n",
            "[[ 0.35292628 32.90540548 70.54754406 14.70772388]\n",
            " [ 0.30214578 25.64389598 15.69826305 11.41296612]\n",
            " [ 0.36763941 18.9516647  22.30119393 56.93699222]\n",
            " [ 0.48879991 26.25681523 68.04584316 62.23351868]\n",
            " [ 0.51173068 44.04696878 45.88095025 41.87797153]]\n",
            "[2 2 1 2 2 2 1 2 1 2 1 2 1 2 1 2 1 2 4 2 4 2 1 2 1 2 4 2 4 2 1 2 1 2 1 2 1\n",
            " 2 4 2 4 2 4 2 4 2 4 4 4 4 4 4 4 4 4 4 4 4 4 4 4 2 4 4 4 3 4 4 3 4 4 4 4 4\n",
            " 4 3 4 4 3 4 4 4 4 4 3 4 4 3 3 4 4 3 4 4 4 3 4 3 4 3 3 4 4 3 4 3 4 4 4 4 4\n",
            " 3 4 3 3 3 4 3 4 3 3 4 3 3 0 3 0 3 0 3 0 3 0 3 0 3 0 3 0 3 0 3 3 3 0 3 0 3\n",
            " 0 3 0 3 0 3 0 3 0 3 0 3 0 3 0 3 0 3 0 3 0 3 0 3 0 3 0 3 0 3 0 3 0 3 0 3 0\n",
            " 3 0 3 0 3 0 3 0 3 0 3 0 3 0 3]\n"
          ],
          "name": "stdout"
        },
        {
          "output_type": "stream",
          "text": [
            "/usr/local/lib/python3.7/dist-packages/ipykernel_launcher.py:14: DeprecationWarning:\n",
            "\n",
            "elementwise comparison failed; this will raise an error in the future.\n",
            "\n"
          ],
          "name": "stderr"
        }
      ]
    },
    {
      "cell_type": "markdown",
      "metadata": {
        "id": "BBAXUALzIsh2"
      },
      "source": [
        "## Visualize the data of K-means."
      ]
    },
    {
      "cell_type": "code",
      "metadata": {
        "id": "GQImn0OeIwO4",
        "colab": {
          "base_uri": "https://localhost:8080/",
          "height": 542
        },
        "outputId": "99cbfb85-554d-4aa6-cd0d-4e07675f57e5"
      },
      "source": [
        "Encode = {0:\"Group 1\", 1:\"Group 2\", 2:\"Group 3\", 3:\"Group 4\", 4:\"Group 5\"}\n",
        "labels_frame_original = pd.Series(data=labels_original).map(Encode)\n",
        "fig = px.scatter_matrix(X, dimensions=[\"Age\", \"Annual Income (k$)\", \"Spending Score (1-100)\"], color=labels_frame_original, title=\"Original K-Means Plots\")\n",
        "fig.update_layout(font_size=8)\n",
        "fig.update_layout(legend_font_size=13)\n",
        "fig.show()"
      ],
      "execution_count": 10,
      "outputs": [
        {
          "output_type": "display_data",
          "data": {
            "text/html": [
              "<html>\n",
              "<head><meta charset=\"utf-8\" /></head>\n",
              "<body>\n",
              "    <div>\n",
              "            <script src=\"https://cdnjs.cloudflare.com/ajax/libs/mathjax/2.7.5/MathJax.js?config=TeX-AMS-MML_SVG\"></script><script type=\"text/javascript\">if (window.MathJax) {MathJax.Hub.Config({SVG: {font: \"STIX-Web\"}});}</script>\n",
              "                <script type=\"text/javascript\">window.PlotlyConfig = {MathJaxConfig: 'local'};</script>\n",
              "        <script src=\"https://cdn.plot.ly/plotly-latest.min.js\"></script>    \n",
              "            <div id=\"2860a937-39ef-472a-8e5f-7c3c8a301662\" class=\"plotly-graph-div\" style=\"height:525px; width:100%;\"></div>\n",
              "            <script type=\"text/javascript\">\n",
              "                \n",
              "                    window.PLOTLYENV=window.PLOTLYENV || {};\n",
              "                    \n",
              "                if (document.getElementById(\"2860a937-39ef-472a-8e5f-7c3c8a301662\")) {\n",
              "                    Plotly.newPlot(\n",
              "                        '2860a937-39ef-472a-8e5f-7c3c8a301662',\n",
              "                        [{\"dimensions\": [{\"axis\": {\"matches\": true}, \"label\": \"Age\", \"values\": [19, 20, 31, 35, 64, 67, 58, 37, 35, 52, 35, 46, 54, 45, 40, 60, 53, 49, 42, 36, 65, 48, 49]}, {\"axis\": {\"matches\": true}, \"label\": \"Annual Income (k$)\", \"values\": [15, 16, 17, 18, 19, 19, 20, 20, 21, 23, 24, 25, 28, 28, 29, 30, 33, 33, 34, 37, 38, 39, 39]}, {\"axis\": {\"matches\": true}, \"label\": \"Spending Score (1-100)\", \"values\": [39, 6, 40, 6, 3, 14, 15, 13, 35, 29, 35, 5, 14, 32, 31, 4, 4, 14, 17, 26, 35, 36, 28]}], \"hoverlabel\": {\"namelength\": 0}, \"hovertemplate\": \"color=Group 5<br>%{xaxis.title.text}=%{x}<br>%{yaxis.title.text}=%{y}\", \"legendgroup\": \"color=Group 5\", \"marker\": {\"color\": \"#636efa\", \"symbol\": \"circle\"}, \"name\": \"color=Group 5\", \"showlegend\": true, \"type\": \"splom\"}, {\"dimensions\": [{\"axis\": {\"matches\": true}, \"label\": \"Age\", \"values\": [21, 23, 22, 23, 30, 35, 24, 22, 20, 35, 25, 31, 29, 35, 23, 21, 18, 21, 30, 20, 24, 31, 24, 18, 19]}, {\"axis\": {\"matches\": true}, \"label\": \"Annual Income (k$)\", \"values\": [15, 16, 17, 18, 19, 19, 20, 20, 21, 23, 24, 25, 28, 28, 29, 30, 33, 33, 34, 37, 38, 39, 39, 48, 48]}, {\"axis\": {\"matches\": true}, \"label\": \"Spending Score (1-100)\", \"values\": [81, 77, 76, 94, 72, 99, 77, 79, 66, 98, 73, 73, 82, 61, 87, 73, 92, 81, 73, 75, 92, 61, 65, 59, 59]}], \"hoverlabel\": {\"namelength\": 0}, \"hovertemplate\": \"color=Group 3<br>%{xaxis.title.text}=%{x}<br>%{yaxis.title.text}=%{y}\", \"legendgroup\": \"color=Group 3\", \"marker\": {\"color\": \"#EF553B\", \"symbol\": \"circle\"}, \"name\": \"color=Group 3\", \"showlegend\": true, \"type\": \"splom\"}, {\"dimensions\": [{\"axis\": {\"matches\": true}, \"label\": \"Age\", \"values\": [50, 27, 29, 31, 49, 33, 31, 59, 50, 47, 51, 69, 27, 53, 70, 19, 67, 54, 63, 43, 68, 32, 70, 47, 60, 60, 59, 26, 45, 40, 23, 49, 57, 38, 67, 46, 21, 48, 55, 22, 34, 50, 68, 18, 48, 40, 32, 24, 47, 27, 48, 20, 23, 49, 67, 26, 49, 21, 66, 54, 68, 66, 65, 19, 38, 19, 18, 19, 63, 49, 51, 50, 27, 38, 40, 43]}, {\"axis\": {\"matches\": true}, \"label\": \"Annual Income (k$)\", \"values\": [40, 40, 40, 40, 42, 42, 43, 43, 43, 43, 44, 44, 46, 46, 46, 46, 47, 47, 48, 48, 48, 48, 49, 49, 50, 50, 54, 54, 54, 54, 54, 54, 54, 54, 54, 54, 54, 54, 57, 57, 58, 58, 59, 59, 60, 60, 60, 60, 60, 60, 61, 61, 62, 62, 62, 62, 62, 62, 63, 63, 63, 63, 63, 63, 64, 64, 65, 65, 65, 65, 67, 67, 67, 67, 69, 71]}, {\"axis\": {\"matches\": true}, \"label\": \"Spending Score (1-100)\", \"values\": [55, 47, 42, 42, 52, 60, 54, 60, 45, 41, 50, 46, 51, 46, 56, 55, 52, 59, 51, 50, 48, 47, 55, 42, 49, 56, 47, 54, 53, 48, 52, 42, 51, 55, 41, 44, 57, 46, 58, 55, 60, 46, 55, 41, 49, 40, 42, 52, 47, 50, 42, 49, 41, 48, 59, 55, 56, 42, 50, 46, 43, 48, 52, 54, 42, 46, 48, 50, 43, 59, 43, 57, 56, 40, 58, 35]}], \"hoverlabel\": {\"namelength\": 0}, \"hovertemplate\": \"color=Group 2<br>%{xaxis.title.text}=%{x}<br>%{yaxis.title.text}=%{y}\", \"legendgroup\": \"color=Group 2\", \"marker\": {\"color\": \"#00cc96\", \"symbol\": \"circle\"}, \"name\": \"color=Group 2\", \"showlegend\": true, \"type\": \"splom\"}, {\"dimensions\": [{\"axis\": {\"matches\": true}, \"label\": \"Age\", \"values\": [39, 31, 40, 38, 39, 31, 29, 32, 35, 32, 32, 28, 32, 34, 39, 38, 27, 30, 30, 29, 31, 36, 33, 32, 28, 36, 30, 27, 35, 32, 29, 30, 28, 36, 32, 38, 35, 32, 30]}, {\"axis\": {\"matches\": true}, \"label\": \"Annual Income (k$)\", \"values\": [69, 70, 71, 71, 71, 72, 73, 73, 74, 75, 76, 77, 77, 78, 78, 78, 78, 78, 78, 79, 81, 85, 86, 87, 87, 87, 88, 88, 93, 97, 98, 99, 101, 103, 103, 113, 120, 126, 137]}, {\"axis\": {\"matches\": true}, \"label\": \"Spending Score (1-100)\", \"values\": [91, 77, 95, 75, 75, 71, 88, 73, 72, 93, 87, 97, 74, 90, 88, 76, 89, 78, 73, 83, 93, 75, 95, 63, 75, 92, 86, 69, 90, 86, 88, 97, 68, 85, 69, 91, 79, 74, 83]}], \"hoverlabel\": {\"namelength\": 0}, \"hovertemplate\": \"color=Group 4<br>%{xaxis.title.text}=%{x}<br>%{yaxis.title.text}=%{y}\", \"legendgroup\": \"color=Group 4\", \"marker\": {\"color\": \"#ab63fa\", \"symbol\": \"circle\"}, \"name\": \"color=Group 4\", \"showlegend\": true, \"type\": \"splom\"}, {\"dimensions\": [{\"axis\": {\"matches\": true}, \"label\": \"Age\", \"values\": [23, 59, 47, 25, 20, 44, 19, 57, 28, 25, 48, 34, 43, 44, 47, 37, 34, 56, 19, 50, 42, 36, 40, 36, 52, 58, 59, 37, 46, 41, 54, 41, 34, 33, 47, 45, 32]}, {\"axis\": {\"matches\": true}, \"label\": \"Annual Income (k$)\", \"values\": [70, 71, 71, 72, 73, 73, 74, 75, 76, 77, 77, 78, 78, 78, 78, 78, 78, 79, 81, 85, 86, 87, 87, 87, 88, 88, 93, 97, 98, 99, 101, 103, 103, 113, 120, 126, 137]}, {\"axis\": {\"matches\": true}, \"label\": \"Spending Score (1-100)\", \"values\": [29, 11, 9, 34, 5, 7, 10, 5, 40, 12, 36, 22, 17, 20, 16, 1, 1, 35, 5, 26, 20, 27, 13, 10, 13, 15, 14, 32, 15, 39, 24, 17, 23, 8, 16, 28, 18]}], \"hoverlabel\": {\"namelength\": 0}, \"hovertemplate\": \"color=Group 1<br>%{xaxis.title.text}=%{x}<br>%{yaxis.title.text}=%{y}\", \"legendgroup\": \"color=Group 1\", \"marker\": {\"color\": \"#FFA15A\", \"symbol\": \"circle\"}, \"name\": \"color=Group 1\", \"showlegend\": true, \"type\": \"splom\"}],\n",
              "                        {\"dragmode\": \"select\", \"font\": {\"size\": 8}, \"legend\": {\"font\": {\"size\": 13}, \"tracegroupgap\": 0}, \"template\": {\"data\": {\"bar\": [{\"error_x\": {\"color\": \"#2a3f5f\"}, \"error_y\": {\"color\": \"#2a3f5f\"}, \"marker\": {\"line\": {\"color\": \"#E5ECF6\", \"width\": 0.5}}, \"type\": \"bar\"}], \"barpolar\": [{\"marker\": {\"line\": {\"color\": \"#E5ECF6\", \"width\": 0.5}}, \"type\": \"barpolar\"}], \"carpet\": [{\"aaxis\": {\"endlinecolor\": \"#2a3f5f\", \"gridcolor\": \"white\", \"linecolor\": \"white\", \"minorgridcolor\": \"white\", \"startlinecolor\": \"#2a3f5f\"}, \"baxis\": {\"endlinecolor\": \"#2a3f5f\", \"gridcolor\": \"white\", \"linecolor\": \"white\", \"minorgridcolor\": \"white\", \"startlinecolor\": \"#2a3f5f\"}, \"type\": \"carpet\"}], \"choropleth\": [{\"colorbar\": {\"outlinewidth\": 0, \"ticks\": \"\"}, \"type\": \"choropleth\"}], \"contour\": [{\"colorbar\": {\"outlinewidth\": 0, \"ticks\": \"\"}, \"colorscale\": [[0.0, \"#0d0887\"], [0.1111111111111111, \"#46039f\"], [0.2222222222222222, \"#7201a8\"], [0.3333333333333333, \"#9c179e\"], [0.4444444444444444, \"#bd3786\"], [0.5555555555555556, \"#d8576b\"], [0.6666666666666666, \"#ed7953\"], [0.7777777777777778, \"#fb9f3a\"], [0.8888888888888888, \"#fdca26\"], [1.0, \"#f0f921\"]], \"type\": \"contour\"}], \"contourcarpet\": [{\"colorbar\": {\"outlinewidth\": 0, \"ticks\": \"\"}, \"type\": \"contourcarpet\"}], \"heatmap\": [{\"colorbar\": {\"outlinewidth\": 0, \"ticks\": \"\"}, \"colorscale\": [[0.0, \"#0d0887\"], [0.1111111111111111, \"#46039f\"], [0.2222222222222222, \"#7201a8\"], [0.3333333333333333, \"#9c179e\"], [0.4444444444444444, \"#bd3786\"], [0.5555555555555556, \"#d8576b\"], [0.6666666666666666, \"#ed7953\"], [0.7777777777777778, \"#fb9f3a\"], [0.8888888888888888, \"#fdca26\"], [1.0, \"#f0f921\"]], \"type\": \"heatmap\"}], \"heatmapgl\": [{\"colorbar\": {\"outlinewidth\": 0, \"ticks\": \"\"}, \"colorscale\": [[0.0, \"#0d0887\"], [0.1111111111111111, \"#46039f\"], [0.2222222222222222, \"#7201a8\"], [0.3333333333333333, \"#9c179e\"], [0.4444444444444444, \"#bd3786\"], [0.5555555555555556, \"#d8576b\"], [0.6666666666666666, \"#ed7953\"], [0.7777777777777778, \"#fb9f3a\"], [0.8888888888888888, \"#fdca26\"], [1.0, \"#f0f921\"]], \"type\": \"heatmapgl\"}], \"histogram\": [{\"marker\": {\"colorbar\": {\"outlinewidth\": 0, \"ticks\": \"\"}}, \"type\": \"histogram\"}], \"histogram2d\": [{\"colorbar\": {\"outlinewidth\": 0, \"ticks\": \"\"}, \"colorscale\": [[0.0, \"#0d0887\"], [0.1111111111111111, \"#46039f\"], [0.2222222222222222, \"#7201a8\"], [0.3333333333333333, \"#9c179e\"], [0.4444444444444444, \"#bd3786\"], [0.5555555555555556, \"#d8576b\"], [0.6666666666666666, \"#ed7953\"], [0.7777777777777778, \"#fb9f3a\"], [0.8888888888888888, \"#fdca26\"], [1.0, \"#f0f921\"]], \"type\": \"histogram2d\"}], \"histogram2dcontour\": [{\"colorbar\": {\"outlinewidth\": 0, \"ticks\": \"\"}, \"colorscale\": [[0.0, \"#0d0887\"], [0.1111111111111111, \"#46039f\"], [0.2222222222222222, \"#7201a8\"], [0.3333333333333333, \"#9c179e\"], [0.4444444444444444, \"#bd3786\"], [0.5555555555555556, \"#d8576b\"], [0.6666666666666666, \"#ed7953\"], [0.7777777777777778, \"#fb9f3a\"], [0.8888888888888888, \"#fdca26\"], [1.0, \"#f0f921\"]], \"type\": \"histogram2dcontour\"}], \"mesh3d\": [{\"colorbar\": {\"outlinewidth\": 0, \"ticks\": \"\"}, \"type\": \"mesh3d\"}], \"parcoords\": [{\"line\": {\"colorbar\": {\"outlinewidth\": 0, \"ticks\": \"\"}}, \"type\": \"parcoords\"}], \"pie\": [{\"automargin\": true, \"type\": \"pie\"}], \"scatter\": [{\"marker\": {\"colorbar\": {\"outlinewidth\": 0, \"ticks\": \"\"}}, \"type\": \"scatter\"}], \"scatter3d\": [{\"line\": {\"colorbar\": {\"outlinewidth\": 0, \"ticks\": \"\"}}, \"marker\": {\"colorbar\": {\"outlinewidth\": 0, \"ticks\": \"\"}}, \"type\": \"scatter3d\"}], \"scattercarpet\": [{\"marker\": {\"colorbar\": {\"outlinewidth\": 0, \"ticks\": \"\"}}, \"type\": \"scattercarpet\"}], \"scattergeo\": [{\"marker\": {\"colorbar\": {\"outlinewidth\": 0, \"ticks\": \"\"}}, \"type\": \"scattergeo\"}], \"scattergl\": [{\"marker\": {\"colorbar\": {\"outlinewidth\": 0, \"ticks\": \"\"}}, \"type\": \"scattergl\"}], \"scattermapbox\": [{\"marker\": {\"colorbar\": {\"outlinewidth\": 0, \"ticks\": \"\"}}, \"type\": \"scattermapbox\"}], \"scatterpolar\": [{\"marker\": {\"colorbar\": {\"outlinewidth\": 0, \"ticks\": \"\"}}, \"type\": \"scatterpolar\"}], \"scatterpolargl\": [{\"marker\": {\"colorbar\": {\"outlinewidth\": 0, \"ticks\": \"\"}}, \"type\": \"scatterpolargl\"}], \"scatterternary\": [{\"marker\": {\"colorbar\": {\"outlinewidth\": 0, \"ticks\": \"\"}}, \"type\": \"scatterternary\"}], \"surface\": [{\"colorbar\": {\"outlinewidth\": 0, \"ticks\": \"\"}, \"colorscale\": [[0.0, \"#0d0887\"], [0.1111111111111111, \"#46039f\"], [0.2222222222222222, \"#7201a8\"], [0.3333333333333333, \"#9c179e\"], [0.4444444444444444, \"#bd3786\"], [0.5555555555555556, \"#d8576b\"], [0.6666666666666666, \"#ed7953\"], [0.7777777777777778, \"#fb9f3a\"], [0.8888888888888888, \"#fdca26\"], [1.0, \"#f0f921\"]], \"type\": \"surface\"}], \"table\": [{\"cells\": {\"fill\": {\"color\": \"#EBF0F8\"}, \"line\": {\"color\": \"white\"}}, \"header\": {\"fill\": {\"color\": \"#C8D4E3\"}, \"line\": {\"color\": \"white\"}}, \"type\": \"table\"}]}, \"layout\": {\"annotationdefaults\": {\"arrowcolor\": \"#2a3f5f\", \"arrowhead\": 0, \"arrowwidth\": 1}, \"coloraxis\": {\"colorbar\": {\"outlinewidth\": 0, \"ticks\": \"\"}}, \"colorscale\": {\"diverging\": [[0, \"#8e0152\"], [0.1, \"#c51b7d\"], [0.2, \"#de77ae\"], [0.3, \"#f1b6da\"], [0.4, \"#fde0ef\"], [0.5, \"#f7f7f7\"], [0.6, \"#e6f5d0\"], [0.7, \"#b8e186\"], [0.8, \"#7fbc41\"], [0.9, \"#4d9221\"], [1, \"#276419\"]], \"sequential\": [[0.0, \"#0d0887\"], [0.1111111111111111, \"#46039f\"], [0.2222222222222222, \"#7201a8\"], [0.3333333333333333, \"#9c179e\"], [0.4444444444444444, \"#bd3786\"], [0.5555555555555556, \"#d8576b\"], [0.6666666666666666, \"#ed7953\"], [0.7777777777777778, \"#fb9f3a\"], [0.8888888888888888, \"#fdca26\"], [1.0, \"#f0f921\"]], \"sequentialminus\": [[0.0, \"#0d0887\"], [0.1111111111111111, \"#46039f\"], [0.2222222222222222, \"#7201a8\"], [0.3333333333333333, \"#9c179e\"], [0.4444444444444444, \"#bd3786\"], [0.5555555555555556, \"#d8576b\"], [0.6666666666666666, \"#ed7953\"], [0.7777777777777778, \"#fb9f3a\"], [0.8888888888888888, \"#fdca26\"], [1.0, \"#f0f921\"]]}, \"colorway\": [\"#636efa\", \"#EF553B\", \"#00cc96\", \"#ab63fa\", \"#FFA15A\", \"#19d3f3\", \"#FF6692\", \"#B6E880\", \"#FF97FF\", \"#FECB52\"], \"font\": {\"color\": \"#2a3f5f\"}, \"geo\": {\"bgcolor\": \"white\", \"lakecolor\": \"white\", \"landcolor\": \"#E5ECF6\", \"showlakes\": true, \"showland\": true, \"subunitcolor\": \"white\"}, \"hoverlabel\": {\"align\": \"left\"}, \"hovermode\": \"closest\", \"mapbox\": {\"style\": \"light\"}, \"paper_bgcolor\": \"white\", \"plot_bgcolor\": \"#E5ECF6\", \"polar\": {\"angularaxis\": {\"gridcolor\": \"white\", \"linecolor\": \"white\", \"ticks\": \"\"}, \"bgcolor\": \"#E5ECF6\", \"radialaxis\": {\"gridcolor\": \"white\", \"linecolor\": \"white\", \"ticks\": \"\"}}, \"scene\": {\"xaxis\": {\"backgroundcolor\": \"#E5ECF6\", \"gridcolor\": \"white\", \"gridwidth\": 2, \"linecolor\": \"white\", \"showbackground\": true, \"ticks\": \"\", \"zerolinecolor\": \"white\"}, \"yaxis\": {\"backgroundcolor\": \"#E5ECF6\", \"gridcolor\": \"white\", \"gridwidth\": 2, \"linecolor\": \"white\", \"showbackground\": true, \"ticks\": \"\", \"zerolinecolor\": \"white\"}, \"zaxis\": {\"backgroundcolor\": \"#E5ECF6\", \"gridcolor\": \"white\", \"gridwidth\": 2, \"linecolor\": \"white\", \"showbackground\": true, \"ticks\": \"\", \"zerolinecolor\": \"white\"}}, \"shapedefaults\": {\"line\": {\"color\": \"#2a3f5f\"}}, \"ternary\": {\"aaxis\": {\"gridcolor\": \"white\", \"linecolor\": \"white\", \"ticks\": \"\"}, \"baxis\": {\"gridcolor\": \"white\", \"linecolor\": \"white\", \"ticks\": \"\"}, \"bgcolor\": \"#E5ECF6\", \"caxis\": {\"gridcolor\": \"white\", \"linecolor\": \"white\", \"ticks\": \"\"}}, \"title\": {\"x\": 0.05}, \"xaxis\": {\"automargin\": true, \"gridcolor\": \"white\", \"linecolor\": \"white\", \"ticks\": \"\", \"title\": {\"standoff\": 15}, \"zerolinecolor\": \"white\", \"zerolinewidth\": 2}, \"yaxis\": {\"automargin\": true, \"gridcolor\": \"white\", \"linecolor\": \"white\", \"ticks\": \"\", \"title\": {\"standoff\": 15}, \"zerolinecolor\": \"white\", \"zerolinewidth\": 2}}}, \"title\": {\"text\": \"Original K-Means Plots\"}},\n",
              "                        {\"responsive\": true}\n",
              "                    ).then(function(){\n",
              "                            \n",
              "var gd = document.getElementById('2860a937-39ef-472a-8e5f-7c3c8a301662');\n",
              "var x = new MutationObserver(function (mutations, observer) {{\n",
              "        var display = window.getComputedStyle(gd).display;\n",
              "        if (!display || display === 'none') {{\n",
              "            console.log([gd, 'removed!']);\n",
              "            Plotly.purge(gd);\n",
              "            observer.disconnect();\n",
              "        }}\n",
              "}});\n",
              "\n",
              "// Listen for the removal of the full notebook cells\n",
              "var notebookContainer = gd.closest('#notebook-container');\n",
              "if (notebookContainer) {{\n",
              "    x.observe(notebookContainer, {childList: true});\n",
              "}}\n",
              "\n",
              "// Listen for the clearing of the current output cell\n",
              "var outputEl = gd.closest('.output');\n",
              "if (outputEl) {{\n",
              "    x.observe(outputEl, {childList: true});\n",
              "}}\n",
              "\n",
              "                        })\n",
              "                };\n",
              "                \n",
              "            </script>\n",
              "        </div>\n",
              "</body>\n",
              "</html>"
            ]
          },
          "metadata": {
            "tags": []
          }
        }
      ]
    },
    {
      "cell_type": "code",
      "metadata": {
        "id": "IjBo44_t1OUz",
        "colab": {
          "base_uri": "https://localhost:8080/",
          "height": 542
        },
        "outputId": "38b3714a-9b7b-438d-ba8c-c1c216f5d07e"
      },
      "source": [
        "labels_frame_df = pd.Series(data=labels_df).map(Encode)\n",
        "fig = px.scatter_matrix(X, dimensions=[\"Age\", \"Annual Income (k$)\", \"Spending Score (1-100)\"], color=labels_frame_df, title=\"DP K-Means Plots\")\n",
        "fig.update_layout(font_size=8)\n",
        "fig.update_layout(legend_font_size=13)\n",
        "fig.show()"
      ],
      "execution_count": 11,
      "outputs": [
        {
          "output_type": "display_data",
          "data": {
            "text/html": [
              "<html>\n",
              "<head><meta charset=\"utf-8\" /></head>\n",
              "<body>\n",
              "    <div>\n",
              "            <script src=\"https://cdnjs.cloudflare.com/ajax/libs/mathjax/2.7.5/MathJax.js?config=TeX-AMS-MML_SVG\"></script><script type=\"text/javascript\">if (window.MathJax) {MathJax.Hub.Config({SVG: {font: \"STIX-Web\"}});}</script>\n",
              "                <script type=\"text/javascript\">window.PlotlyConfig = {MathJaxConfig: 'local'};</script>\n",
              "        <script src=\"https://cdn.plot.ly/plotly-latest.min.js\"></script>    \n",
              "            <div id=\"862371ab-0675-4abd-b767-695849f7019b\" class=\"plotly-graph-div\" style=\"height:525px; width:100%;\"></div>\n",
              "            <script type=\"text/javascript\">\n",
              "                \n",
              "                    window.PLOTLYENV=window.PLOTLYENV || {};\n",
              "                    \n",
              "                if (document.getElementById(\"862371ab-0675-4abd-b767-695849f7019b\")) {\n",
              "                    Plotly.newPlot(\n",
              "                        '862371ab-0675-4abd-b767-695849f7019b',\n",
              "                        [{\"dimensions\": [{\"axis\": {\"matches\": true}, \"label\": \"Age\", \"values\": [19, 21, 23, 31, 22, 23, 30, 35, 24, 22, 20, 35, 25, 31, 29, 35, 23, 21, 18, 21, 30, 20, 24, 31, 24, 19]}, {\"axis\": {\"matches\": true}, \"label\": \"Annual Income (k$)\", \"values\": [15, 15, 16, 17, 17, 18, 19, 19, 20, 20, 21, 23, 24, 25, 28, 28, 29, 30, 33, 33, 34, 37, 38, 39, 39, 46]}, {\"axis\": {\"matches\": true}, \"label\": \"Spending Score (1-100)\", \"values\": [39, 81, 77, 40, 76, 94, 72, 99, 77, 79, 66, 98, 73, 73, 82, 61, 87, 73, 92, 81, 73, 75, 92, 61, 65, 55]}], \"hoverlabel\": {\"namelength\": 0}, \"hovertemplate\": \"color=Group 3<br>%{xaxis.title.text}=%{x}<br>%{yaxis.title.text}=%{y}\", \"legendgroup\": \"color=Group 3\", \"marker\": {\"color\": \"#636efa\", \"symbol\": \"circle\"}, \"name\": \"color=Group 3\", \"showlegend\": true, \"type\": \"splom\"}, {\"dimensions\": [{\"axis\": {\"matches\": true}, \"label\": \"Age\", \"values\": [20, 35, 64, 67, 58, 37, 35, 46, 54, 60, 53, 49, 42]}, {\"axis\": {\"matches\": true}, \"label\": \"Annual Income (k$)\", \"values\": [16, 18, 19, 19, 20, 20, 21, 25, 28, 30, 33, 33, 34]}, {\"axis\": {\"matches\": true}, \"label\": \"Spending Score (1-100)\", \"values\": [6, 6, 3, 14, 15, 13, 35, 5, 14, 4, 4, 14, 17]}], \"hoverlabel\": {\"namelength\": 0}, \"hovertemplate\": \"color=Group 2<br>%{xaxis.title.text}=%{x}<br>%{yaxis.title.text}=%{y}\", \"legendgroup\": \"color=Group 2\", \"marker\": {\"color\": \"#EF553B\", \"symbol\": \"circle\"}, \"name\": \"color=Group 2\", \"showlegend\": true, \"type\": \"splom\"}, {\"dimensions\": [{\"axis\": {\"matches\": true}, \"label\": \"Age\", \"values\": [52, 35, 45, 40, 36, 65, 48, 49, 50, 27, 29, 31, 49, 33, 31, 59, 50, 47, 51, 69, 27, 53, 70, 67, 54, 63, 43, 68, 32, 70, 47, 60, 60, 59, 45, 40, 49, 57, 38, 67, 46, 48, 55, 50, 68, 48, 40, 32, 47, 48, 49, 67, 49, 66, 54, 68, 66, 65, 38, 63, 51, 38]}, {\"axis\": {\"matches\": true}, \"label\": \"Annual Income (k$)\", \"values\": [23, 24, 28, 29, 37, 38, 39, 39, 40, 40, 40, 40, 42, 42, 43, 43, 43, 43, 44, 44, 46, 46, 46, 47, 47, 48, 48, 48, 48, 49, 49, 50, 50, 54, 54, 54, 54, 54, 54, 54, 54, 54, 57, 58, 59, 60, 60, 60, 60, 61, 62, 62, 62, 63, 63, 63, 63, 63, 64, 65, 67, 67]}, {\"axis\": {\"matches\": true}, \"label\": \"Spending Score (1-100)\", \"values\": [29, 35, 32, 31, 26, 35, 36, 28, 55, 47, 42, 42, 52, 60, 54, 60, 45, 41, 50, 46, 51, 46, 56, 52, 59, 51, 50, 48, 47, 55, 42, 49, 56, 47, 53, 48, 42, 51, 55, 41, 44, 46, 58, 46, 55, 49, 40, 42, 47, 42, 48, 59, 56, 50, 46, 43, 48, 52, 42, 43, 43, 40]}], \"hoverlabel\": {\"namelength\": 0}, \"hovertemplate\": \"color=Group 5<br>%{xaxis.title.text}=%{x}<br>%{yaxis.title.text}=%{y}\", \"legendgroup\": \"color=Group 5\", \"marker\": {\"color\": \"#00cc96\", \"symbol\": \"circle\"}, \"name\": \"color=Group 5\", \"showlegend\": true, \"type\": \"splom\"}, {\"dimensions\": [{\"axis\": {\"matches\": true}, \"label\": \"Age\", \"values\": [18, 19, 26, 23, 21, 22, 34, 18, 24, 27, 20, 23, 26, 21, 19, 19, 18, 19, 49, 50, 27, 40, 39, 31, 40, 38, 39, 31, 29, 32, 35, 32, 28, 32, 28, 32, 34, 39, 38, 27, 30, 30, 29, 31, 36, 33, 32, 28, 36, 30, 27, 35, 32, 29, 30, 28, 36, 32, 38, 35, 32, 30]}, {\"axis\": {\"matches\": true}, \"label\": \"Annual Income (k$)\", \"values\": [48, 48, 54, 54, 54, 57, 58, 59, 60, 60, 61, 62, 62, 62, 63, 64, 65, 65, 65, 67, 67, 69, 69, 70, 71, 71, 71, 72, 73, 73, 74, 75, 76, 76, 77, 77, 78, 78, 78, 78, 78, 78, 79, 81, 85, 86, 87, 87, 87, 88, 88, 93, 97, 98, 99, 101, 103, 103, 113, 120, 126, 137]}, {\"axis\": {\"matches\": true}, \"label\": \"Spending Score (1-100)\", \"values\": [59, 59, 54, 52, 57, 55, 60, 41, 52, 50, 49, 41, 55, 42, 54, 46, 48, 50, 59, 57, 56, 58, 91, 77, 95, 75, 75, 71, 88, 73, 72, 93, 40, 87, 97, 74, 90, 88, 76, 89, 78, 73, 83, 93, 75, 95, 63, 75, 92, 86, 69, 90, 86, 88, 97, 68, 85, 69, 91, 79, 74, 83]}], \"hoverlabel\": {\"namelength\": 0}, \"hovertemplate\": \"color=Group 4<br>%{xaxis.title.text}=%{x}<br>%{yaxis.title.text}=%{y}\", \"legendgroup\": \"color=Group 4\", \"marker\": {\"color\": \"#ab63fa\", \"symbol\": \"circle\"}, \"name\": \"color=Group 4\", \"showlegend\": true, \"type\": \"splom\"}, {\"dimensions\": [{\"axis\": {\"matches\": true}, \"label\": \"Age\", \"values\": [23, 43, 59, 47, 25, 20, 44, 19, 57, 25, 48, 34, 43, 44, 47, 37, 34, 56, 19, 50, 42, 36, 40, 36, 52, 58, 59, 37, 46, 41, 54, 41, 34, 33, 47, 45, 32]}, {\"axis\": {\"matches\": true}, \"label\": \"Annual Income (k$)\", \"values\": [70, 71, 71, 71, 72, 73, 73, 74, 75, 77, 77, 78, 78, 78, 78, 78, 78, 79, 81, 85, 86, 87, 87, 87, 88, 88, 93, 97, 98, 99, 101, 103, 103, 113, 120, 126, 137]}, {\"axis\": {\"matches\": true}, \"label\": \"Spending Score (1-100)\", \"values\": [29, 35, 11, 9, 34, 5, 7, 10, 5, 12, 36, 22, 17, 20, 16, 1, 1, 35, 5, 26, 20, 27, 13, 10, 13, 15, 14, 32, 15, 39, 24, 17, 23, 8, 16, 28, 18]}], \"hoverlabel\": {\"namelength\": 0}, \"hovertemplate\": \"color=Group 1<br>%{xaxis.title.text}=%{x}<br>%{yaxis.title.text}=%{y}\", \"legendgroup\": \"color=Group 1\", \"marker\": {\"color\": \"#FFA15A\", \"symbol\": \"circle\"}, \"name\": \"color=Group 1\", \"showlegend\": true, \"type\": \"splom\"}],\n",
              "                        {\"dragmode\": \"select\", \"font\": {\"size\": 8}, \"legend\": {\"font\": {\"size\": 13}, \"tracegroupgap\": 0}, \"template\": {\"data\": {\"bar\": [{\"error_x\": {\"color\": \"#2a3f5f\"}, \"error_y\": {\"color\": \"#2a3f5f\"}, \"marker\": {\"line\": {\"color\": \"#E5ECF6\", \"width\": 0.5}}, \"type\": \"bar\"}], \"barpolar\": [{\"marker\": {\"line\": {\"color\": \"#E5ECF6\", \"width\": 0.5}}, \"type\": \"barpolar\"}], \"carpet\": [{\"aaxis\": {\"endlinecolor\": \"#2a3f5f\", \"gridcolor\": \"white\", \"linecolor\": \"white\", \"minorgridcolor\": \"white\", \"startlinecolor\": \"#2a3f5f\"}, \"baxis\": {\"endlinecolor\": \"#2a3f5f\", \"gridcolor\": \"white\", \"linecolor\": \"white\", \"minorgridcolor\": \"white\", \"startlinecolor\": \"#2a3f5f\"}, \"type\": \"carpet\"}], \"choropleth\": [{\"colorbar\": {\"outlinewidth\": 0, \"ticks\": \"\"}, \"type\": \"choropleth\"}], \"contour\": [{\"colorbar\": {\"outlinewidth\": 0, \"ticks\": \"\"}, \"colorscale\": [[0.0, \"#0d0887\"], [0.1111111111111111, \"#46039f\"], [0.2222222222222222, \"#7201a8\"], [0.3333333333333333, \"#9c179e\"], [0.4444444444444444, \"#bd3786\"], [0.5555555555555556, \"#d8576b\"], [0.6666666666666666, \"#ed7953\"], [0.7777777777777778, \"#fb9f3a\"], [0.8888888888888888, \"#fdca26\"], [1.0, \"#f0f921\"]], \"type\": \"contour\"}], \"contourcarpet\": [{\"colorbar\": {\"outlinewidth\": 0, \"ticks\": \"\"}, \"type\": \"contourcarpet\"}], \"heatmap\": [{\"colorbar\": {\"outlinewidth\": 0, \"ticks\": \"\"}, \"colorscale\": [[0.0, \"#0d0887\"], [0.1111111111111111, \"#46039f\"], [0.2222222222222222, \"#7201a8\"], [0.3333333333333333, \"#9c179e\"], [0.4444444444444444, \"#bd3786\"], [0.5555555555555556, \"#d8576b\"], [0.6666666666666666, \"#ed7953\"], [0.7777777777777778, \"#fb9f3a\"], [0.8888888888888888, \"#fdca26\"], [1.0, \"#f0f921\"]], \"type\": \"heatmap\"}], \"heatmapgl\": [{\"colorbar\": {\"outlinewidth\": 0, \"ticks\": \"\"}, \"colorscale\": [[0.0, \"#0d0887\"], [0.1111111111111111, \"#46039f\"], [0.2222222222222222, \"#7201a8\"], [0.3333333333333333, \"#9c179e\"], [0.4444444444444444, \"#bd3786\"], [0.5555555555555556, \"#d8576b\"], [0.6666666666666666, \"#ed7953\"], [0.7777777777777778, \"#fb9f3a\"], [0.8888888888888888, \"#fdca26\"], [1.0, \"#f0f921\"]], \"type\": \"heatmapgl\"}], \"histogram\": [{\"marker\": {\"colorbar\": {\"outlinewidth\": 0, \"ticks\": \"\"}}, \"type\": \"histogram\"}], \"histogram2d\": [{\"colorbar\": {\"outlinewidth\": 0, \"ticks\": \"\"}, \"colorscale\": [[0.0, \"#0d0887\"], [0.1111111111111111, \"#46039f\"], [0.2222222222222222, \"#7201a8\"], [0.3333333333333333, \"#9c179e\"], [0.4444444444444444, \"#bd3786\"], [0.5555555555555556, \"#d8576b\"], [0.6666666666666666, \"#ed7953\"], [0.7777777777777778, \"#fb9f3a\"], [0.8888888888888888, \"#fdca26\"], [1.0, \"#f0f921\"]], \"type\": \"histogram2d\"}], \"histogram2dcontour\": [{\"colorbar\": {\"outlinewidth\": 0, \"ticks\": \"\"}, \"colorscale\": [[0.0, \"#0d0887\"], [0.1111111111111111, \"#46039f\"], [0.2222222222222222, \"#7201a8\"], [0.3333333333333333, \"#9c179e\"], [0.4444444444444444, \"#bd3786\"], [0.5555555555555556, \"#d8576b\"], [0.6666666666666666, \"#ed7953\"], [0.7777777777777778, \"#fb9f3a\"], [0.8888888888888888, \"#fdca26\"], [1.0, \"#f0f921\"]], \"type\": \"histogram2dcontour\"}], \"mesh3d\": [{\"colorbar\": {\"outlinewidth\": 0, \"ticks\": \"\"}, \"type\": \"mesh3d\"}], \"parcoords\": [{\"line\": {\"colorbar\": {\"outlinewidth\": 0, \"ticks\": \"\"}}, \"type\": \"parcoords\"}], \"pie\": [{\"automargin\": true, \"type\": \"pie\"}], \"scatter\": [{\"marker\": {\"colorbar\": {\"outlinewidth\": 0, \"ticks\": \"\"}}, \"type\": \"scatter\"}], \"scatter3d\": [{\"line\": {\"colorbar\": {\"outlinewidth\": 0, \"ticks\": \"\"}}, \"marker\": {\"colorbar\": {\"outlinewidth\": 0, \"ticks\": \"\"}}, \"type\": \"scatter3d\"}], \"scattercarpet\": [{\"marker\": {\"colorbar\": {\"outlinewidth\": 0, \"ticks\": \"\"}}, \"type\": \"scattercarpet\"}], \"scattergeo\": [{\"marker\": {\"colorbar\": {\"outlinewidth\": 0, \"ticks\": \"\"}}, \"type\": \"scattergeo\"}], \"scattergl\": [{\"marker\": {\"colorbar\": {\"outlinewidth\": 0, \"ticks\": \"\"}}, \"type\": \"scattergl\"}], \"scattermapbox\": [{\"marker\": {\"colorbar\": {\"outlinewidth\": 0, \"ticks\": \"\"}}, \"type\": \"scattermapbox\"}], \"scatterpolar\": [{\"marker\": {\"colorbar\": {\"outlinewidth\": 0, \"ticks\": \"\"}}, \"type\": \"scatterpolar\"}], \"scatterpolargl\": [{\"marker\": {\"colorbar\": {\"outlinewidth\": 0, \"ticks\": \"\"}}, \"type\": \"scatterpolargl\"}], \"scatterternary\": [{\"marker\": {\"colorbar\": {\"outlinewidth\": 0, \"ticks\": \"\"}}, \"type\": \"scatterternary\"}], \"surface\": [{\"colorbar\": {\"outlinewidth\": 0, \"ticks\": \"\"}, \"colorscale\": [[0.0, \"#0d0887\"], [0.1111111111111111, \"#46039f\"], [0.2222222222222222, \"#7201a8\"], [0.3333333333333333, \"#9c179e\"], [0.4444444444444444, \"#bd3786\"], [0.5555555555555556, \"#d8576b\"], [0.6666666666666666, \"#ed7953\"], [0.7777777777777778, \"#fb9f3a\"], [0.8888888888888888, \"#fdca26\"], [1.0, \"#f0f921\"]], \"type\": \"surface\"}], \"table\": [{\"cells\": {\"fill\": {\"color\": \"#EBF0F8\"}, \"line\": {\"color\": \"white\"}}, \"header\": {\"fill\": {\"color\": \"#C8D4E3\"}, \"line\": {\"color\": \"white\"}}, \"type\": \"table\"}]}, \"layout\": {\"annotationdefaults\": {\"arrowcolor\": \"#2a3f5f\", \"arrowhead\": 0, \"arrowwidth\": 1}, \"coloraxis\": {\"colorbar\": {\"outlinewidth\": 0, \"ticks\": \"\"}}, \"colorscale\": {\"diverging\": [[0, \"#8e0152\"], [0.1, \"#c51b7d\"], [0.2, \"#de77ae\"], [0.3, \"#f1b6da\"], [0.4, \"#fde0ef\"], [0.5, \"#f7f7f7\"], [0.6, \"#e6f5d0\"], [0.7, \"#b8e186\"], [0.8, \"#7fbc41\"], [0.9, \"#4d9221\"], [1, \"#276419\"]], \"sequential\": [[0.0, \"#0d0887\"], [0.1111111111111111, \"#46039f\"], [0.2222222222222222, \"#7201a8\"], [0.3333333333333333, \"#9c179e\"], [0.4444444444444444, \"#bd3786\"], [0.5555555555555556, \"#d8576b\"], [0.6666666666666666, \"#ed7953\"], [0.7777777777777778, \"#fb9f3a\"], [0.8888888888888888, \"#fdca26\"], [1.0, \"#f0f921\"]], \"sequentialminus\": [[0.0, \"#0d0887\"], [0.1111111111111111, \"#46039f\"], [0.2222222222222222, \"#7201a8\"], [0.3333333333333333, \"#9c179e\"], [0.4444444444444444, \"#bd3786\"], [0.5555555555555556, \"#d8576b\"], [0.6666666666666666, \"#ed7953\"], [0.7777777777777778, \"#fb9f3a\"], [0.8888888888888888, \"#fdca26\"], [1.0, \"#f0f921\"]]}, \"colorway\": [\"#636efa\", \"#EF553B\", \"#00cc96\", \"#ab63fa\", \"#FFA15A\", \"#19d3f3\", \"#FF6692\", \"#B6E880\", \"#FF97FF\", \"#FECB52\"], \"font\": {\"color\": \"#2a3f5f\"}, \"geo\": {\"bgcolor\": \"white\", \"lakecolor\": \"white\", \"landcolor\": \"#E5ECF6\", \"showlakes\": true, \"showland\": true, \"subunitcolor\": \"white\"}, \"hoverlabel\": {\"align\": \"left\"}, \"hovermode\": \"closest\", \"mapbox\": {\"style\": \"light\"}, \"paper_bgcolor\": \"white\", \"plot_bgcolor\": \"#E5ECF6\", \"polar\": {\"angularaxis\": {\"gridcolor\": \"white\", \"linecolor\": \"white\", \"ticks\": \"\"}, \"bgcolor\": \"#E5ECF6\", \"radialaxis\": {\"gridcolor\": \"white\", \"linecolor\": \"white\", \"ticks\": \"\"}}, \"scene\": {\"xaxis\": {\"backgroundcolor\": \"#E5ECF6\", \"gridcolor\": \"white\", \"gridwidth\": 2, \"linecolor\": \"white\", \"showbackground\": true, \"ticks\": \"\", \"zerolinecolor\": \"white\"}, \"yaxis\": {\"backgroundcolor\": \"#E5ECF6\", \"gridcolor\": \"white\", \"gridwidth\": 2, \"linecolor\": \"white\", \"showbackground\": true, \"ticks\": \"\", \"zerolinecolor\": \"white\"}, \"zaxis\": {\"backgroundcolor\": \"#E5ECF6\", \"gridcolor\": \"white\", \"gridwidth\": 2, \"linecolor\": \"white\", \"showbackground\": true, \"ticks\": \"\", \"zerolinecolor\": \"white\"}}, \"shapedefaults\": {\"line\": {\"color\": \"#2a3f5f\"}}, \"ternary\": {\"aaxis\": {\"gridcolor\": \"white\", \"linecolor\": \"white\", \"ticks\": \"\"}, \"baxis\": {\"gridcolor\": \"white\", \"linecolor\": \"white\", \"ticks\": \"\"}, \"bgcolor\": \"#E5ECF6\", \"caxis\": {\"gridcolor\": \"white\", \"linecolor\": \"white\", \"ticks\": \"\"}}, \"title\": {\"x\": 0.05}, \"xaxis\": {\"automargin\": true, \"gridcolor\": \"white\", \"linecolor\": \"white\", \"ticks\": \"\", \"title\": {\"standoff\": 15}, \"zerolinecolor\": \"white\", \"zerolinewidth\": 2}, \"yaxis\": {\"automargin\": true, \"gridcolor\": \"white\", \"linecolor\": \"white\", \"ticks\": \"\", \"title\": {\"standoff\": 15}, \"zerolinecolor\": \"white\", \"zerolinewidth\": 2}}}, \"title\": {\"text\": \"DP K-Means Plots\"}},\n",
              "                        {\"responsive\": true}\n",
              "                    ).then(function(){\n",
              "                            \n",
              "var gd = document.getElementById('862371ab-0675-4abd-b767-695849f7019b');\n",
              "var x = new MutationObserver(function (mutations, observer) {{\n",
              "        var display = window.getComputedStyle(gd).display;\n",
              "        if (!display || display === 'none') {{\n",
              "            console.log([gd, 'removed!']);\n",
              "            Plotly.purge(gd);\n",
              "            observer.disconnect();\n",
              "        }}\n",
              "}});\n",
              "\n",
              "// Listen for the removal of the full notebook cells\n",
              "var notebookContainer = gd.closest('#notebook-container');\n",
              "if (notebookContainer) {{\n",
              "    x.observe(notebookContainer, {childList: true});\n",
              "}}\n",
              "\n",
              "// Listen for the clearing of the current output cell\n",
              "var outputEl = gd.closest('.output');\n",
              "if (outputEl) {{\n",
              "    x.observe(outputEl, {childList: true});\n",
              "}}\n",
              "\n",
              "                        })\n",
              "                };\n",
              "                \n",
              "            </script>\n",
              "        </div>\n",
              "</body>\n",
              "</html>"
            ]
          },
          "metadata": {
            "tags": []
          }
        }
      ]
    },
    {
      "cell_type": "code",
      "metadata": {
        "id": "v-W_b5rq_Eel",
        "colab": {
          "base_uri": "https://localhost:8080/",
          "height": 542
        },
        "outputId": "9288d146-9c53-4623-93cd-388848fc2cc3"
      },
      "source": [
        "fig = px.scatter_3d(X, x='Age', y='Annual Income (k$)', z='Spending Score (1-100)', color=labels_frame_original, title=\"Normal K-Means 3D\")\n",
        "fig.update_layout(font_size=9)\n",
        "fig.update_layout(legend_font_size=12)\n",
        "fig.show()"
      ],
      "execution_count": 12,
      "outputs": [
        {
          "output_type": "display_data",
          "data": {
            "text/html": [
              "<html>\n",
              "<head><meta charset=\"utf-8\" /></head>\n",
              "<body>\n",
              "    <div>\n",
              "            <script src=\"https://cdnjs.cloudflare.com/ajax/libs/mathjax/2.7.5/MathJax.js?config=TeX-AMS-MML_SVG\"></script><script type=\"text/javascript\">if (window.MathJax) {MathJax.Hub.Config({SVG: {font: \"STIX-Web\"}});}</script>\n",
              "                <script type=\"text/javascript\">window.PlotlyConfig = {MathJaxConfig: 'local'};</script>\n",
              "        <script src=\"https://cdn.plot.ly/plotly-latest.min.js\"></script>    \n",
              "            <div id=\"84cf0857-4654-4dd5-bcb1-992d2268e4c5\" class=\"plotly-graph-div\" style=\"height:525px; width:100%;\"></div>\n",
              "            <script type=\"text/javascript\">\n",
              "                \n",
              "                    window.PLOTLYENV=window.PLOTLYENV || {};\n",
              "                    \n",
              "                if (document.getElementById(\"84cf0857-4654-4dd5-bcb1-992d2268e4c5\")) {\n",
              "                    Plotly.newPlot(\n",
              "                        '84cf0857-4654-4dd5-bcb1-992d2268e4c5',\n",
              "                        [{\"hoverlabel\": {\"namelength\": 0}, \"hovertemplate\": \"color=Group 5<br>Age=%{x}<br>Annual Income (k$)=%{y}<br>Spending Score (1-100)=%{z}\", \"legendgroup\": \"color=Group 5\", \"marker\": {\"color\": \"#636efa\", \"symbol\": \"circle\"}, \"mode\": \"markers\", \"name\": \"color=Group 5\", \"scene\": \"scene\", \"showlegend\": true, \"type\": \"scatter3d\", \"x\": [19, 20, 31, 35, 64, 67, 58, 37, 35, 52, 35, 46, 54, 45, 40, 60, 53, 49, 42, 36, 65, 48, 49], \"y\": [15, 16, 17, 18, 19, 19, 20, 20, 21, 23, 24, 25, 28, 28, 29, 30, 33, 33, 34, 37, 38, 39, 39], \"z\": [39, 6, 40, 6, 3, 14, 15, 13, 35, 29, 35, 5, 14, 32, 31, 4, 4, 14, 17, 26, 35, 36, 28]}, {\"hoverlabel\": {\"namelength\": 0}, \"hovertemplate\": \"color=Group 3<br>Age=%{x}<br>Annual Income (k$)=%{y}<br>Spending Score (1-100)=%{z}\", \"legendgroup\": \"color=Group 3\", \"marker\": {\"color\": \"#EF553B\", \"symbol\": \"circle\"}, \"mode\": \"markers\", \"name\": \"color=Group 3\", \"scene\": \"scene\", \"showlegend\": true, \"type\": \"scatter3d\", \"x\": [21, 23, 22, 23, 30, 35, 24, 22, 20, 35, 25, 31, 29, 35, 23, 21, 18, 21, 30, 20, 24, 31, 24, 18, 19], \"y\": [15, 16, 17, 18, 19, 19, 20, 20, 21, 23, 24, 25, 28, 28, 29, 30, 33, 33, 34, 37, 38, 39, 39, 48, 48], \"z\": [81, 77, 76, 94, 72, 99, 77, 79, 66, 98, 73, 73, 82, 61, 87, 73, 92, 81, 73, 75, 92, 61, 65, 59, 59]}, {\"hoverlabel\": {\"namelength\": 0}, \"hovertemplate\": \"color=Group 2<br>Age=%{x}<br>Annual Income (k$)=%{y}<br>Spending Score (1-100)=%{z}\", \"legendgroup\": \"color=Group 2\", \"marker\": {\"color\": \"#00cc96\", \"symbol\": \"circle\"}, \"mode\": \"markers\", \"name\": \"color=Group 2\", \"scene\": \"scene\", \"showlegend\": true, \"type\": \"scatter3d\", \"x\": [50, 27, 29, 31, 49, 33, 31, 59, 50, 47, 51, 69, 27, 53, 70, 19, 67, 54, 63, 43, 68, 32, 70, 47, 60, 60, 59, 26, 45, 40, 23, 49, 57, 38, 67, 46, 21, 48, 55, 22, 34, 50, 68, 18, 48, 40, 32, 24, 47, 27, 48, 20, 23, 49, 67, 26, 49, 21, 66, 54, 68, 66, 65, 19, 38, 19, 18, 19, 63, 49, 51, 50, 27, 38, 40, 43], \"y\": [40, 40, 40, 40, 42, 42, 43, 43, 43, 43, 44, 44, 46, 46, 46, 46, 47, 47, 48, 48, 48, 48, 49, 49, 50, 50, 54, 54, 54, 54, 54, 54, 54, 54, 54, 54, 54, 54, 57, 57, 58, 58, 59, 59, 60, 60, 60, 60, 60, 60, 61, 61, 62, 62, 62, 62, 62, 62, 63, 63, 63, 63, 63, 63, 64, 64, 65, 65, 65, 65, 67, 67, 67, 67, 69, 71], \"z\": [55, 47, 42, 42, 52, 60, 54, 60, 45, 41, 50, 46, 51, 46, 56, 55, 52, 59, 51, 50, 48, 47, 55, 42, 49, 56, 47, 54, 53, 48, 52, 42, 51, 55, 41, 44, 57, 46, 58, 55, 60, 46, 55, 41, 49, 40, 42, 52, 47, 50, 42, 49, 41, 48, 59, 55, 56, 42, 50, 46, 43, 48, 52, 54, 42, 46, 48, 50, 43, 59, 43, 57, 56, 40, 58, 35]}, {\"hoverlabel\": {\"namelength\": 0}, \"hovertemplate\": \"color=Group 4<br>Age=%{x}<br>Annual Income (k$)=%{y}<br>Spending Score (1-100)=%{z}\", \"legendgroup\": \"color=Group 4\", \"marker\": {\"color\": \"#ab63fa\", \"symbol\": \"circle\"}, \"mode\": \"markers\", \"name\": \"color=Group 4\", \"scene\": \"scene\", \"showlegend\": true, \"type\": \"scatter3d\", \"x\": [39, 31, 40, 38, 39, 31, 29, 32, 35, 32, 32, 28, 32, 34, 39, 38, 27, 30, 30, 29, 31, 36, 33, 32, 28, 36, 30, 27, 35, 32, 29, 30, 28, 36, 32, 38, 35, 32, 30], \"y\": [69, 70, 71, 71, 71, 72, 73, 73, 74, 75, 76, 77, 77, 78, 78, 78, 78, 78, 78, 79, 81, 85, 86, 87, 87, 87, 88, 88, 93, 97, 98, 99, 101, 103, 103, 113, 120, 126, 137], \"z\": [91, 77, 95, 75, 75, 71, 88, 73, 72, 93, 87, 97, 74, 90, 88, 76, 89, 78, 73, 83, 93, 75, 95, 63, 75, 92, 86, 69, 90, 86, 88, 97, 68, 85, 69, 91, 79, 74, 83]}, {\"hoverlabel\": {\"namelength\": 0}, \"hovertemplate\": \"color=Group 1<br>Age=%{x}<br>Annual Income (k$)=%{y}<br>Spending Score (1-100)=%{z}\", \"legendgroup\": \"color=Group 1\", \"marker\": {\"color\": \"#FFA15A\", \"symbol\": \"circle\"}, \"mode\": \"markers\", \"name\": \"color=Group 1\", \"scene\": \"scene\", \"showlegend\": true, \"type\": \"scatter3d\", \"x\": [23, 59, 47, 25, 20, 44, 19, 57, 28, 25, 48, 34, 43, 44, 47, 37, 34, 56, 19, 50, 42, 36, 40, 36, 52, 58, 59, 37, 46, 41, 54, 41, 34, 33, 47, 45, 32], \"y\": [70, 71, 71, 72, 73, 73, 74, 75, 76, 77, 77, 78, 78, 78, 78, 78, 78, 79, 81, 85, 86, 87, 87, 87, 88, 88, 93, 97, 98, 99, 101, 103, 103, 113, 120, 126, 137], \"z\": [29, 11, 9, 34, 5, 7, 10, 5, 40, 12, 36, 22, 17, 20, 16, 1, 1, 35, 5, 26, 20, 27, 13, 10, 13, 15, 14, 32, 15, 39, 24, 17, 23, 8, 16, 28, 18]}],\n",
              "                        {\"font\": {\"size\": 9}, \"legend\": {\"font\": {\"size\": 12}, \"tracegroupgap\": 0}, \"scene\": {\"domain\": {\"x\": [0.0, 1.0], \"y\": [0.0, 1.0]}, \"xaxis\": {\"title\": {\"text\": \"Age\"}}, \"yaxis\": {\"title\": {\"text\": \"Annual Income (k$)\"}}, \"zaxis\": {\"title\": {\"text\": \"Spending Score (1-100)\"}}}, \"template\": {\"data\": {\"bar\": [{\"error_x\": {\"color\": \"#2a3f5f\"}, \"error_y\": {\"color\": \"#2a3f5f\"}, \"marker\": {\"line\": {\"color\": \"#E5ECF6\", \"width\": 0.5}}, \"type\": \"bar\"}], \"barpolar\": [{\"marker\": {\"line\": {\"color\": \"#E5ECF6\", \"width\": 0.5}}, \"type\": \"barpolar\"}], \"carpet\": [{\"aaxis\": {\"endlinecolor\": \"#2a3f5f\", \"gridcolor\": \"white\", \"linecolor\": \"white\", \"minorgridcolor\": \"white\", \"startlinecolor\": \"#2a3f5f\"}, \"baxis\": {\"endlinecolor\": \"#2a3f5f\", \"gridcolor\": \"white\", \"linecolor\": \"white\", \"minorgridcolor\": \"white\", \"startlinecolor\": \"#2a3f5f\"}, \"type\": \"carpet\"}], \"choropleth\": [{\"colorbar\": {\"outlinewidth\": 0, \"ticks\": \"\"}, \"type\": \"choropleth\"}], \"contour\": [{\"colorbar\": {\"outlinewidth\": 0, \"ticks\": \"\"}, \"colorscale\": [[0.0, \"#0d0887\"], [0.1111111111111111, \"#46039f\"], [0.2222222222222222, \"#7201a8\"], [0.3333333333333333, \"#9c179e\"], [0.4444444444444444, \"#bd3786\"], [0.5555555555555556, \"#d8576b\"], [0.6666666666666666, \"#ed7953\"], [0.7777777777777778, \"#fb9f3a\"], [0.8888888888888888, \"#fdca26\"], [1.0, \"#f0f921\"]], \"type\": \"contour\"}], \"contourcarpet\": [{\"colorbar\": {\"outlinewidth\": 0, \"ticks\": \"\"}, \"type\": \"contourcarpet\"}], \"heatmap\": [{\"colorbar\": {\"outlinewidth\": 0, \"ticks\": \"\"}, \"colorscale\": [[0.0, \"#0d0887\"], [0.1111111111111111, \"#46039f\"], [0.2222222222222222, \"#7201a8\"], [0.3333333333333333, \"#9c179e\"], [0.4444444444444444, \"#bd3786\"], [0.5555555555555556, \"#d8576b\"], [0.6666666666666666, \"#ed7953\"], [0.7777777777777778, \"#fb9f3a\"], [0.8888888888888888, \"#fdca26\"], [1.0, \"#f0f921\"]], \"type\": \"heatmap\"}], \"heatmapgl\": [{\"colorbar\": {\"outlinewidth\": 0, \"ticks\": \"\"}, \"colorscale\": [[0.0, \"#0d0887\"], [0.1111111111111111, \"#46039f\"], [0.2222222222222222, \"#7201a8\"], [0.3333333333333333, \"#9c179e\"], [0.4444444444444444, \"#bd3786\"], [0.5555555555555556, \"#d8576b\"], [0.6666666666666666, \"#ed7953\"], [0.7777777777777778, \"#fb9f3a\"], [0.8888888888888888, \"#fdca26\"], [1.0, \"#f0f921\"]], \"type\": \"heatmapgl\"}], \"histogram\": [{\"marker\": {\"colorbar\": {\"outlinewidth\": 0, \"ticks\": \"\"}}, \"type\": \"histogram\"}], \"histogram2d\": [{\"colorbar\": {\"outlinewidth\": 0, \"ticks\": \"\"}, \"colorscale\": [[0.0, \"#0d0887\"], [0.1111111111111111, \"#46039f\"], [0.2222222222222222, \"#7201a8\"], [0.3333333333333333, \"#9c179e\"], [0.4444444444444444, \"#bd3786\"], [0.5555555555555556, \"#d8576b\"], [0.6666666666666666, \"#ed7953\"], [0.7777777777777778, \"#fb9f3a\"], [0.8888888888888888, \"#fdca26\"], [1.0, \"#f0f921\"]], \"type\": \"histogram2d\"}], \"histogram2dcontour\": [{\"colorbar\": {\"outlinewidth\": 0, \"ticks\": \"\"}, \"colorscale\": [[0.0, \"#0d0887\"], [0.1111111111111111, \"#46039f\"], [0.2222222222222222, \"#7201a8\"], [0.3333333333333333, \"#9c179e\"], [0.4444444444444444, \"#bd3786\"], [0.5555555555555556, \"#d8576b\"], [0.6666666666666666, \"#ed7953\"], [0.7777777777777778, \"#fb9f3a\"], [0.8888888888888888, \"#fdca26\"], [1.0, \"#f0f921\"]], \"type\": \"histogram2dcontour\"}], \"mesh3d\": [{\"colorbar\": {\"outlinewidth\": 0, \"ticks\": \"\"}, \"type\": \"mesh3d\"}], \"parcoords\": [{\"line\": {\"colorbar\": {\"outlinewidth\": 0, \"ticks\": \"\"}}, \"type\": \"parcoords\"}], \"pie\": [{\"automargin\": true, \"type\": \"pie\"}], \"scatter\": [{\"marker\": {\"colorbar\": {\"outlinewidth\": 0, \"ticks\": \"\"}}, \"type\": \"scatter\"}], \"scatter3d\": [{\"line\": {\"colorbar\": {\"outlinewidth\": 0, \"ticks\": \"\"}}, \"marker\": {\"colorbar\": {\"outlinewidth\": 0, \"ticks\": \"\"}}, \"type\": \"scatter3d\"}], \"scattercarpet\": [{\"marker\": {\"colorbar\": {\"outlinewidth\": 0, \"ticks\": \"\"}}, \"type\": \"scattercarpet\"}], \"scattergeo\": [{\"marker\": {\"colorbar\": {\"outlinewidth\": 0, \"ticks\": \"\"}}, \"type\": \"scattergeo\"}], \"scattergl\": [{\"marker\": {\"colorbar\": {\"outlinewidth\": 0, \"ticks\": \"\"}}, \"type\": \"scattergl\"}], \"scattermapbox\": [{\"marker\": {\"colorbar\": {\"outlinewidth\": 0, \"ticks\": \"\"}}, \"type\": \"scattermapbox\"}], \"scatterpolar\": [{\"marker\": {\"colorbar\": {\"outlinewidth\": 0, \"ticks\": \"\"}}, \"type\": \"scatterpolar\"}], \"scatterpolargl\": [{\"marker\": {\"colorbar\": {\"outlinewidth\": 0, \"ticks\": \"\"}}, \"type\": \"scatterpolargl\"}], \"scatterternary\": [{\"marker\": {\"colorbar\": {\"outlinewidth\": 0, \"ticks\": \"\"}}, \"type\": \"scatterternary\"}], \"surface\": [{\"colorbar\": {\"outlinewidth\": 0, \"ticks\": \"\"}, \"colorscale\": [[0.0, \"#0d0887\"], [0.1111111111111111, \"#46039f\"], [0.2222222222222222, \"#7201a8\"], [0.3333333333333333, \"#9c179e\"], [0.4444444444444444, \"#bd3786\"], [0.5555555555555556, \"#d8576b\"], [0.6666666666666666, \"#ed7953\"], [0.7777777777777778, \"#fb9f3a\"], [0.8888888888888888, \"#fdca26\"], [1.0, \"#f0f921\"]], \"type\": \"surface\"}], \"table\": [{\"cells\": {\"fill\": {\"color\": \"#EBF0F8\"}, \"line\": {\"color\": \"white\"}}, \"header\": {\"fill\": {\"color\": \"#C8D4E3\"}, \"line\": {\"color\": \"white\"}}, \"type\": \"table\"}]}, \"layout\": {\"annotationdefaults\": {\"arrowcolor\": \"#2a3f5f\", \"arrowhead\": 0, \"arrowwidth\": 1}, \"coloraxis\": {\"colorbar\": {\"outlinewidth\": 0, \"ticks\": \"\"}}, \"colorscale\": {\"diverging\": [[0, \"#8e0152\"], [0.1, \"#c51b7d\"], [0.2, \"#de77ae\"], [0.3, \"#f1b6da\"], [0.4, \"#fde0ef\"], [0.5, \"#f7f7f7\"], [0.6, \"#e6f5d0\"], [0.7, \"#b8e186\"], [0.8, \"#7fbc41\"], [0.9, \"#4d9221\"], [1, \"#276419\"]], \"sequential\": [[0.0, \"#0d0887\"], [0.1111111111111111, \"#46039f\"], [0.2222222222222222, \"#7201a8\"], [0.3333333333333333, \"#9c179e\"], [0.4444444444444444, \"#bd3786\"], [0.5555555555555556, \"#d8576b\"], [0.6666666666666666, \"#ed7953\"], [0.7777777777777778, \"#fb9f3a\"], [0.8888888888888888, \"#fdca26\"], [1.0, \"#f0f921\"]], \"sequentialminus\": [[0.0, \"#0d0887\"], [0.1111111111111111, \"#46039f\"], [0.2222222222222222, \"#7201a8\"], [0.3333333333333333, \"#9c179e\"], [0.4444444444444444, \"#bd3786\"], [0.5555555555555556, \"#d8576b\"], [0.6666666666666666, \"#ed7953\"], [0.7777777777777778, \"#fb9f3a\"], [0.8888888888888888, \"#fdca26\"], [1.0, \"#f0f921\"]]}, \"colorway\": [\"#636efa\", \"#EF553B\", \"#00cc96\", \"#ab63fa\", \"#FFA15A\", \"#19d3f3\", \"#FF6692\", \"#B6E880\", \"#FF97FF\", \"#FECB52\"], \"font\": {\"color\": \"#2a3f5f\"}, \"geo\": {\"bgcolor\": \"white\", \"lakecolor\": \"white\", \"landcolor\": \"#E5ECF6\", \"showlakes\": true, \"showland\": true, \"subunitcolor\": \"white\"}, \"hoverlabel\": {\"align\": \"left\"}, \"hovermode\": \"closest\", \"mapbox\": {\"style\": \"light\"}, \"paper_bgcolor\": \"white\", \"plot_bgcolor\": \"#E5ECF6\", \"polar\": {\"angularaxis\": {\"gridcolor\": \"white\", \"linecolor\": \"white\", \"ticks\": \"\"}, \"bgcolor\": \"#E5ECF6\", \"radialaxis\": {\"gridcolor\": \"white\", \"linecolor\": \"white\", \"ticks\": \"\"}}, \"scene\": {\"xaxis\": {\"backgroundcolor\": \"#E5ECF6\", \"gridcolor\": \"white\", \"gridwidth\": 2, \"linecolor\": \"white\", \"showbackground\": true, \"ticks\": \"\", \"zerolinecolor\": \"white\"}, \"yaxis\": {\"backgroundcolor\": \"#E5ECF6\", \"gridcolor\": \"white\", \"gridwidth\": 2, \"linecolor\": \"white\", \"showbackground\": true, \"ticks\": \"\", \"zerolinecolor\": \"white\"}, \"zaxis\": {\"backgroundcolor\": \"#E5ECF6\", \"gridcolor\": \"white\", \"gridwidth\": 2, \"linecolor\": \"white\", \"showbackground\": true, \"ticks\": \"\", \"zerolinecolor\": \"white\"}}, \"shapedefaults\": {\"line\": {\"color\": \"#2a3f5f\"}}, \"ternary\": {\"aaxis\": {\"gridcolor\": \"white\", \"linecolor\": \"white\", \"ticks\": \"\"}, \"baxis\": {\"gridcolor\": \"white\", \"linecolor\": \"white\", \"ticks\": \"\"}, \"bgcolor\": \"#E5ECF6\", \"caxis\": {\"gridcolor\": \"white\", \"linecolor\": \"white\", \"ticks\": \"\"}}, \"title\": {\"x\": 0.05}, \"xaxis\": {\"automargin\": true, \"gridcolor\": \"white\", \"linecolor\": \"white\", \"ticks\": \"\", \"title\": {\"standoff\": 15}, \"zerolinecolor\": \"white\", \"zerolinewidth\": 2}, \"yaxis\": {\"automargin\": true, \"gridcolor\": \"white\", \"linecolor\": \"white\", \"ticks\": \"\", \"title\": {\"standoff\": 15}, \"zerolinecolor\": \"white\", \"zerolinewidth\": 2}}}, \"title\": {\"text\": \"Normal K-Means 3D\"}},\n",
              "                        {\"responsive\": true}\n",
              "                    ).then(function(){\n",
              "                            \n",
              "var gd = document.getElementById('84cf0857-4654-4dd5-bcb1-992d2268e4c5');\n",
              "var x = new MutationObserver(function (mutations, observer) {{\n",
              "        var display = window.getComputedStyle(gd).display;\n",
              "        if (!display || display === 'none') {{\n",
              "            console.log([gd, 'removed!']);\n",
              "            Plotly.purge(gd);\n",
              "            observer.disconnect();\n",
              "        }}\n",
              "}});\n",
              "\n",
              "// Listen for the removal of the full notebook cells\n",
              "var notebookContainer = gd.closest('#notebook-container');\n",
              "if (notebookContainer) {{\n",
              "    x.observe(notebookContainer, {childList: true});\n",
              "}}\n",
              "\n",
              "// Listen for the clearing of the current output cell\n",
              "var outputEl = gd.closest('.output');\n",
              "if (outputEl) {{\n",
              "    x.observe(outputEl, {childList: true});\n",
              "}}\n",
              "\n",
              "                        })\n",
              "                };\n",
              "                \n",
              "            </script>\n",
              "        </div>\n",
              "</body>\n",
              "</html>"
            ]
          },
          "metadata": {
            "tags": []
          }
        }
      ]
    },
    {
      "cell_type": "code",
      "metadata": {
        "id": "ymS8MuZN-YsQ",
        "colab": {
          "base_uri": "https://localhost:8080/",
          "height": 542
        },
        "outputId": "ba7f4c39-dfb0-440e-e9d6-c0471dd009c1"
      },
      "source": [
        "fig = px.scatter_3d(X, x='Age', y='Annual Income (k$)', z='Spending Score (1-100)', color=labels_frame_df, title=\"DP K-Means 3D\")\n",
        "fig.update_layout(font_size=9)\n",
        "fig.update_layout(legend_font_size=12)\n",
        "fig.show()"
      ],
      "execution_count": 13,
      "outputs": [
        {
          "output_type": "display_data",
          "data": {
            "text/html": [
              "<html>\n",
              "<head><meta charset=\"utf-8\" /></head>\n",
              "<body>\n",
              "    <div>\n",
              "            <script src=\"https://cdnjs.cloudflare.com/ajax/libs/mathjax/2.7.5/MathJax.js?config=TeX-AMS-MML_SVG\"></script><script type=\"text/javascript\">if (window.MathJax) {MathJax.Hub.Config({SVG: {font: \"STIX-Web\"}});}</script>\n",
              "                <script type=\"text/javascript\">window.PlotlyConfig = {MathJaxConfig: 'local'};</script>\n",
              "        <script src=\"https://cdn.plot.ly/plotly-latest.min.js\"></script>    \n",
              "            <div id=\"e7f14901-2540-4b9c-9537-2d8f4f6de583\" class=\"plotly-graph-div\" style=\"height:525px; width:100%;\"></div>\n",
              "            <script type=\"text/javascript\">\n",
              "                \n",
              "                    window.PLOTLYENV=window.PLOTLYENV || {};\n",
              "                    \n",
              "                if (document.getElementById(\"e7f14901-2540-4b9c-9537-2d8f4f6de583\")) {\n",
              "                    Plotly.newPlot(\n",
              "                        'e7f14901-2540-4b9c-9537-2d8f4f6de583',\n",
              "                        [{\"hoverlabel\": {\"namelength\": 0}, \"hovertemplate\": \"color=Group 3<br>Age=%{x}<br>Annual Income (k$)=%{y}<br>Spending Score (1-100)=%{z}\", \"legendgroup\": \"color=Group 3\", \"marker\": {\"color\": \"#636efa\", \"symbol\": \"circle\"}, \"mode\": \"markers\", \"name\": \"color=Group 3\", \"scene\": \"scene\", \"showlegend\": true, \"type\": \"scatter3d\", \"x\": [19, 21, 23, 31, 22, 23, 30, 35, 24, 22, 20, 35, 25, 31, 29, 35, 23, 21, 18, 21, 30, 20, 24, 31, 24, 19], \"y\": [15, 15, 16, 17, 17, 18, 19, 19, 20, 20, 21, 23, 24, 25, 28, 28, 29, 30, 33, 33, 34, 37, 38, 39, 39, 46], \"z\": [39, 81, 77, 40, 76, 94, 72, 99, 77, 79, 66, 98, 73, 73, 82, 61, 87, 73, 92, 81, 73, 75, 92, 61, 65, 55]}, {\"hoverlabel\": {\"namelength\": 0}, \"hovertemplate\": \"color=Group 2<br>Age=%{x}<br>Annual Income (k$)=%{y}<br>Spending Score (1-100)=%{z}\", \"legendgroup\": \"color=Group 2\", \"marker\": {\"color\": \"#EF553B\", \"symbol\": \"circle\"}, \"mode\": \"markers\", \"name\": \"color=Group 2\", \"scene\": \"scene\", \"showlegend\": true, \"type\": \"scatter3d\", \"x\": [20, 35, 64, 67, 58, 37, 35, 46, 54, 60, 53, 49, 42], \"y\": [16, 18, 19, 19, 20, 20, 21, 25, 28, 30, 33, 33, 34], \"z\": [6, 6, 3, 14, 15, 13, 35, 5, 14, 4, 4, 14, 17]}, {\"hoverlabel\": {\"namelength\": 0}, \"hovertemplate\": \"color=Group 5<br>Age=%{x}<br>Annual Income (k$)=%{y}<br>Spending Score (1-100)=%{z}\", \"legendgroup\": \"color=Group 5\", \"marker\": {\"color\": \"#00cc96\", \"symbol\": \"circle\"}, \"mode\": \"markers\", \"name\": \"color=Group 5\", \"scene\": \"scene\", \"showlegend\": true, \"type\": \"scatter3d\", \"x\": [52, 35, 45, 40, 36, 65, 48, 49, 50, 27, 29, 31, 49, 33, 31, 59, 50, 47, 51, 69, 27, 53, 70, 67, 54, 63, 43, 68, 32, 70, 47, 60, 60, 59, 45, 40, 49, 57, 38, 67, 46, 48, 55, 50, 68, 48, 40, 32, 47, 48, 49, 67, 49, 66, 54, 68, 66, 65, 38, 63, 51, 38], \"y\": [23, 24, 28, 29, 37, 38, 39, 39, 40, 40, 40, 40, 42, 42, 43, 43, 43, 43, 44, 44, 46, 46, 46, 47, 47, 48, 48, 48, 48, 49, 49, 50, 50, 54, 54, 54, 54, 54, 54, 54, 54, 54, 57, 58, 59, 60, 60, 60, 60, 61, 62, 62, 62, 63, 63, 63, 63, 63, 64, 65, 67, 67], \"z\": [29, 35, 32, 31, 26, 35, 36, 28, 55, 47, 42, 42, 52, 60, 54, 60, 45, 41, 50, 46, 51, 46, 56, 52, 59, 51, 50, 48, 47, 55, 42, 49, 56, 47, 53, 48, 42, 51, 55, 41, 44, 46, 58, 46, 55, 49, 40, 42, 47, 42, 48, 59, 56, 50, 46, 43, 48, 52, 42, 43, 43, 40]}, {\"hoverlabel\": {\"namelength\": 0}, \"hovertemplate\": \"color=Group 4<br>Age=%{x}<br>Annual Income (k$)=%{y}<br>Spending Score (1-100)=%{z}\", \"legendgroup\": \"color=Group 4\", \"marker\": {\"color\": \"#ab63fa\", \"symbol\": \"circle\"}, \"mode\": \"markers\", \"name\": \"color=Group 4\", \"scene\": \"scene\", \"showlegend\": true, \"type\": \"scatter3d\", \"x\": [18, 19, 26, 23, 21, 22, 34, 18, 24, 27, 20, 23, 26, 21, 19, 19, 18, 19, 49, 50, 27, 40, 39, 31, 40, 38, 39, 31, 29, 32, 35, 32, 28, 32, 28, 32, 34, 39, 38, 27, 30, 30, 29, 31, 36, 33, 32, 28, 36, 30, 27, 35, 32, 29, 30, 28, 36, 32, 38, 35, 32, 30], \"y\": [48, 48, 54, 54, 54, 57, 58, 59, 60, 60, 61, 62, 62, 62, 63, 64, 65, 65, 65, 67, 67, 69, 69, 70, 71, 71, 71, 72, 73, 73, 74, 75, 76, 76, 77, 77, 78, 78, 78, 78, 78, 78, 79, 81, 85, 86, 87, 87, 87, 88, 88, 93, 97, 98, 99, 101, 103, 103, 113, 120, 126, 137], \"z\": [59, 59, 54, 52, 57, 55, 60, 41, 52, 50, 49, 41, 55, 42, 54, 46, 48, 50, 59, 57, 56, 58, 91, 77, 95, 75, 75, 71, 88, 73, 72, 93, 40, 87, 97, 74, 90, 88, 76, 89, 78, 73, 83, 93, 75, 95, 63, 75, 92, 86, 69, 90, 86, 88, 97, 68, 85, 69, 91, 79, 74, 83]}, {\"hoverlabel\": {\"namelength\": 0}, \"hovertemplate\": \"color=Group 1<br>Age=%{x}<br>Annual Income (k$)=%{y}<br>Spending Score (1-100)=%{z}\", \"legendgroup\": \"color=Group 1\", \"marker\": {\"color\": \"#FFA15A\", \"symbol\": \"circle\"}, \"mode\": \"markers\", \"name\": \"color=Group 1\", \"scene\": \"scene\", \"showlegend\": true, \"type\": \"scatter3d\", \"x\": [23, 43, 59, 47, 25, 20, 44, 19, 57, 25, 48, 34, 43, 44, 47, 37, 34, 56, 19, 50, 42, 36, 40, 36, 52, 58, 59, 37, 46, 41, 54, 41, 34, 33, 47, 45, 32], \"y\": [70, 71, 71, 71, 72, 73, 73, 74, 75, 77, 77, 78, 78, 78, 78, 78, 78, 79, 81, 85, 86, 87, 87, 87, 88, 88, 93, 97, 98, 99, 101, 103, 103, 113, 120, 126, 137], \"z\": [29, 35, 11, 9, 34, 5, 7, 10, 5, 12, 36, 22, 17, 20, 16, 1, 1, 35, 5, 26, 20, 27, 13, 10, 13, 15, 14, 32, 15, 39, 24, 17, 23, 8, 16, 28, 18]}],\n",
              "                        {\"font\": {\"size\": 9}, \"legend\": {\"font\": {\"size\": 12}, \"tracegroupgap\": 0}, \"scene\": {\"domain\": {\"x\": [0.0, 1.0], \"y\": [0.0, 1.0]}, \"xaxis\": {\"title\": {\"text\": \"Age\"}}, \"yaxis\": {\"title\": {\"text\": \"Annual Income (k$)\"}}, \"zaxis\": {\"title\": {\"text\": \"Spending Score (1-100)\"}}}, \"template\": {\"data\": {\"bar\": [{\"error_x\": {\"color\": \"#2a3f5f\"}, \"error_y\": {\"color\": \"#2a3f5f\"}, \"marker\": {\"line\": {\"color\": \"#E5ECF6\", \"width\": 0.5}}, \"type\": \"bar\"}], \"barpolar\": [{\"marker\": {\"line\": {\"color\": \"#E5ECF6\", \"width\": 0.5}}, \"type\": \"barpolar\"}], \"carpet\": [{\"aaxis\": {\"endlinecolor\": \"#2a3f5f\", \"gridcolor\": \"white\", \"linecolor\": \"white\", \"minorgridcolor\": \"white\", \"startlinecolor\": \"#2a3f5f\"}, \"baxis\": {\"endlinecolor\": \"#2a3f5f\", \"gridcolor\": \"white\", \"linecolor\": \"white\", \"minorgridcolor\": \"white\", \"startlinecolor\": \"#2a3f5f\"}, \"type\": \"carpet\"}], \"choropleth\": [{\"colorbar\": {\"outlinewidth\": 0, \"ticks\": \"\"}, \"type\": \"choropleth\"}], \"contour\": [{\"colorbar\": {\"outlinewidth\": 0, \"ticks\": \"\"}, \"colorscale\": [[0.0, \"#0d0887\"], [0.1111111111111111, \"#46039f\"], [0.2222222222222222, \"#7201a8\"], [0.3333333333333333, \"#9c179e\"], [0.4444444444444444, \"#bd3786\"], [0.5555555555555556, \"#d8576b\"], [0.6666666666666666, \"#ed7953\"], [0.7777777777777778, \"#fb9f3a\"], [0.8888888888888888, \"#fdca26\"], [1.0, \"#f0f921\"]], \"type\": \"contour\"}], \"contourcarpet\": [{\"colorbar\": {\"outlinewidth\": 0, \"ticks\": \"\"}, \"type\": \"contourcarpet\"}], \"heatmap\": [{\"colorbar\": {\"outlinewidth\": 0, \"ticks\": \"\"}, \"colorscale\": [[0.0, \"#0d0887\"], [0.1111111111111111, \"#46039f\"], [0.2222222222222222, \"#7201a8\"], [0.3333333333333333, \"#9c179e\"], [0.4444444444444444, \"#bd3786\"], [0.5555555555555556, \"#d8576b\"], [0.6666666666666666, \"#ed7953\"], [0.7777777777777778, \"#fb9f3a\"], [0.8888888888888888, \"#fdca26\"], [1.0, \"#f0f921\"]], \"type\": \"heatmap\"}], \"heatmapgl\": [{\"colorbar\": {\"outlinewidth\": 0, \"ticks\": \"\"}, \"colorscale\": [[0.0, \"#0d0887\"], [0.1111111111111111, \"#46039f\"], [0.2222222222222222, \"#7201a8\"], [0.3333333333333333, \"#9c179e\"], [0.4444444444444444, \"#bd3786\"], [0.5555555555555556, \"#d8576b\"], [0.6666666666666666, \"#ed7953\"], [0.7777777777777778, \"#fb9f3a\"], [0.8888888888888888, \"#fdca26\"], [1.0, \"#f0f921\"]], \"type\": \"heatmapgl\"}], \"histogram\": [{\"marker\": {\"colorbar\": {\"outlinewidth\": 0, \"ticks\": \"\"}}, \"type\": \"histogram\"}], \"histogram2d\": [{\"colorbar\": {\"outlinewidth\": 0, \"ticks\": \"\"}, \"colorscale\": [[0.0, \"#0d0887\"], [0.1111111111111111, \"#46039f\"], [0.2222222222222222, \"#7201a8\"], [0.3333333333333333, \"#9c179e\"], [0.4444444444444444, \"#bd3786\"], [0.5555555555555556, \"#d8576b\"], [0.6666666666666666, \"#ed7953\"], [0.7777777777777778, \"#fb9f3a\"], [0.8888888888888888, \"#fdca26\"], [1.0, \"#f0f921\"]], \"type\": \"histogram2d\"}], \"histogram2dcontour\": [{\"colorbar\": {\"outlinewidth\": 0, \"ticks\": \"\"}, \"colorscale\": [[0.0, \"#0d0887\"], [0.1111111111111111, \"#46039f\"], [0.2222222222222222, \"#7201a8\"], [0.3333333333333333, \"#9c179e\"], [0.4444444444444444, \"#bd3786\"], [0.5555555555555556, \"#d8576b\"], [0.6666666666666666, \"#ed7953\"], [0.7777777777777778, \"#fb9f3a\"], [0.8888888888888888, \"#fdca26\"], [1.0, \"#f0f921\"]], \"type\": \"histogram2dcontour\"}], \"mesh3d\": [{\"colorbar\": {\"outlinewidth\": 0, \"ticks\": \"\"}, \"type\": \"mesh3d\"}], \"parcoords\": [{\"line\": {\"colorbar\": {\"outlinewidth\": 0, \"ticks\": \"\"}}, \"type\": \"parcoords\"}], \"pie\": [{\"automargin\": true, \"type\": \"pie\"}], \"scatter\": [{\"marker\": {\"colorbar\": {\"outlinewidth\": 0, \"ticks\": \"\"}}, \"type\": \"scatter\"}], \"scatter3d\": [{\"line\": {\"colorbar\": {\"outlinewidth\": 0, \"ticks\": \"\"}}, \"marker\": {\"colorbar\": {\"outlinewidth\": 0, \"ticks\": \"\"}}, \"type\": \"scatter3d\"}], \"scattercarpet\": [{\"marker\": {\"colorbar\": {\"outlinewidth\": 0, \"ticks\": \"\"}}, \"type\": \"scattercarpet\"}], \"scattergeo\": [{\"marker\": {\"colorbar\": {\"outlinewidth\": 0, \"ticks\": \"\"}}, \"type\": \"scattergeo\"}], \"scattergl\": [{\"marker\": {\"colorbar\": {\"outlinewidth\": 0, \"ticks\": \"\"}}, \"type\": \"scattergl\"}], \"scattermapbox\": [{\"marker\": {\"colorbar\": {\"outlinewidth\": 0, \"ticks\": \"\"}}, \"type\": \"scattermapbox\"}], \"scatterpolar\": [{\"marker\": {\"colorbar\": {\"outlinewidth\": 0, \"ticks\": \"\"}}, \"type\": \"scatterpolar\"}], \"scatterpolargl\": [{\"marker\": {\"colorbar\": {\"outlinewidth\": 0, \"ticks\": \"\"}}, \"type\": \"scatterpolargl\"}], \"scatterternary\": [{\"marker\": {\"colorbar\": {\"outlinewidth\": 0, \"ticks\": \"\"}}, \"type\": \"scatterternary\"}], \"surface\": [{\"colorbar\": {\"outlinewidth\": 0, \"ticks\": \"\"}, \"colorscale\": [[0.0, \"#0d0887\"], [0.1111111111111111, \"#46039f\"], [0.2222222222222222, \"#7201a8\"], [0.3333333333333333, \"#9c179e\"], [0.4444444444444444, \"#bd3786\"], [0.5555555555555556, \"#d8576b\"], [0.6666666666666666, \"#ed7953\"], [0.7777777777777778, \"#fb9f3a\"], [0.8888888888888888, \"#fdca26\"], [1.0, \"#f0f921\"]], \"type\": \"surface\"}], \"table\": [{\"cells\": {\"fill\": {\"color\": \"#EBF0F8\"}, \"line\": {\"color\": \"white\"}}, \"header\": {\"fill\": {\"color\": \"#C8D4E3\"}, \"line\": {\"color\": \"white\"}}, \"type\": \"table\"}]}, \"layout\": {\"annotationdefaults\": {\"arrowcolor\": \"#2a3f5f\", \"arrowhead\": 0, \"arrowwidth\": 1}, \"coloraxis\": {\"colorbar\": {\"outlinewidth\": 0, \"ticks\": \"\"}}, \"colorscale\": {\"diverging\": [[0, \"#8e0152\"], [0.1, \"#c51b7d\"], [0.2, \"#de77ae\"], [0.3, \"#f1b6da\"], [0.4, \"#fde0ef\"], [0.5, \"#f7f7f7\"], [0.6, \"#e6f5d0\"], [0.7, \"#b8e186\"], [0.8, \"#7fbc41\"], [0.9, \"#4d9221\"], [1, \"#276419\"]], \"sequential\": [[0.0, \"#0d0887\"], [0.1111111111111111, \"#46039f\"], [0.2222222222222222, \"#7201a8\"], [0.3333333333333333, \"#9c179e\"], [0.4444444444444444, \"#bd3786\"], [0.5555555555555556, \"#d8576b\"], [0.6666666666666666, \"#ed7953\"], [0.7777777777777778, \"#fb9f3a\"], [0.8888888888888888, \"#fdca26\"], [1.0, \"#f0f921\"]], \"sequentialminus\": [[0.0, \"#0d0887\"], [0.1111111111111111, \"#46039f\"], [0.2222222222222222, \"#7201a8\"], [0.3333333333333333, \"#9c179e\"], [0.4444444444444444, \"#bd3786\"], [0.5555555555555556, \"#d8576b\"], [0.6666666666666666, \"#ed7953\"], [0.7777777777777778, \"#fb9f3a\"], [0.8888888888888888, \"#fdca26\"], [1.0, \"#f0f921\"]]}, \"colorway\": [\"#636efa\", \"#EF553B\", \"#00cc96\", \"#ab63fa\", \"#FFA15A\", \"#19d3f3\", \"#FF6692\", \"#B6E880\", \"#FF97FF\", \"#FECB52\"], \"font\": {\"color\": \"#2a3f5f\"}, \"geo\": {\"bgcolor\": \"white\", \"lakecolor\": \"white\", \"landcolor\": \"#E5ECF6\", \"showlakes\": true, \"showland\": true, \"subunitcolor\": \"white\"}, \"hoverlabel\": {\"align\": \"left\"}, \"hovermode\": \"closest\", \"mapbox\": {\"style\": \"light\"}, \"paper_bgcolor\": \"white\", \"plot_bgcolor\": \"#E5ECF6\", \"polar\": {\"angularaxis\": {\"gridcolor\": \"white\", \"linecolor\": \"white\", \"ticks\": \"\"}, \"bgcolor\": \"#E5ECF6\", \"radialaxis\": {\"gridcolor\": \"white\", \"linecolor\": \"white\", \"ticks\": \"\"}}, \"scene\": {\"xaxis\": {\"backgroundcolor\": \"#E5ECF6\", \"gridcolor\": \"white\", \"gridwidth\": 2, \"linecolor\": \"white\", \"showbackground\": true, \"ticks\": \"\", \"zerolinecolor\": \"white\"}, \"yaxis\": {\"backgroundcolor\": \"#E5ECF6\", \"gridcolor\": \"white\", \"gridwidth\": 2, \"linecolor\": \"white\", \"showbackground\": true, \"ticks\": \"\", \"zerolinecolor\": \"white\"}, \"zaxis\": {\"backgroundcolor\": \"#E5ECF6\", \"gridcolor\": \"white\", \"gridwidth\": 2, \"linecolor\": \"white\", \"showbackground\": true, \"ticks\": \"\", \"zerolinecolor\": \"white\"}}, \"shapedefaults\": {\"line\": {\"color\": \"#2a3f5f\"}}, \"ternary\": {\"aaxis\": {\"gridcolor\": \"white\", \"linecolor\": \"white\", \"ticks\": \"\"}, \"baxis\": {\"gridcolor\": \"white\", \"linecolor\": \"white\", \"ticks\": \"\"}, \"bgcolor\": \"#E5ECF6\", \"caxis\": {\"gridcolor\": \"white\", \"linecolor\": \"white\", \"ticks\": \"\"}}, \"title\": {\"x\": 0.05}, \"xaxis\": {\"automargin\": true, \"gridcolor\": \"white\", \"linecolor\": \"white\", \"ticks\": \"\", \"title\": {\"standoff\": 15}, \"zerolinecolor\": \"white\", \"zerolinewidth\": 2}, \"yaxis\": {\"automargin\": true, \"gridcolor\": \"white\", \"linecolor\": \"white\", \"ticks\": \"\", \"title\": {\"standoff\": 15}, \"zerolinecolor\": \"white\", \"zerolinewidth\": 2}}}, \"title\": {\"text\": \"DP K-Means 3D\"}},\n",
              "                        {\"responsive\": true}\n",
              "                    ).then(function(){\n",
              "                            \n",
              "var gd = document.getElementById('e7f14901-2540-4b9c-9537-2d8f4f6de583');\n",
              "var x = new MutationObserver(function (mutations, observer) {{\n",
              "        var display = window.getComputedStyle(gd).display;\n",
              "        if (!display || display === 'none') {{\n",
              "            console.log([gd, 'removed!']);\n",
              "            Plotly.purge(gd);\n",
              "            observer.disconnect();\n",
              "        }}\n",
              "}});\n",
              "\n",
              "// Listen for the removal of the full notebook cells\n",
              "var notebookContainer = gd.closest('#notebook-container');\n",
              "if (notebookContainer) {{\n",
              "    x.observe(notebookContainer, {childList: true});\n",
              "}}\n",
              "\n",
              "// Listen for the clearing of the current output cell\n",
              "var outputEl = gd.closest('.output');\n",
              "if (outputEl) {{\n",
              "    x.observe(outputEl, {childList: true});\n",
              "}}\n",
              "\n",
              "                        })\n",
              "                };\n",
              "                \n",
              "            </script>\n",
              "        </div>\n",
              "</body>\n",
              "</html>"
            ]
          },
          "metadata": {
            "tags": []
          }
        }
      ]
    },
    {
      "cell_type": "markdown",
      "metadata": {
        "id": "h6zyj8cuOMVW"
      },
      "source": [
        "#Yousef Space\n"
      ]
    },
    {
      "cell_type": "markdown",
      "metadata": {
        "id": "lz-WU4DwB87f"
      },
      "source": [
        "This section is done by Yousef. it will be used to analyze the result of DP-Kmeans algorithm. First, we will be generating synthatic data, even though it does not represent good data as original distribution, it will help in finding the error of different epsilon values. "
      ]
    },
    {
      "cell_type": "code",
      "metadata": {
        "id": "evYR4ChhDvQC"
      },
      "source": [
        "data = np.random.randint(0,2,size=1500)\n",
        "dfgender = pd.DataFrame(data, columns=['Gender'])\n",
        "\n",
        "data = np.random.randint(18,71,size=1500)\n",
        "dfage = pd.DataFrame(data, columns=['Age'])\n",
        "\n",
        "data = np.random.randint(15,138,size=1500)\n",
        "dfincome = pd.DataFrame(data, columns=['Annual Income (k$)'])\n",
        "\n",
        "data = np.random.randint(1,100,size=1500)\n",
        "dfscore = pd.DataFrame(data, columns=['Spending Score (1-100)'])\n",
        "\n",
        "dfgender['Age'] = dfage\n",
        "dfgender['Annual Income (k$)'] = dfincome\n",
        "dfgender['Spending Score (1-100)'] = dfscore"
      ],
      "execution_count": 14,
      "outputs": []
    },
    {
      "cell_type": "code",
      "metadata": {
        "id": "Y84MqIgcNmX6",
        "colab": {
          "base_uri": "https://localhost:8080/",
          "height": 419
        },
        "outputId": "cca7bb15-5b94-49c6-aff7-5baca311a7e9"
      },
      "source": [
        "customers2 = customers.append(dfgender)\n",
        "customers2 = customers2.drop(\"CustomerID\", axis=1) #data in dataframe form\n",
        "customers3 = customers2.sort_values('Annual Income (k$)')\n",
        "customers3"
      ],
      "execution_count": 15,
      "outputs": [
        {
          "output_type": "execute_result",
          "data": {
            "text/html": [
              "<div>\n",
              "<style scoped>\n",
              "    .dataframe tbody tr th:only-of-type {\n",
              "        vertical-align: middle;\n",
              "    }\n",
              "\n",
              "    .dataframe tbody tr th {\n",
              "        vertical-align: top;\n",
              "    }\n",
              "\n",
              "    .dataframe thead th {\n",
              "        text-align: right;\n",
              "    }\n",
              "</style>\n",
              "<table border=\"1\" class=\"dataframe\">\n",
              "  <thead>\n",
              "    <tr style=\"text-align: right;\">\n",
              "      <th></th>\n",
              "      <th>Gender</th>\n",
              "      <th>Age</th>\n",
              "      <th>Annual Income (k$)</th>\n",
              "      <th>Spending Score (1-100)</th>\n",
              "    </tr>\n",
              "  </thead>\n",
              "  <tbody>\n",
              "    <tr>\n",
              "      <th>0</th>\n",
              "      <td>0</td>\n",
              "      <td>19</td>\n",
              "      <td>15</td>\n",
              "      <td>39</td>\n",
              "    </tr>\n",
              "    <tr>\n",
              "      <th>405</th>\n",
              "      <td>1</td>\n",
              "      <td>61</td>\n",
              "      <td>15</td>\n",
              "      <td>8</td>\n",
              "    </tr>\n",
              "    <tr>\n",
              "      <th>406</th>\n",
              "      <td>1</td>\n",
              "      <td>47</td>\n",
              "      <td>15</td>\n",
              "      <td>78</td>\n",
              "    </tr>\n",
              "    <tr>\n",
              "      <th>483</th>\n",
              "      <td>0</td>\n",
              "      <td>21</td>\n",
              "      <td>15</td>\n",
              "      <td>75</td>\n",
              "    </tr>\n",
              "    <tr>\n",
              "      <th>603</th>\n",
              "      <td>1</td>\n",
              "      <td>61</td>\n",
              "      <td>15</td>\n",
              "      <td>86</td>\n",
              "    </tr>\n",
              "    <tr>\n",
              "      <th>...</th>\n",
              "      <td>...</td>\n",
              "      <td>...</td>\n",
              "      <td>...</td>\n",
              "      <td>...</td>\n",
              "    </tr>\n",
              "    <tr>\n",
              "      <th>1252</th>\n",
              "      <td>1</td>\n",
              "      <td>25</td>\n",
              "      <td>137</td>\n",
              "      <td>41</td>\n",
              "    </tr>\n",
              "    <tr>\n",
              "      <th>436</th>\n",
              "      <td>1</td>\n",
              "      <td>44</td>\n",
              "      <td>137</td>\n",
              "      <td>27</td>\n",
              "    </tr>\n",
              "    <tr>\n",
              "      <th>287</th>\n",
              "      <td>1</td>\n",
              "      <td>23</td>\n",
              "      <td>137</td>\n",
              "      <td>66</td>\n",
              "    </tr>\n",
              "    <tr>\n",
              "      <th>269</th>\n",
              "      <td>0</td>\n",
              "      <td>66</td>\n",
              "      <td>137</td>\n",
              "      <td>90</td>\n",
              "    </tr>\n",
              "    <tr>\n",
              "      <th>198</th>\n",
              "      <td>0</td>\n",
              "      <td>32</td>\n",
              "      <td>137</td>\n",
              "      <td>18</td>\n",
              "    </tr>\n",
              "  </tbody>\n",
              "</table>\n",
              "<p>1700 rows × 4 columns</p>\n",
              "</div>"
            ],
            "text/plain": [
              "      Gender  Age  Annual Income (k$)  Spending Score (1-100)\n",
              "0          0   19                  15                      39\n",
              "405        1   61                  15                       8\n",
              "406        1   47                  15                      78\n",
              "483        0   21                  15                      75\n",
              "603        1   61                  15                      86\n",
              "...      ...  ...                 ...                     ...\n",
              "1252       1   25                 137                      41\n",
              "436        1   44                 137                      27\n",
              "287        1   23                 137                      66\n",
              "269        0   66                 137                      90\n",
              "198        0   32                 137                      18\n",
              "\n",
              "[1700 rows x 4 columns]"
            ]
          },
          "metadata": {
            "tags": []
          },
          "execution_count": 15
        }
      ]
    },
    {
      "cell_type": "code",
      "metadata": {
        "id": "HQ6GioFHP3WV"
      },
      "source": [
        "n2=3\n",
        "radius_a2 = 20 #can be changed to generate different distance-away point\n",
        "D2 = customers3.to_numpy() #data in array form"
      ],
      "execution_count": 16,
      "outputs": []
    },
    {
      "cell_type": "code",
      "metadata": {
        "id": "WOwiWRN0pul8",
        "colab": {
          "base_uri": "https://localhost:8080/"
        },
        "outputId": "e89bd8b9-836d-41a0-9c32-2e43a7680513"
      },
      "source": [
        "init_cent = Generate_Centroids(D2, n2, k, domain_array, radius_a2)\n",
        "init_cent"
      ],
      "execution_count": 19,
      "outputs": [
        {
          "output_type": "execute_result",
          "data": {
            "text/plain": [
              "array([[  0.,  23.,  40.,  48.],\n",
              "       [  1.,  30., 125.,  42.],\n",
              "       [  1.,  29.,  87.,  76.],\n",
              "       [  1.,  53.,  99.,   1.],\n",
              "       [  0.,  65.,  36.,  91.],\n",
              "       [  0.,  68., 136.,  77.],\n",
              "       [  1.,  58.,  16.,  21.],\n",
              "       [  1.,  23.,  45.,  88.],\n",
              "       [  1.,  61.,  61.,  33.],\n",
              "       [  0.,  34.,  45.,   4.],\n",
              "       [  1.,  24., 135.,  89.],\n",
              "       [  1.,  64., 137.,   7.],\n",
              "       [  1.,  70.,  91.,  91.],\n",
              "       [  0.,  65., 101.,  51.],\n",
              "       [  1.,  21.,  82.,  36.]])"
            ]
          },
          "metadata": {
            "tags": []
          },
          "execution_count": 19
        }
      ]
    },
    {
      "cell_type": "code",
      "metadata": {
        "id": "Q4Gaehovp34s",
        "colab": {
          "base_uri": "https://localhost:8080/"
        },
        "outputId": "e85cf87d-c80d-4793-d6be-d0a3ed55fd2a"
      },
      "source": [
        "# if you get an error in the next line run the previous two cells again and continue \n",
        "centers_original, labels_original = find_clusters(D2, k, init_cent) #0.1, 1, 5, 25, 50, 100 are all the epsilon values. \n",
        "centers_df_e1, labels_df_e1 = dp(D2, k, n2, r, init_cent, 0.1, 6)\n",
        "centers_df_e2, labels_df_e2 = dp(D2, k, n2, r, init_cent, 1, 6)\n",
        "centers_df_e3, labels_df_e3 = dp(D2, k, n2, r, init_cent, 5, 6)\n",
        "centers_df_e4, labels_df_e4 = dp(D2, k, n2, r, init_cent, 25, 6)\n",
        "centers_df_e5, labels_df_e5 = dp(D2, k, n2, r, init_cent, 50, 6)\n",
        "centers_df_e6, labels_df_e6 = dp(D2, k, n2, r, init_cent, 100, 6)"
      ],
      "execution_count": 20,
      "outputs": [
        {
          "output_type": "stream",
          "text": [
            "/usr/local/lib/python3.7/dist-packages/ipykernel_launcher.py:14: DeprecationWarning:\n",
            "\n",
            "elementwise comparison failed; this will raise an error in the future.\n",
            "\n"
          ],
          "name": "stderr"
        }
      ]
    },
    {
      "cell_type": "code",
      "metadata": {
        "id": "-5VEY8zPp4nY",
        "colab": {
          "base_uri": "https://localhost:8080/",
          "height": 542
        },
        "outputId": "55e4c296-3cd4-4b56-feb4-e4b1182572f7"
      },
      "source": [
        "Encode = {0:\"Group 1\", 1:\"Group 2\", 2:\"Group 3\", 3:\"Group 4\", 4:\"Group 5\"}\n",
        "labels_frame_original = pd.Series(data=labels_original).map(Encode)\n",
        "fig = px.scatter_matrix(customers3, dimensions=[\"Age\", \"Annual Income (k$)\", \"Spending Score (1-100)\"], color=labels_frame_original, title=\"Original K-Means Plots\")\n",
        "fig.update_layout(font_size=8)\n",
        "fig.update_layout(legend_font_size=13)\n",
        "fig.show()"
      ],
      "execution_count": 21,
      "outputs": [
        {
          "output_type": "display_data",
          "data": {
            "text/html": [
              "<html>\n",
              "<head><meta charset=\"utf-8\" /></head>\n",
              "<body>\n",
              "    <div>\n",
              "            <script src=\"https://cdnjs.cloudflare.com/ajax/libs/mathjax/2.7.5/MathJax.js?config=TeX-AMS-MML_SVG\"></script><script type=\"text/javascript\">if (window.MathJax) {MathJax.Hub.Config({SVG: {font: \"STIX-Web\"}});}</script>\n",
              "                <script type=\"text/javascript\">window.PlotlyConfig = {MathJaxConfig: 'local'};</script>\n",
              "        <script src=\"https://cdn.plot.ly/plotly-latest.min.js\"></script>    \n",
              "            <div id=\"5a17a34d-0e90-4bf2-9b7c-adb8a6e59487\" class=\"plotly-graph-div\" style=\"height:525px; width:100%;\"></div>\n",
              "            <script type=\"text/javascript\">\n",
              "                \n",
              "                    window.PLOTLYENV=window.PLOTLYENV || {};\n",
              "                    \n",
              "                if (document.getElementById(\"5a17a34d-0e90-4bf2-9b7c-adb8a6e59487\")) {\n",
              "                    Plotly.newPlot(\n",
              "                        '5a17a34d-0e90-4bf2-9b7c-adb8a6e59487',\n",
              "                        [{\"dimensions\": [{\"axis\": {\"matches\": true}, \"label\": \"Age\", \"values\": [19, 61, 47, 54, 38, 51, 53, 59, 23, 20, 45, 50, 31, 65, 29, 58, 53, 31, 18, 27, 68, 57, 35, 41, 54, 69, 64, 61, 51, 38, 67, 43, 64, 70, 18, 51, 56, 37, 27, 58, 46, 55, 47, 62, 54, 49, 31, 35, 61, 33, 61, 52, 22, 24, 34, 26, 46, 22, 50, 57, 29, 52, 26, 27, 60, 35, 63, 46, 60, 24, 43, 28, 43, 54, 69, 70, 60, 52, 52, 29, 20, 25, 40, 45, 58, 67, 42, 66, 54, 22, 55, 61, 25, 27, 21, 40, 28, 27, 60, 66, 60, 36, 54, 48, 57, 34, 56, 65, 52, 20, 18, 44, 65, 48, 55, 19, 53, 31, 49, 31, 57, 64, 42, 48, 38, 19, 29, 44, 65, 36, 26, 34, 56, 59, 41, 37, 64, 58, 59, 43, 48, 69, 45, 21, 36, 20, 24, 43, 65, 62, 64, 25, 41, 53, 45, 55, 40, 67, 18, 48, 61, 49, 62, 56, 55, 31, 29, 60, 27, 27, 25, 52, 20, 47, 57, 41, 42, 22, 36, 63, 47, 69, 21, 32, 58, 39, 47, 50, 35, 61, 69, 32, 44, 50, 67, 32, 51, 33, 55, 53, 63, 54, 20, 18, 47, 28, 53, 41, 70, 31, 35, 32, 67, 64, 58, 37, 42, 45, 22, 32, 43, 57, 47, 65, 46, 56, 26, 21, 36, 56, 70, 27, 33, 43, 31, 20, 39, 25, 43, 28, 23, 26, 29, 62, 37, 19, 39, 56, 48, 22, 66]}, {\"axis\": {\"matches\": true}, \"label\": \"Annual Income (k$)\", \"values\": [15, 15, 15, 15, 15, 16, 16, 16, 16, 16, 16, 17, 17, 17, 17, 17, 17, 17, 17, 18, 18, 18, 18, 18, 19, 19, 19, 19, 19, 19, 19, 19, 19, 19, 20, 20, 20, 20, 20, 20, 20, 21, 21, 21, 21, 21, 21, 21, 21, 21, 22, 22, 22, 22, 22, 23, 23, 23, 23, 23, 23, 23, 24, 24, 24, 24, 24, 25, 25, 25, 25, 25, 25, 25, 26, 26, 26, 26, 26, 27, 27, 27, 28, 28, 28, 28, 28, 28, 28, 28, 29, 29, 29, 29, 29, 29, 30, 30, 30, 30, 30, 30, 31, 31, 31, 31, 31, 31, 32, 32, 32, 32, 32, 32, 33, 33, 33, 33, 33, 34, 34, 34, 34, 34, 34, 34, 34, 34, 34, 34, 34, 34, 34, 34, 35, 35, 35, 35, 36, 36, 36, 36, 37, 37, 37, 37, 37, 37, 38, 38, 38, 38, 38, 38, 38, 39, 39, 39, 39, 39, 39, 39, 39, 40, 40, 40, 40, 40, 40, 40, 40, 40, 41, 41, 41, 41, 42, 42, 42, 42, 42, 42, 42, 42, 42, 43, 43, 43, 43, 44, 44, 45, 45, 45, 45, 45, 45, 45, 46, 46, 46, 46, 46, 46, 46, 46, 46, 46, 47, 47, 47, 47, 47, 47, 47, 48, 48, 48, 48, 48, 49, 49, 49, 49, 50, 50, 50, 50, 50, 51, 51, 51, 52, 52, 53, 53, 53, 53, 54, 54, 54, 55, 55, 55, 55, 56, 56, 56, 56, 56, 56]}, {\"axis\": {\"matches\": true}, \"label\": \"Spending Score (1-100)\", \"values\": [39, 8, 16, 1, 43, 35, 8, 33, 45, 6, 51, 31, 33, 1, 43, 24, 43, 40, 6, 28, 7, 28, 6, 20, 43, 35, 3, 2, 39, 30, 14, 36, 2, 35, 28, 32, 11, 13, 36, 15, 19, 22, 29, 3, 8, 33, 36, 35, 23, 50, 17, 42, 31, 35, 33, 29, 23, 23, 27, 37, 19, 29, 18, 4, 13, 35, 46, 5, 27, 16, 45, 10, 1, 20, 4, 18, 4, 27, 7, 35, 35, 18, 26, 32, 31, 1, 9, 31, 14, 18, 1, 48, 5, 33, 29, 31, 43, 26, 36, 21, 4, 31, 1, 27, 11, 5, 40, 14, 10, 27, 29, 15, 14, 16, 12, 2, 4, 42, 14, 1, 6, 19, 17, 27, 26, 41, 8, 24, 41, 18, 6, 44, 47, 39, 38, 28, 9, 19, 35, 4, 13, 11, 18, 25, 26, 15, 20, 28, 35, 14, 4, 46, 44, 9, 21, 34, 2, 33, 10, 36, 27, 28, 4, 3, 23, 42, 42, 25, 47, 37, 6, 40, 29, 16, 33, 13, 24, 42, 32, 26, 13, 12, 2, 17, 47, 35, 41, 45, 23, 29, 46, 29, 23, 26, 15, 47, 15, 13, 28, 26, 34, 20, 24, 8, 44, 17, 46, 26, 16, 11, 32, 10, 26, 33, 16, 22, 5, 44, 44, 34, 12, 21, 42, 11, 17, 28, 27, 25, 10, 45, 32, 40, 41, 45, 26, 3, 22, 17, 30, 19, 16, 11, 19, 21, 8, 1, 9, 12, 1, 7, 2]}], \"hoverlabel\": {\"namelength\": 0}, \"hovertemplate\": \"color=Group 1<br>%{xaxis.title.text}=%{x}<br>%{yaxis.title.text}=%{y}\", \"legendgroup\": \"color=Group 1\", \"marker\": {\"color\": \"#636efa\", \"symbol\": \"circle\"}, \"name\": \"color=Group 1\", \"showlegend\": true, \"type\": \"splom\"}, {\"dimensions\": [{\"axis\": {\"matches\": true}, \"label\": \"Age\", \"values\": [47, 21, 61, 27, 63, 62, 66, 21, 34, 53, 23, 20, 45, 59, 58, 65, 34, 53, 22, 60, 67, 48, 65, 23, 66, 37, 62, 30, 30, 30, 67, 35, 70, 25, 32, 58, 24, 33, 22, 45, 42, 34, 47, 51, 20, 28, 38, 22, 20, 45, 32, 21, 69, 45, 45, 42, 21, 66, 21, 46, 46, 44, 28, 68, 35, 67, 50, 35, 56, 28, 21, 65, 25, 31, 24, 50, 63, 20, 18, 18, 55, 32, 68, 51, 25, 66, 62, 61, 20, 18, 49, 23, 45, 31, 47, 63, 56, 33, 35, 38, 34, 36, 29, 51, 23, 50, 53, 63, 40, 35, 28, 21, 69, 52, 46, 69, 34, 67, 57, 41, 22, 32, 32, 60, 62, 65, 63, 20, 18, 70, 29, 67, 21, 28, 19, 57, 49, 29, 60, 30, 57, 53, 18, 56, 56, 65, 60, 18, 48, 68, 30, 59, 67, 54, 65, 20, 38, 54, 20, 52, 52, 22, 26, 57, 24, 66, 31, 35, 47, 25, 23, 54, 25, 24, 68, 56, 67, 29, 70, 66, 66, 63, 21, 42, 31, 24, 55, 69, 50, 32, 69, 36, 70, 37, 54, 58, 34, 41, 67, 46, 51, 33, 33, 49, 59, 50, 31, 70, 37, 58, 53, 63, 47, 45, 37, 58, 27, 68, 51, 60, 70, 56, 64, 67, 54, 23, 52, 70, 19, 27, 70, 32, 38, 68, 66, 62, 28, 67, 36, 50, 46, 54, 23, 50, 42, 66, 32, 48, 31, 57, 48, 58, 19, 68, 43, 63, 18, 46, 43, 60, 28, 70, 28, 66, 35, 60, 21, 47, 46, 60, 42, 70, 37, 42, 60, 37, 62, 21, 57, 42, 42, 34, 49, 39, 18, 29, 30, 24, 41, 23, 38, 45, 60, 40, 57, 57, 23, 64, 26, 70, 50, 21, 66, 67, 51, 45, 53, 45, 43, 26, 62, 67, 22, 55, 27, 62, 19, 56, 50, 36, 25, 28, 53, 21, 34, 43, 56, 20, 54, 40, 68, 27, 35, 51, 44, 30, 49, 64, 37, 21, 56, 52, 30, 67, 26, 60, 48, 51, 57, 35, 38, 66, 43, 25, 49, 35, 63, 21, 35, 24, 49, 43, 49, 60, 51, 60, 69, 28, 65, 37, 46, 49, 58, 37, 29, 20, 21, 39, 45, 26, 27, 55, 20, 47, 30, 34, 19, 62, 69, 31, 18, 36, 39, 59, 64]}, {\"axis\": {\"matches\": true}, \"label\": \"Annual Income (k$)\", \"values\": [15, 15, 15, 15, 15, 15, 15, 15, 16, 16, 16, 16, 16, 16, 16, 16, 16, 16, 17, 17, 17, 17, 18, 18, 18, 18, 18, 19, 19, 19, 19, 19, 19, 19, 19, 19, 20, 20, 20, 20, 20, 20, 20, 20, 20, 21, 21, 21, 21, 22, 22, 22, 22, 22, 22, 22, 23, 23, 23, 23, 23, 23, 23, 23, 23, 23, 23, 23, 24, 24, 24, 24, 24, 25, 25, 25, 25, 25, 25, 25, 25, 25, 25, 26, 26, 26, 26, 26, 26, 26, 26, 26, 26, 27, 27, 27, 27, 27, 28, 28, 28, 28, 28, 29, 29, 29, 29, 29, 29, 29, 30, 30, 30, 30, 30, 30, 30, 31, 31, 31, 31, 32, 32, 32, 32, 32, 33, 33, 33, 33, 33, 33, 33, 33, 34, 34, 34, 34, 34, 34, 34, 34, 35, 35, 35, 35, 35, 35, 36, 36, 36, 36, 36, 37, 37, 37, 37, 37, 37, 37, 37, 37, 37, 37, 38, 38, 38, 38, 38, 38, 38, 38, 38, 38, 39, 39, 39, 39, 39, 39, 39, 39, 39, 39, 39, 39, 40, 40, 40, 40, 41, 41, 41, 42, 42, 42, 42, 42, 42, 42, 42, 42, 42, 42, 43, 43, 43, 43, 43, 43, 43, 43, 43, 43, 43, 44, 44, 44, 44, 44, 45, 45, 45, 45, 45, 46, 46, 46, 46, 46, 46, 46, 46, 46, 46, 47, 47, 47, 47, 47, 47, 47, 47, 47, 48, 48, 48, 48, 48, 48, 48, 48, 48, 48, 48, 48, 48, 48, 48, 49, 49, 49, 49, 49, 49, 50, 50, 50, 50, 50, 51, 51, 51, 51, 51, 52, 52, 52, 52, 52, 52, 52, 52, 52, 53, 53, 53, 53, 53, 53, 54, 54, 54, 54, 54, 54, 54, 54, 54, 54, 54, 54, 54, 55, 55, 55, 55, 55, 56, 56, 56, 56, 57, 57, 57, 57, 57, 57, 58, 58, 58, 58, 58, 58, 58, 58, 58, 59, 59, 59, 59, 59, 59, 59, 60, 60, 60, 60, 61, 61, 61, 61, 62, 62, 62, 62, 62, 62, 62, 62, 62, 62, 62, 62, 62, 63, 63, 63, 63, 64, 64, 64, 64, 64, 64, 64, 64, 65, 65, 65, 65, 65, 65, 66, 66, 66, 66, 67, 67, 67, 67, 68, 68, 68, 68, 69, 69, 69, 70, 70, 70, 70, 70, 71, 71]}, {\"axis\": {\"matches\": true}, \"label\": \"Spending Score (1-100)\", \"values\": [78, 75, 86, 75, 94, 56, 74, 81, 88, 71, 77, 86, 78, 73, 57, 88, 68, 76, 76, 70, 92, 88, 99, 94, 70, 94, 84, 52, 72, 94, 65, 99, 98, 98, 83, 84, 77, 83, 79, 71, 57, 56, 79, 82, 96, 99, 66, 64, 66, 62, 80, 98, 88, 89, 80, 51, 75, 63, 85, 73, 95, 59, 66, 99, 60, 92, 98, 98, 68, 66, 81, 60, 73, 73, 56, 85, 56, 61, 80, 68, 60, 68, 51, 69, 74, 55, 81, 70, 97, 80, 80, 79, 94, 58, 65, 51, 62, 83, 61, 52, 86, 58, 82, 55, 87, 96, 70, 55, 53, 61, 56, 73, 77, 80, 69, 61, 84, 73, 79, 95, 89, 81, 89, 53, 57, 69, 54, 66, 92, 53, 64, 56, 81, 98, 99, 50, 86, 69, 83, 73, 99, 52, 97, 68, 67, 76, 81, 62, 84, 54, 51, 75, 97, 93, 74, 94, 73, 70, 75, 63, 63, 60, 63, 67, 92, 66, 82, 50, 99, 68, 72, 71, 53, 73, 97, 98, 92, 88, 85, 54, 91, 73, 74, 69, 61, 65, 66, 59, 55, 95, 66, 58, 89, 94, 81, 54, 67, 59, 71, 79, 51, 60, 79, 52, 60, 75, 54, 72, 89, 91, 53, 64, 92, 61, 78, 73, 99, 98, 50, 64, 91, 52, 52, 92, 66, 66, 91, 56, 55, 51, 64, 95, 95, 97, 70, 67, 76, 52, 75, 61, 49, 59, 71, 50, 76, 75, 47, 94, 80, 49, 52, 57, 59, 48, 50, 51, 59, 49, 93, 53, 85, 55, 55, 62, 55, 56, 78, 88, 49, 49, 85, 98, 52, 56, 56, 81, 75, 85, 95, 94, 63, 93, 48, 59, 92, 76, 70, 93, 48, 55, 55, 53, 82, 48, 51, 50, 52, 76, 54, 88, 66, 57, 81, 67, 99, 82, 70, 84, 82, 82, 95, 50, 55, 58, 84, 99, 51, 69, 78, 89, 70, 84, 65, 81, 60, 76, 88, 78, 95, 73, 55, 82, 56, 77, 55, 65, 73, 71, 80, 88, 65, 94, 90, 59, 55, 59, 87, 59, 68, 67, 79, 94, 64, 70, 56, 90, 66, 62, 83, 89, 67, 56, 65, 85, 74, 55, 75, 93, 98, 98, 88, 59, 63, 99, 87, 97, 58, 75, 92, 86, 80, 76, 73, 81, 95, 87, 61, 72, 86, 77, 70, 66, 63, 63, 74]}], \"hoverlabel\": {\"namelength\": 0}, \"hovertemplate\": \"color=Group 5<br>%{xaxis.title.text}=%{x}<br>%{yaxis.title.text}=%{y}\", \"legendgroup\": \"color=Group 5\", \"marker\": {\"color\": \"#EF553B\", \"symbol\": \"circle\"}, \"name\": \"color=Group 5\", \"showlegend\": true, \"type\": \"splom\"}, {\"dimensions\": [{\"axis\": {\"matches\": true}, \"label\": \"Age\", \"values\": [18, 53, 49, 67, 46, 38, 48, 69, 59, 53, 34, 22, 29, 61, 25, 41, 29, 26, 33, 32, 26, 26, 29, 69, 45, 29, 26, 20, 26, 50, 52, 40, 40, 55, 51, 18, 43, 55, 47, 24, 18, 40, 36, 69, 48, 59, 32, 27, 67, 32, 52, 35, 26, 48, 30, 20, 22, 49, 23, 45, 43, 21, 20, 70, 59, 50, 62, 45, 31, 66, 54, 68, 66, 65, 19, 19, 56, 61, 39, 70, 33, 36, 33, 70, 21, 45, 38, 19, 31, 47, 34, 70, 63, 53, 39, 34, 18, 19, 63, 68, 48, 61, 44, 19, 18, 27, 40, 38, 50, 70, 44, 51, 60, 21, 69, 56, 22, 28, 67, 18, 20, 40, 25, 64, 39, 37, 32, 62, 46, 23, 27, 40, 43, 52, 47, 59, 18, 58, 59, 62, 26, 32, 48, 65, 23, 39, 38, 25, 25, 40, 49, 57, 67, 64, 44, 20, 64, 46, 53, 49, 59, 19, 26, 63, 64, 67, 45, 66, 19, 21, 21, 65, 57, 64, 50, 23, 68, 38, 37, 26, 28, 59, 50, 23, 37, 53, 48, 26, 25, 46, 43, 34, 47, 26, 34, 44, 37, 31, 21, 47, 30, 59, 62, 41, 56, 29, 21, 19, 35, 30, 39, 48, 26, 49, 46, 30, 21, 47, 19, 53, 59, 33, 70, 28, 29, 21, 44, 52, 31, 58, 67, 34, 25, 48, 29, 23, 67, 39, 65, 25, 48, 24, 20, 68, 45, 50, 32, 58, 32, 38, 59, 65, 70, 61, 54, 42, 40, 68, 33, 39, 25, 36, 32, 29, 55, 67, 70, 22, 36, 40, 24, 36, 40, 49, 60, 19, 40, 58, 52, 66, 45, 52, 55, 47, 28, 61, 66, 34, 44, 51, 32, 52, 63, 64, 34, 70, 33, 48, 22, 68, 66, 37, 47, 40, 44, 36, 52, 57, 59, 54, 44, 21, 42, 69, 49, 44, 19, 44, 69, 62, 39, 22, 67, 35, 57, 55, 66, 28, 39, 41, 31, 28, 31, 50, 31, 49, 26, 28, 37, 57, 37, 26, 20, 37]}, {\"axis\": {\"matches\": true}, \"label\": \"Annual Income (k$)\", \"values\": [53, 53, 54, 54, 54, 54, 54, 54, 54, 55, 55, 55, 55, 55, 55, 56, 56, 56, 56, 56, 56, 57, 57, 57, 57, 57, 58, 58, 58, 58, 58, 58, 59, 59, 59, 59, 59, 59, 60, 60, 60, 60, 60, 60, 60, 60, 60, 60, 61, 61, 61, 61, 61, 61, 61, 61, 61, 62, 62, 62, 62, 62, 62, 62, 62, 62, 62, 63, 63, 63, 63, 63, 63, 63, 63, 63, 63, 64, 64, 64, 64, 64, 64, 64, 64, 64, 64, 64, 64, 64, 65, 65, 65, 65, 65, 65, 65, 65, 65, 66, 66, 67, 67, 67, 67, 67, 67, 67, 67, 67, 67, 67, 67, 67, 67, 68, 68, 68, 68, 68, 68, 69, 69, 69, 69, 69, 69, 69, 69, 70, 70, 70, 71, 71, 71, 71, 71, 71, 71, 71, 71, 71, 71, 71, 71, 72, 72, 72, 72, 72, 72, 73, 73, 73, 73, 73, 74, 74, 74, 74, 74, 74, 74, 75, 75, 75, 75, 75, 75, 75, 75, 75, 75, 75, 76, 76, 76, 76, 76, 76, 76, 76, 76, 76, 77, 77, 77, 77, 77, 77, 78, 78, 78, 78, 78, 78, 78, 78, 78, 78, 79, 79, 79, 79, 79, 79, 80, 80, 80, 80, 80, 80, 80, 80, 80, 80, 81, 81, 81, 81, 81, 81, 81, 82, 82, 82, 82, 82, 82, 82, 82, 82, 83, 83, 83, 84, 84, 84, 84, 84, 84, 84, 84, 85, 85, 85, 85, 85, 85, 85, 86, 86, 86, 86, 86, 86, 86, 86, 86, 86, 86, 86, 87, 87, 87, 87, 87, 87, 87, 87, 87, 87, 87, 88, 88, 88, 88, 88, 88, 88, 88, 88, 88, 88, 89, 89, 89, 89, 89, 89, 90, 90, 90, 90, 90, 90, 90, 90, 90, 90, 91, 91, 91, 92, 92, 92, 92, 93, 93, 93, 93, 93, 93, 93, 94, 94, 94, 94, 94, 94, 94, 95, 95, 95, 95, 95, 95, 96, 96, 97, 97, 97, 97, 97, 97, 97, 97, 97, 97, 97, 97, 98, 98, 98]}, {\"axis\": {\"matches\": true}, \"label\": \"Spending Score (1-100)\", \"values\": [47, 44, 42, 41, 44, 38, 46, 43, 47, 38, 38, 21, 45, 46, 34, 46, 44, 49, 39, 34, 36, 40, 48, 24, 41, 38, 36, 36, 45, 46, 22, 22, 30, 5, 45, 41, 7, 26, 47, 52, 39, 40, 42, 22, 49, 3, 42, 50, 16, 23, 51, 5, 39, 42, 46, 49, 36, 48, 41, 11, 18, 42, 31, 15, 4, 43, 50, 2, 12, 50, 46, 43, 48, 52, 11, 54, 23, 46, 47, 15, 10, 38, 16, 41, 19, 47, 42, 46, 16, 44, 28, 15, 40, 6, 12, 10, 48, 50, 43, 23, 52, 24, 1, 12, 47, 56, 44, 40, 57, 15, 38, 43, 28, 56, 46, 37, 49, 26, 19, 36, 16, 58, 36, 40, 8, 12, 51, 22, 27, 29, 49, 6, 35, 21, 9, 34, 52, 54, 11, 58, 4, 29, 29, 34, 6, 12, 47, 18, 34, 34, 28, 43, 50, 3, 7, 5, 45, 32, 33, 34, 9, 10, 42, 56, 5, 40, 18, 27, 36, 45, 42, 41, 5, 6, 9, 51, 8, 43, 42, 42, 40, 33, 2, 53, 11, 6, 36, 25, 12, 5, 17, 1, 16, 21, 22, 20, 1, 27, 37, 39, 29, 27, 36, 25, 35, 39, 57, 54, 31, 56, 3, 6, 49, 15, 47, 7, 22, 47, 5, 28, 11, 43, 12, 10, 46, 19, 7, 23, 54, 34, 46, 51, 38, 29, 13, 47, 10, 11, 18, 37, 2, 54, 40, 19, 37, 26, 55, 31, 14, 38, 36, 46, 42, 44, 13, 20, 9, 2, 29, 8, 19, 40, 32, 21, 34, 21, 18, 12, 27, 14, 28, 10, 13, 18, 2, 24, 1, 15, 13, 17, 1, 31, 19, 18, 30, 32, 48, 37, 46, 9, 47, 31, 16, 25, 16, 46, 21, 7, 28, 40, 24, 21, 9, 13, 39, 36, 1, 36, 14, 2, 40, 24, 41, 1, 7, 46, 1, 24, 14, 33, 41, 22, 33, 28, 30, 15, 36, 1, 6, 26, 19, 42, 4, 35, 37, 23, 16, 18, 11, 46, 32, 28, 38, 37]}], \"hoverlabel\": {\"namelength\": 0}, \"hovertemplate\": \"color=Group 4<br>%{xaxis.title.text}=%{x}<br>%{yaxis.title.text}=%{y}\", \"legendgroup\": \"color=Group 4\", \"marker\": {\"color\": \"#00cc96\", \"symbol\": \"circle\"}, \"name\": \"color=Group 4\", \"showlegend\": true, \"type\": \"splom\"}, {\"dimensions\": [{\"axis\": {\"matches\": true}, \"label\": \"Age\", \"values\": [39, 31, 39, 56, 40, 38, 65, 58, 55, 70, 50, 33, 59, 25, 31, 41, 66, 58, 42, 69, 25, 52, 29, 32, 27, 59, 23, 25, 40, 35, 27, 42, 32, 62, 32, 32, 41, 60, 56, 32, 28, 64, 70, 52, 56, 39, 38, 54, 30, 30, 27, 34, 38, 43, 39, 24, 32, 69, 29, 29, 39, 33, 51, 43, 47, 34, 18, 25, 67, 32, 45, 55, 18, 47, 66, 33, 19, 26, 31, 53, 68, 54, 66, 58, 31, 31, 45, 41, 44, 33, 56, 43, 54, 29, 21, 30, 20, 48, 55, 40, 47, 39, 54, 57, 38, 21, 35, 20, 67, 63, 20, 41, 37, 49, 33, 31, 37, 55, 59, 38, 36, 47, 18, 67, 46, 47, 36, 33, 43, 28, 58, 31, 51, 66, 57, 44, 31, 28, 64, 68, 32, 36, 27, 65, 30, 53, 59, 62, 47, 22, 31, 19, 45, 25, 47, 66, 70, 56, 19, 20, 45, 39, 51, 41, 64, 38, 22, 43, 26, 64, 19, 31, 59, 18, 28, 35, 53, 18, 66, 45, 36, 42, 45, 49, 66, 35, 60, 54, 19, 31, 20, 52, 30, 62, 48, 26, 26, 38, 37, 37, 28, 40, 19, 25, 54, 47, 34, 23, 70, 32, 66, 32, 31, 29, 55, 44, 55, 30, 65, 18, 36, 61, 44, 19, 28, 24, 43, 37, 69, 69, 34, 60, 51, 28, 36, 48, 53, 69, 56, 21, 67, 47, 67, 36, 64, 32, 35, 45, 54, 56, 57, 19, 53, 36, 23, 20, 66, 62, 70, 60, 60, 46, 63, 33, 28, 33, 29, 23, 28, 33, 62, 46, 62, 36, 56, 18, 22, 48, 19, 66, 20, 25, 65, 50, 58, 24, 48, 64, 55, 64, 67, 38, 63, 69, 42, 50, 34, 25, 43, 24, 52, 18, 53, 41, 38, 19, 66, 32, 64, 19, 55, 41, 68, 46, 57, 27, 70, 27, 32, 22, 36, 26, 64, 19, 56, 45, 18, 60, 46, 44, 35, 20, 34, 61, 35, 62, 35, 49, 37, 56, 42, 62, 63, 29, 36, 36, 35, 67, 65, 37, 44, 63, 22, 53, 20, 69, 25, 20, 55, 69, 18, 30, 32, 64, 41, 56, 63, 20, 32, 52, 69, 37, 35, 38, 68, 55, 57, 34, 46, 23, 30, 43, 29, 52, 53, 24, 67, 57, 66, 24, 67, 23, 37, 27, 24, 26, 68, 36, 34, 57, 64, 26, 35, 56, 39, 45, 40, 28, 69, 30, 60, 26, 43, 23, 66]}, {\"axis\": {\"matches\": true}, \"label\": \"Annual Income (k$)\", \"values\": [69, 70, 71, 71, 71, 71, 72, 72, 72, 72, 72, 72, 72, 72, 72, 73, 73, 73, 73, 73, 73, 73, 73, 73, 74, 74, 74, 74, 74, 74, 75, 75, 75, 75, 76, 76, 76, 76, 76, 77, 77, 77, 77, 77, 77, 77, 77, 77, 78, 78, 78, 78, 78, 78, 78, 79, 79, 79, 79, 79, 79, 79, 79, 80, 80, 80, 80, 80, 80, 80, 80, 80, 80, 80, 80, 80, 80, 81, 81, 81, 81, 81, 81, 81, 81, 81, 81, 81, 81, 81, 81, 81, 81, 81, 81, 81, 82, 82, 82, 82, 82, 82, 82, 82, 82, 82, 83, 83, 83, 83, 83, 83, 84, 84, 84, 84, 84, 85, 85, 85, 85, 85, 85, 85, 85, 86, 86, 86, 86, 86, 86, 86, 86, 86, 87, 87, 87, 87, 87, 87, 87, 87, 88, 88, 88, 88, 88, 89, 89, 89, 89, 89, 89, 90, 90, 90, 90, 90, 90, 90, 90, 90, 90, 90, 91, 91, 91, 91, 92, 92, 92, 93, 93, 93, 93, 93, 93, 93, 93, 93, 94, 94, 94, 94, 94, 94, 94, 94, 94, 95, 95, 95, 95, 95, 95, 95, 96, 96, 96, 96, 96, 96, 96, 97, 97, 97, 97, 97, 97, 97, 97, 97, 97, 98, 98, 98, 98, 99, 99, 99, 99, 99, 99, 100, 100, 100, 101, 101, 101, 101, 101, 101, 101, 101, 101, 102, 102, 102, 102, 103, 103, 103, 103, 103, 103, 103, 104, 104, 105, 105, 105, 105, 105, 105, 106, 106, 106, 106, 106, 106, 106, 106, 107, 107, 107, 107, 107, 107, 107, 107, 107, 107, 108, 108, 108, 108, 108, 108, 108, 108, 108, 108, 109, 109, 109, 109, 109, 110, 110, 110, 110, 110, 110, 110, 111, 111, 111, 111, 111, 112, 112, 112, 112, 112, 113, 113, 114, 114, 114, 114, 114, 115, 115, 115, 115, 115, 115, 115, 115, 115, 116, 116, 116, 116, 116, 116, 117, 117, 117, 118, 118, 118, 119, 119, 120, 120, 120, 120, 121, 121, 121, 121, 121, 121, 122, 122, 122, 123, 123, 123, 123, 123, 123, 124, 124, 125, 125, 125, 126, 126, 126, 126, 126, 126, 126, 126, 127, 127, 127, 127, 127, 128, 128, 128, 128, 128, 129, 129, 129, 129, 129, 130, 130, 130, 130, 131, 131, 131, 131, 131, 132, 132, 133, 133, 133, 134, 134, 134, 134, 134, 134, 134, 135, 135, 136, 136, 136, 136, 136, 137, 137, 137, 137, 137, 137]}, {\"axis\": {\"matches\": true}, \"label\": \"Spending Score (1-100)\", \"values\": [91, 95, 75, 92, 95, 75, 88, 89, 97, 72, 82, 66, 81, 97, 71, 90, 84, 62, 62, 74, 81, 92, 88, 73, 76, 78, 87, 93, 64, 72, 73, 97, 93, 90, 87, 66, 71, 88, 82, 74, 97, 74, 65, 89, 98, 83, 81, 80, 78, 73, 89, 90, 76, 72, 88, 85, 95, 85, 99, 83, 84, 75, 79, 60, 93, 71, 82, 93, 60, 87, 99, 83, 75, 84, 90, 61, 83, 84, 95, 98, 69, 73, 79, 72, 68, 93, 93, 94, 87, 72, 84, 82, 82, 83, 68, 62, 78, 89, 74, 81, 90, 89, 74, 64, 60, 85, 82, 92, 80, 83, 75, 80, 84, 83, 71, 73, 97, 74, 79, 92, 75, 82, 70, 67, 56, 98, 73, 95, 69, 83, 76, 98, 92, 80, 70, 69, 81, 75, 77, 66, 63, 92, 69, 82, 86, 54, 54, 87, 89, 74, 84, 95, 87, 85, 59, 63, 65, 76, 68, 96, 82, 75, 78, 76, 79, 77, 99, 82, 97, 58, 59, 52, 80, 61, 92, 90, 60, 81, 99, 63, 55, 74, 64, 93, 84, 67, 59, 72, 61, 89, 53, 93, 63, 61, 89, 66, 77, 67, 82, 85, 63, 60, 53, 76, 56, 91, 56, 93, 56, 57, 72, 86, 57, 88, 78, 52, 92, 97, 89, 81, 70, 97, 96, 87, 79, 98, 81, 85, 77, 86, 96, 89, 94, 68, 76, 63, 71, 67, 61, 85, 67, 73, 64, 85, 82, 69, 58, 60, 79, 65, 80, 75, 72, 80, 88, 68, 96, 99, 90, 68, 82, 55, 84, 75, 63, 98, 58, 70, 94, 76, 64, 66, 75, 62, 62, 57, 82, 87, 65, 75, 76, 86, 61, 54, 81, 75, 72, 84, 80, 76, 98, 80, 96, 69, 77, 96, 98, 61, 79, 69, 67, 93, 74, 93, 91, 94, 80, 62, 71, 66, 97, 93, 95, 93, 73, 77, 71, 95, 63, 90, 92, 81, 66, 94, 99, 71, 57, 82, 99, 92, 71, 67, 64, 86, 69, 96, 79, 85, 92, 87, 61, 99, 75, 63, 93, 66, 64, 87, 97, 98, 75, 73, 97, 83, 81, 99, 76, 99, 97, 72, 99, 64, 74, 89, 90, 98, 97, 64, 72, 63, 99, 78, 78, 61, 72, 96, 71, 93, 88, 91, 97, 64, 78, 94, 69, 85, 94, 71, 95, 62, 96, 92, 75, 87, 89, 87, 96, 74, 69, 71, 68, 86, 74, 85, 85, 99, 67, 70, 90, 83, 81, 73, 84, 66, 90]}], \"hoverlabel\": {\"namelength\": 0}, \"hovertemplate\": \"color=Group 3<br>%{xaxis.title.text}=%{x}<br>%{yaxis.title.text}=%{y}\", \"legendgroup\": \"color=Group 3\", \"marker\": {\"color\": \"#ab63fa\", \"symbol\": \"circle\"}, \"name\": \"color=Group 3\", \"showlegend\": true, \"type\": \"splom\"}, {\"dimensions\": [{\"axis\": {\"matches\": true}, \"label\": \"Age\", \"values\": [68, 58, 46, 41, 66, 33, 41, 34, 22, 22, 60, 60, 40, 28, 59, 54, 58, 39, 35, 37, 21, 34, 21, 48, 21, 49, 60, 67, 41, 67, 70, 57, 34, 48, 51, 31, 55, 30, 53, 24, 56, 23, 20, 53, 62, 18, 57, 37, 59, 63, 56, 22, 34, 62, 30, 42, 41, 42, 64, 48, 69, 35, 45, 50, 36, 55, 68, 41, 30, 61, 60, 29, 34, 57, 56, 51, 37, 62, 42, 34, 45, 60, 37, 46, 58, 64, 68, 20, 25, 25, 46, 57, 53, 55, 67, 30, 48, 67, 63, 39, 33, 50, 56, 70, 40, 33, 46, 50, 48, 39, 22, 45, 65, 20, 29, 37, 39, 43, 18, 21, 42, 58, 65, 34, 47, 70, 21, 69, 21, 38, 48, 39, 20, 26, 35, 55, 30, 30, 65, 52, 57, 20, 68, 32, 29, 47, 60, 33, 67, 65, 57, 19, 40, 42, 31, 33, 27, 42, 35, 21, 65, 61, 59, 52, 57, 20, 32, 62, 61, 35, 30, 70, 26, 68, 47, 18, 69, 19, 35, 48, 70, 57, 33, 52, 28, 58, 62, 61, 20, 70, 48, 62, 45, 22, 40, 60, 63, 22, 41, 32, 37, 45, 68, 37, 53, 47, 24, 32, 58, 26, 42, 27, 36, 67, 56, 63, 61, 25, 45, 49, 54, 26, 68, 27, 59, 24, 43, 67, 51, 38, 58, 65, 48, 47, 38, 29, 34, 56, 36, 45, 39, 21, 38, 29, 67, 30, 62, 42, 21, 28, 57, 38, 27, 69, 44, 39, 51, 49, 50, 45, 56, 33, 21, 52, 57, 65, 27, 68, 63, 56, 68, 66, 45, 66, 38, 35, 21, 25, 29, 63, 54, 34, 47, 28, 67, 60, 37, 64, 35, 27, 54, 44, 25, 44, 32]}, {\"axis\": {\"matches\": true}, \"label\": \"Annual Income (k$)\", \"values\": [96, 97, 98, 98, 98, 99, 99, 99, 99, 99, 100, 100, 100, 100, 100, 101, 101, 101, 101, 101, 102, 102, 102, 102, 102, 103, 103, 103, 103, 103, 103, 103, 103, 104, 104, 104, 104, 104, 104, 104, 105, 105, 105, 105, 106, 106, 106, 106, 106, 106, 107, 107, 107, 107, 107, 107, 108, 108, 108, 108, 108, 108, 108, 108, 109, 109, 109, 109, 109, 109, 109, 109, 109, 109, 109, 109, 109, 109, 109, 110, 110, 110, 110, 110, 110, 110, 110, 110, 110, 111, 111, 112, 112, 112, 112, 112, 113, 113, 113, 113, 113, 113, 114, 114, 114, 114, 115, 115, 115, 115, 115, 115, 115, 116, 116, 116, 116, 116, 116, 117, 117, 117, 117, 117, 117, 117, 117, 117, 117, 118, 118, 118, 118, 118, 118, 118, 118, 119, 119, 119, 119, 119, 119, 119, 119, 120, 120, 121, 121, 121, 121, 121, 121, 121, 122, 122, 122, 122, 122, 122, 122, 122, 122, 122, 122, 123, 123, 123, 123, 123, 123, 123, 123, 123, 123, 124, 124, 124, 124, 124, 124, 125, 125, 125, 125, 126, 126, 126, 126, 126, 126, 126, 126, 126, 126, 126, 127, 127, 127, 127, 127, 127, 127, 127, 127, 128, 128, 129, 129, 129, 129, 129, 129, 129, 129, 129, 130, 130, 130, 130, 130, 130, 130, 131, 131, 131, 131, 131, 131, 131, 131, 131, 132, 132, 132, 132, 132, 132, 133, 133, 133, 133, 133, 133, 133, 133, 133, 133, 133, 133, 133, 133, 134, 134, 134, 134, 134, 134, 134, 134, 134, 135, 135, 135, 135, 135, 135, 135, 135, 135, 136, 136, 136, 136, 136, 136, 136, 136, 136, 136, 137, 137, 137, 137, 137, 137, 137, 137, 137, 137, 137, 137, 137, 137, 137]}, {\"axis\": {\"matches\": true}, \"label\": \"Spending Score (1-100)\", \"values\": [5, 15, 15, 2, 49, 47, 39, 19, 25, 23, 9, 46, 32, 4, 2, 24, 5, 12, 26, 35, 19, 44, 22, 6, 10, 34, 10, 1, 17, 15, 26, 2, 23, 2, 35, 33, 23, 18, 51, 41, 30, 18, 19, 47, 2, 50, 4, 8, 47, 6, 49, 34, 23, 4, 42, 51, 4, 10, 9, 11, 4, 45, 49, 7, 31, 33, 27, 39, 21, 20, 50, 46, 27, 21, 37, 18, 5, 45, 18, 19, 23, 14, 40, 2, 29, 43, 18, 52, 25, 23, 6, 45, 30, 42, 10, 17, 11, 19, 15, 7, 8, 14, 53, 12, 7, 9, 14, 40, 8, 51, 49, 26, 55, 45, 52, 49, 29, 45, 32, 9, 36, 1, 43, 20, 5, 21, 18, 14, 5, 13, 4, 40, 18, 13, 37, 49, 34, 51, 14, 25, 56, 49, 42, 48, 30, 16, 43, 50, 42, 20, 15, 21, 21, 16, 46, 9, 37, 52, 26, 3, 16, 24, 46, 34, 39, 19, 48, 40, 33, 8, 25, 57, 13, 23, 9, 28, 44, 21, 8, 24, 51, 14, 14, 21, 11, 57, 38, 2, 23, 54, 52, 54, 28, 53, 48, 22, 45, 1, 20, 2, 29, 7, 23, 35, 60, 2, 17, 37, 60, 22, 30, 3, 23, 16, 24, 5, 32, 33, 37, 19, 33, 49, 10, 29, 22, 33, 31, 40, 11, 53, 37, 1, 35, 58, 44, 27, 11, 59, 62, 41, 59, 55, 10, 13, 46, 21, 41, 19, 16, 37, 49, 32, 47, 21, 12, 56, 57, 45, 7, 61, 35, 39, 48, 48, 3, 37, 2, 19, 49, 45, 48, 14, 9, 35, 24, 13, 24, 29, 18, 44, 46, 35, 46, 26, 1, 7, 25, 54, 54, 26, 26, 56, 41, 27, 18]}], \"hoverlabel\": {\"namelength\": 0}, \"hovertemplate\": \"color=Group 2<br>%{xaxis.title.text}=%{x}<br>%{yaxis.title.text}=%{y}\", \"legendgroup\": \"color=Group 2\", \"marker\": {\"color\": \"#FFA15A\", \"symbol\": \"circle\"}, \"name\": \"color=Group 2\", \"showlegend\": true, \"type\": \"splom\"}],\n",
              "                        {\"dragmode\": \"select\", \"font\": {\"size\": 8}, \"legend\": {\"font\": {\"size\": 13}, \"tracegroupgap\": 0}, \"template\": {\"data\": {\"bar\": [{\"error_x\": {\"color\": \"#2a3f5f\"}, \"error_y\": {\"color\": \"#2a3f5f\"}, \"marker\": {\"line\": {\"color\": \"#E5ECF6\", \"width\": 0.5}}, \"type\": \"bar\"}], \"barpolar\": [{\"marker\": {\"line\": {\"color\": \"#E5ECF6\", \"width\": 0.5}}, \"type\": \"barpolar\"}], \"carpet\": [{\"aaxis\": {\"endlinecolor\": \"#2a3f5f\", \"gridcolor\": \"white\", \"linecolor\": \"white\", \"minorgridcolor\": \"white\", \"startlinecolor\": \"#2a3f5f\"}, \"baxis\": {\"endlinecolor\": \"#2a3f5f\", \"gridcolor\": \"white\", \"linecolor\": \"white\", \"minorgridcolor\": \"white\", \"startlinecolor\": \"#2a3f5f\"}, \"type\": \"carpet\"}], \"choropleth\": [{\"colorbar\": {\"outlinewidth\": 0, \"ticks\": \"\"}, \"type\": \"choropleth\"}], \"contour\": [{\"colorbar\": {\"outlinewidth\": 0, \"ticks\": \"\"}, \"colorscale\": [[0.0, \"#0d0887\"], [0.1111111111111111, \"#46039f\"], [0.2222222222222222, \"#7201a8\"], [0.3333333333333333, \"#9c179e\"], [0.4444444444444444, \"#bd3786\"], [0.5555555555555556, \"#d8576b\"], [0.6666666666666666, \"#ed7953\"], [0.7777777777777778, \"#fb9f3a\"], [0.8888888888888888, \"#fdca26\"], [1.0, \"#f0f921\"]], \"type\": \"contour\"}], \"contourcarpet\": [{\"colorbar\": {\"outlinewidth\": 0, \"ticks\": \"\"}, \"type\": \"contourcarpet\"}], \"heatmap\": [{\"colorbar\": {\"outlinewidth\": 0, \"ticks\": \"\"}, \"colorscale\": [[0.0, \"#0d0887\"], [0.1111111111111111, \"#46039f\"], [0.2222222222222222, \"#7201a8\"], [0.3333333333333333, \"#9c179e\"], [0.4444444444444444, \"#bd3786\"], [0.5555555555555556, \"#d8576b\"], [0.6666666666666666, \"#ed7953\"], [0.7777777777777778, \"#fb9f3a\"], [0.8888888888888888, \"#fdca26\"], [1.0, \"#f0f921\"]], \"type\": \"heatmap\"}], \"heatmapgl\": [{\"colorbar\": {\"outlinewidth\": 0, \"ticks\": \"\"}, \"colorscale\": [[0.0, \"#0d0887\"], [0.1111111111111111, \"#46039f\"], [0.2222222222222222, \"#7201a8\"], [0.3333333333333333, \"#9c179e\"], [0.4444444444444444, \"#bd3786\"], [0.5555555555555556, \"#d8576b\"], [0.6666666666666666, \"#ed7953\"], [0.7777777777777778, \"#fb9f3a\"], [0.8888888888888888, \"#fdca26\"], [1.0, \"#f0f921\"]], \"type\": \"heatmapgl\"}], \"histogram\": [{\"marker\": {\"colorbar\": {\"outlinewidth\": 0, \"ticks\": \"\"}}, \"type\": \"histogram\"}], \"histogram2d\": [{\"colorbar\": {\"outlinewidth\": 0, \"ticks\": \"\"}, \"colorscale\": [[0.0, \"#0d0887\"], [0.1111111111111111, \"#46039f\"], [0.2222222222222222, \"#7201a8\"], [0.3333333333333333, \"#9c179e\"], [0.4444444444444444, \"#bd3786\"], [0.5555555555555556, \"#d8576b\"], [0.6666666666666666, \"#ed7953\"], [0.7777777777777778, \"#fb9f3a\"], [0.8888888888888888, \"#fdca26\"], [1.0, \"#f0f921\"]], \"type\": \"histogram2d\"}], \"histogram2dcontour\": [{\"colorbar\": {\"outlinewidth\": 0, \"ticks\": \"\"}, \"colorscale\": [[0.0, \"#0d0887\"], [0.1111111111111111, \"#46039f\"], [0.2222222222222222, \"#7201a8\"], [0.3333333333333333, \"#9c179e\"], [0.4444444444444444, \"#bd3786\"], [0.5555555555555556, \"#d8576b\"], [0.6666666666666666, \"#ed7953\"], [0.7777777777777778, \"#fb9f3a\"], [0.8888888888888888, \"#fdca26\"], [1.0, \"#f0f921\"]], \"type\": \"histogram2dcontour\"}], \"mesh3d\": [{\"colorbar\": {\"outlinewidth\": 0, \"ticks\": \"\"}, \"type\": \"mesh3d\"}], \"parcoords\": [{\"line\": {\"colorbar\": {\"outlinewidth\": 0, \"ticks\": \"\"}}, \"type\": \"parcoords\"}], \"pie\": [{\"automargin\": true, \"type\": \"pie\"}], \"scatter\": [{\"marker\": {\"colorbar\": {\"outlinewidth\": 0, \"ticks\": \"\"}}, \"type\": \"scatter\"}], \"scatter3d\": [{\"line\": {\"colorbar\": {\"outlinewidth\": 0, \"ticks\": \"\"}}, \"marker\": {\"colorbar\": {\"outlinewidth\": 0, \"ticks\": \"\"}}, \"type\": \"scatter3d\"}], \"scattercarpet\": [{\"marker\": {\"colorbar\": {\"outlinewidth\": 0, \"ticks\": \"\"}}, \"type\": \"scattercarpet\"}], \"scattergeo\": [{\"marker\": {\"colorbar\": {\"outlinewidth\": 0, \"ticks\": \"\"}}, \"type\": \"scattergeo\"}], \"scattergl\": [{\"marker\": {\"colorbar\": {\"outlinewidth\": 0, \"ticks\": \"\"}}, \"type\": \"scattergl\"}], \"scattermapbox\": [{\"marker\": {\"colorbar\": {\"outlinewidth\": 0, \"ticks\": \"\"}}, \"type\": \"scattermapbox\"}], \"scatterpolar\": [{\"marker\": {\"colorbar\": {\"outlinewidth\": 0, \"ticks\": \"\"}}, \"type\": \"scatterpolar\"}], \"scatterpolargl\": [{\"marker\": {\"colorbar\": {\"outlinewidth\": 0, \"ticks\": \"\"}}, \"type\": \"scatterpolargl\"}], \"scatterternary\": [{\"marker\": {\"colorbar\": {\"outlinewidth\": 0, \"ticks\": \"\"}}, \"type\": \"scatterternary\"}], \"surface\": [{\"colorbar\": {\"outlinewidth\": 0, \"ticks\": \"\"}, \"colorscale\": [[0.0, \"#0d0887\"], [0.1111111111111111, \"#46039f\"], [0.2222222222222222, \"#7201a8\"], [0.3333333333333333, \"#9c179e\"], [0.4444444444444444, \"#bd3786\"], [0.5555555555555556, \"#d8576b\"], [0.6666666666666666, \"#ed7953\"], [0.7777777777777778, \"#fb9f3a\"], [0.8888888888888888, \"#fdca26\"], [1.0, \"#f0f921\"]], \"type\": \"surface\"}], \"table\": [{\"cells\": {\"fill\": {\"color\": \"#EBF0F8\"}, \"line\": {\"color\": \"white\"}}, \"header\": {\"fill\": {\"color\": \"#C8D4E3\"}, \"line\": {\"color\": \"white\"}}, \"type\": \"table\"}]}, \"layout\": {\"annotationdefaults\": {\"arrowcolor\": \"#2a3f5f\", \"arrowhead\": 0, \"arrowwidth\": 1}, \"coloraxis\": {\"colorbar\": {\"outlinewidth\": 0, \"ticks\": \"\"}}, \"colorscale\": {\"diverging\": [[0, \"#8e0152\"], [0.1, \"#c51b7d\"], [0.2, \"#de77ae\"], [0.3, \"#f1b6da\"], [0.4, \"#fde0ef\"], [0.5, \"#f7f7f7\"], [0.6, \"#e6f5d0\"], [0.7, \"#b8e186\"], [0.8, \"#7fbc41\"], [0.9, \"#4d9221\"], [1, \"#276419\"]], \"sequential\": [[0.0, \"#0d0887\"], [0.1111111111111111, \"#46039f\"], [0.2222222222222222, \"#7201a8\"], [0.3333333333333333, \"#9c179e\"], [0.4444444444444444, \"#bd3786\"], [0.5555555555555556, \"#d8576b\"], [0.6666666666666666, \"#ed7953\"], [0.7777777777777778, \"#fb9f3a\"], [0.8888888888888888, \"#fdca26\"], [1.0, \"#f0f921\"]], \"sequentialminus\": [[0.0, \"#0d0887\"], [0.1111111111111111, \"#46039f\"], [0.2222222222222222, \"#7201a8\"], [0.3333333333333333, \"#9c179e\"], [0.4444444444444444, \"#bd3786\"], [0.5555555555555556, \"#d8576b\"], [0.6666666666666666, \"#ed7953\"], [0.7777777777777778, \"#fb9f3a\"], [0.8888888888888888, \"#fdca26\"], [1.0, \"#f0f921\"]]}, \"colorway\": [\"#636efa\", \"#EF553B\", \"#00cc96\", \"#ab63fa\", \"#FFA15A\", \"#19d3f3\", \"#FF6692\", \"#B6E880\", \"#FF97FF\", \"#FECB52\"], \"font\": {\"color\": \"#2a3f5f\"}, \"geo\": {\"bgcolor\": \"white\", \"lakecolor\": \"white\", \"landcolor\": \"#E5ECF6\", \"showlakes\": true, \"showland\": true, \"subunitcolor\": \"white\"}, \"hoverlabel\": {\"align\": \"left\"}, \"hovermode\": \"closest\", \"mapbox\": {\"style\": \"light\"}, \"paper_bgcolor\": \"white\", \"plot_bgcolor\": \"#E5ECF6\", \"polar\": {\"angularaxis\": {\"gridcolor\": \"white\", \"linecolor\": \"white\", \"ticks\": \"\"}, \"bgcolor\": \"#E5ECF6\", \"radialaxis\": {\"gridcolor\": \"white\", \"linecolor\": \"white\", \"ticks\": \"\"}}, \"scene\": {\"xaxis\": {\"backgroundcolor\": \"#E5ECF6\", \"gridcolor\": \"white\", \"gridwidth\": 2, \"linecolor\": \"white\", \"showbackground\": true, \"ticks\": \"\", \"zerolinecolor\": \"white\"}, \"yaxis\": {\"backgroundcolor\": \"#E5ECF6\", \"gridcolor\": \"white\", \"gridwidth\": 2, \"linecolor\": \"white\", \"showbackground\": true, \"ticks\": \"\", \"zerolinecolor\": \"white\"}, \"zaxis\": {\"backgroundcolor\": \"#E5ECF6\", \"gridcolor\": \"white\", \"gridwidth\": 2, \"linecolor\": \"white\", \"showbackground\": true, \"ticks\": \"\", \"zerolinecolor\": \"white\"}}, \"shapedefaults\": {\"line\": {\"color\": \"#2a3f5f\"}}, \"ternary\": {\"aaxis\": {\"gridcolor\": \"white\", \"linecolor\": \"white\", \"ticks\": \"\"}, \"baxis\": {\"gridcolor\": \"white\", \"linecolor\": \"white\", \"ticks\": \"\"}, \"bgcolor\": \"#E5ECF6\", \"caxis\": {\"gridcolor\": \"white\", \"linecolor\": \"white\", \"ticks\": \"\"}}, \"title\": {\"x\": 0.05}, \"xaxis\": {\"automargin\": true, \"gridcolor\": \"white\", \"linecolor\": \"white\", \"ticks\": \"\", \"title\": {\"standoff\": 15}, \"zerolinecolor\": \"white\", \"zerolinewidth\": 2}, \"yaxis\": {\"automargin\": true, \"gridcolor\": \"white\", \"linecolor\": \"white\", \"ticks\": \"\", \"title\": {\"standoff\": 15}, \"zerolinecolor\": \"white\", \"zerolinewidth\": 2}}}, \"title\": {\"text\": \"Original K-Means Plots\"}},\n",
              "                        {\"responsive\": true}\n",
              "                    ).then(function(){\n",
              "                            \n",
              "var gd = document.getElementById('5a17a34d-0e90-4bf2-9b7c-adb8a6e59487');\n",
              "var x = new MutationObserver(function (mutations, observer) {{\n",
              "        var display = window.getComputedStyle(gd).display;\n",
              "        if (!display || display === 'none') {{\n",
              "            console.log([gd, 'removed!']);\n",
              "            Plotly.purge(gd);\n",
              "            observer.disconnect();\n",
              "        }}\n",
              "}});\n",
              "\n",
              "// Listen for the removal of the full notebook cells\n",
              "var notebookContainer = gd.closest('#notebook-container');\n",
              "if (notebookContainer) {{\n",
              "    x.observe(notebookContainer, {childList: true});\n",
              "}}\n",
              "\n",
              "// Listen for the clearing of the current output cell\n",
              "var outputEl = gd.closest('.output');\n",
              "if (outputEl) {{\n",
              "    x.observe(outputEl, {childList: true});\n",
              "}}\n",
              "\n",
              "                        })\n",
              "                };\n",
              "                \n",
              "            </script>\n",
              "        </div>\n",
              "</body>\n",
              "</html>"
            ]
          },
          "metadata": {
            "tags": []
          }
        }
      ]
    },
    {
      "cell_type": "code",
      "metadata": {
        "id": "G4esKCVXqDKz",
        "colab": {
          "base_uri": "https://localhost:8080/",
          "height": 542
        },
        "outputId": "d4e20b51-9025-4c21-b671-99702f2915b0"
      },
      "source": [
        "labels_frame_df = pd.Series(data=labels_df_e4).map(Encode)\n",
        "fig = px.scatter_matrix(customers3, dimensions=[\"Age\", \"Annual Income (k$)\", \"Spending Score (1-100)\"], color=labels_frame_df, title=\"DP K-Means Plots with e=25\")\n",
        "fig.update_layout(font_size=8)\n",
        "fig.update_layout(legend_font_size=13)\n",
        "fig.show()"
      ],
      "execution_count": 22,
      "outputs": [
        {
          "output_type": "display_data",
          "data": {
            "text/html": [
              "<html>\n",
              "<head><meta charset=\"utf-8\" /></head>\n",
              "<body>\n",
              "    <div>\n",
              "            <script src=\"https://cdnjs.cloudflare.com/ajax/libs/mathjax/2.7.5/MathJax.js?config=TeX-AMS-MML_SVG\"></script><script type=\"text/javascript\">if (window.MathJax) {MathJax.Hub.Config({SVG: {font: \"STIX-Web\"}});}</script>\n",
              "                <script type=\"text/javascript\">window.PlotlyConfig = {MathJaxConfig: 'local'};</script>\n",
              "        <script src=\"https://cdn.plot.ly/plotly-latest.min.js\"></script>    \n",
              "            <div id=\"b21bfadb-63c5-4d9c-8611-a6c3373e0f79\" class=\"plotly-graph-div\" style=\"height:525px; width:100%;\"></div>\n",
              "            <script type=\"text/javascript\">\n",
              "                \n",
              "                    window.PLOTLYENV=window.PLOTLYENV || {};\n",
              "                    \n",
              "                if (document.getElementById(\"b21bfadb-63c5-4d9c-8611-a6c3373e0f79\")) {\n",
              "                    Plotly.newPlot(\n",
              "                        'b21bfadb-63c5-4d9c-8611-a6c3373e0f79',\n",
              "                        [{\"dimensions\": [{\"axis\": {\"matches\": true}, \"label\": \"Age\", \"values\": [19, 61, 47, 54, 51, 53, 59, 50, 31, 65, 58, 31, 27, 68, 57, 41, 69, 64, 61, 51, 38, 67, 43, 64, 70, 18, 51, 56, 37, 27, 58, 46, 55, 47, 62, 54, 49, 31, 35, 61, 61, 22, 24, 34, 26, 46, 22, 50, 57, 29, 52, 26, 60, 35, 46, 60, 24, 28, 43, 54, 69, 70, 60, 52, 52, 29, 20, 25, 40, 45, 58, 67, 42, 66, 54, 22, 55, 25, 27, 21, 40, 28, 27, 60, 66, 60, 36, 54, 48, 57, 34, 56, 65, 52, 20, 18, 44, 65, 48, 55, 53, 31, 49, 31, 57, 64, 42, 48, 38, 19, 29, 44, 65, 36, 26, 34, 59, 41, 37, 64, 58, 59, 43, 48, 69, 45, 21, 36, 20, 24, 43, 65, 62, 64, 25, 41, 53, 45, 55, 40, 67, 18, 48, 61, 49, 62, 56, 55, 31, 29, 60, 27, 27, 25, 52, 20, 47, 57, 41, 42, 22, 36, 63, 47, 69, 21, 32, 39, 47, 50, 35, 61, 32, 44, 50, 67, 32, 51, 33, 55, 53, 63, 54, 20, 18, 47, 28, 53, 41, 70, 31, 35, 32, 67, 64, 58, 37, 42, 32, 45, 22, 32, 43, 57, 47, 65, 46, 56, 26, 21, 36, 56, 70, 27, 33, 49, 43, 31, 20, 18, 39, 41, 53, 25, 43, 28, 49, 40, 67, 46, 23, 38, 48, 69, 59, 26, 53, 29, 34, 22, 62, 29, 61, 37, 25, 19, 41, 29, 26, 39, 56, 48, 22, 33, 66, 32, 26, 26, 19, 29, 69, 45, 29, 26, 20, 26, 50, 52, 40, 40, 55, 51, 18, 43, 55, 47, 18, 40, 36, 69, 59, 32, 27, 67, 32, 35, 26, 48, 30, 20, 22, 23, 45, 43, 21, 20, 70, 59, 50, 45, 31, 68, 19, 56, 33, 36, 33, 21, 38, 19, 31, 47, 34, 39, 34, 19, 18]}, {\"axis\": {\"matches\": true}, \"label\": \"Annual Income (k$)\", \"values\": [15, 15, 15, 15, 16, 16, 16, 17, 17, 17, 17, 17, 18, 18, 18, 18, 19, 19, 19, 19, 19, 19, 19, 19, 19, 20, 20, 20, 20, 20, 20, 20, 21, 21, 21, 21, 21, 21, 21, 21, 22, 22, 22, 22, 23, 23, 23, 23, 23, 23, 23, 24, 24, 24, 25, 25, 25, 25, 25, 25, 26, 26, 26, 26, 26, 27, 27, 27, 28, 28, 28, 28, 28, 28, 28, 28, 29, 29, 29, 29, 29, 30, 30, 30, 30, 30, 30, 31, 31, 31, 31, 31, 31, 32, 32, 32, 32, 32, 32, 33, 33, 33, 33, 34, 34, 34, 34, 34, 34, 34, 34, 34, 34, 34, 34, 34, 34, 35, 35, 35, 35, 36, 36, 36, 36, 37, 37, 37, 37, 37, 37, 38, 38, 38, 38, 38, 38, 38, 39, 39, 39, 39, 39, 39, 39, 39, 40, 40, 40, 40, 40, 40, 40, 40, 40, 41, 41, 41, 41, 42, 42, 42, 42, 42, 42, 42, 42, 43, 43, 43, 43, 44, 45, 45, 45, 45, 45, 45, 45, 46, 46, 46, 46, 46, 46, 46, 46, 46, 46, 47, 47, 47, 47, 47, 47, 47, 48, 48, 48, 48, 48, 48, 49, 49, 49, 49, 50, 50, 50, 50, 50, 51, 51, 51, 52, 52, 52, 53, 53, 53, 53, 53, 53, 53, 54, 54, 54, 54, 54, 54, 54, 54, 54, 54, 54, 55, 55, 55, 55, 55, 55, 55, 55, 55, 55, 56, 56, 56, 56, 56, 56, 56, 56, 56, 56, 56, 56, 57, 57, 57, 57, 57, 57, 58, 58, 58, 58, 58, 58, 59, 59, 59, 59, 59, 59, 60, 60, 60, 60, 60, 60, 60, 60, 61, 61, 61, 61, 61, 61, 61, 61, 62, 62, 62, 62, 62, 62, 62, 62, 63, 63, 63, 63, 63, 64, 64, 64, 64, 64, 64, 64, 64, 65, 65, 65, 67, 68]}, {\"axis\": {\"matches\": true}, \"label\": \"Spending Score (1-100)\", \"values\": [39, 8, 16, 1, 35, 8, 33, 31, 33, 1, 24, 40, 28, 7, 28, 20, 35, 3, 2, 39, 30, 14, 36, 2, 35, 28, 32, 11, 13, 36, 15, 19, 22, 29, 3, 8, 33, 36, 35, 23, 17, 31, 35, 33, 29, 23, 23, 27, 37, 19, 29, 18, 13, 35, 5, 27, 16, 10, 1, 20, 4, 18, 4, 27, 7, 35, 35, 18, 26, 32, 31, 1, 9, 31, 14, 18, 1, 5, 33, 29, 31, 43, 26, 36, 21, 4, 31, 1, 27, 11, 5, 40, 14, 10, 27, 29, 15, 14, 16, 12, 4, 42, 14, 1, 6, 19, 17, 27, 26, 41, 8, 24, 41, 18, 6, 44, 39, 38, 28, 9, 19, 35, 4, 13, 11, 18, 25, 26, 15, 20, 28, 35, 14, 4, 46, 44, 9, 21, 34, 2, 33, 10, 36, 27, 28, 4, 3, 23, 42, 42, 25, 47, 37, 6, 40, 29, 16, 33, 13, 24, 42, 32, 26, 13, 12, 2, 17, 35, 41, 45, 23, 29, 29, 23, 26, 15, 47, 15, 13, 28, 26, 34, 20, 24, 8, 44, 17, 46, 26, 16, 11, 32, 10, 26, 33, 16, 22, 5, 47, 44, 44, 34, 12, 21, 42, 11, 17, 28, 27, 25, 10, 45, 32, 40, 41, 48, 45, 26, 3, 47, 22, 48, 44, 17, 30, 19, 42, 48, 41, 44, 16, 38, 46, 43, 47, 11, 38, 19, 38, 21, 21, 45, 46, 8, 34, 1, 46, 44, 49, 9, 12, 1, 7, 39, 2, 34, 36, 40, 51, 48, 24, 41, 38, 36, 36, 45, 46, 22, 22, 30, 5, 45, 41, 7, 26, 47, 39, 40, 42, 22, 3, 42, 50, 16, 23, 5, 39, 42, 46, 49, 36, 41, 11, 18, 42, 31, 15, 4, 43, 2, 12, 43, 11, 23, 10, 38, 16, 19, 42, 46, 16, 44, 28, 12, 10, 12, 36]}], \"hoverlabel\": {\"namelength\": 0}, \"hovertemplate\": \"color=Group 5<br>%{xaxis.title.text}=%{x}<br>%{yaxis.title.text}=%{y}\", \"legendgroup\": \"color=Group 5\", \"marker\": {\"color\": \"#636efa\", \"symbol\": \"circle\"}, \"name\": \"color=Group 5\", \"showlegend\": true, \"type\": \"splom\"}, {\"dimensions\": [{\"axis\": {\"matches\": true}, \"label\": \"Age\", \"values\": [47, 21, 61, 27, 63, 62, 66, 38, 21, 34, 53, 23, 20, 23, 45, 59, 58, 65, 45, 34, 53, 22, 29, 60, 67, 53, 48, 65, 23, 66, 37, 62, 54, 30, 30, 30, 67, 35, 70, 25, 32, 58, 24, 33, 22, 45, 42, 34, 47, 51, 20, 28, 38, 22, 33, 20, 45, 32, 21, 69, 45, 52, 45, 42, 21, 66, 21, 46, 46, 44, 28, 68, 35, 67, 50, 35, 56, 28, 21, 65, 25, 63, 31, 24, 50, 63, 20, 43, 18, 18, 55, 32, 68, 51, 25, 66, 62, 61, 20, 18, 49, 23, 45, 31, 47, 63, 56, 33, 35, 38, 34, 36, 29, 61, 51, 23, 50, 53, 63, 40, 35, 28, 21, 69, 52, 46, 69, 34, 67, 57, 41, 22, 32, 32, 60, 62, 65, 63, 20, 18, 70, 29, 67, 21, 28, 19, 57, 49, 29, 60, 30, 57, 53, 56, 18, 56, 56, 65, 60, 18, 48, 68, 30, 59, 67, 54, 65, 20, 38, 54, 20, 52, 52, 22, 26, 57, 24, 66, 31, 35, 47, 25, 23, 54, 25, 24, 68, 56, 67, 29, 70, 66, 66, 63, 21, 42, 31, 24, 55, 69, 50, 32, 69, 36, 70, 37, 54, 58, 34, 41, 67, 46, 51, 33, 33, 49, 58, 59, 50, 31, 70, 37, 58, 53, 63, 47, 45, 37, 58, 27, 68, 51, 69, 60, 70, 56, 64, 67, 54, 23, 52, 70, 19, 27, 70, 32, 38, 68, 66, 62, 28, 67, 36, 50, 46, 54, 23, 50, 42, 66, 48, 31, 57, 48, 58, 19, 68, 43, 63, 18, 46, 43, 60, 28, 70, 28, 66, 35, 60, 21, 47, 46, 60, 42, 37, 42, 60, 37, 62, 21, 42, 34, 39, 29, 30, 23, 38, 45, 57, 57, 23, 26, 50, 21, 67, 22]}, {\"axis\": {\"matches\": true}, \"label\": \"Annual Income (k$)\", \"values\": [15, 15, 15, 15, 15, 15, 15, 15, 15, 16, 16, 16, 16, 16, 16, 16, 16, 16, 16, 16, 16, 17, 17, 17, 17, 17, 17, 18, 18, 18, 18, 18, 19, 19, 19, 19, 19, 19, 19, 19, 19, 19, 20, 20, 20, 20, 20, 20, 20, 20, 20, 21, 21, 21, 21, 21, 22, 22, 22, 22, 22, 22, 22, 22, 23, 23, 23, 23, 23, 23, 23, 23, 23, 23, 23, 23, 24, 24, 24, 24, 24, 24, 25, 25, 25, 25, 25, 25, 25, 25, 25, 25, 25, 26, 26, 26, 26, 26, 26, 26, 26, 26, 26, 27, 27, 27, 27, 27, 28, 28, 28, 28, 28, 29, 29, 29, 29, 29, 29, 29, 29, 30, 30, 30, 30, 30, 30, 30, 31, 31, 31, 31, 32, 32, 32, 32, 32, 33, 33, 33, 33, 33, 33, 33, 33, 34, 34, 34, 34, 34, 34, 34, 34, 34, 35, 35, 35, 35, 35, 35, 36, 36, 36, 36, 36, 37, 37, 37, 37, 37, 37, 37, 37, 37, 37, 37, 38, 38, 38, 38, 38, 38, 38, 38, 38, 38, 39, 39, 39, 39, 39, 39, 39, 39, 39, 39, 39, 39, 40, 40, 40, 40, 41, 41, 41, 42, 42, 42, 42, 42, 42, 42, 42, 42, 42, 42, 42, 43, 43, 43, 43, 43, 43, 43, 43, 43, 43, 43, 44, 44, 44, 44, 44, 44, 45, 45, 45, 45, 45, 46, 46, 46, 46, 46, 46, 46, 46, 46, 46, 47, 47, 47, 47, 47, 47, 47, 47, 47, 48, 48, 48, 48, 48, 48, 48, 48, 48, 48, 48, 48, 48, 48, 49, 49, 49, 49, 49, 49, 50, 50, 50, 50, 50, 51, 51, 51, 51, 52, 52, 52, 52, 52, 52, 53, 53, 53, 54, 54, 54, 54, 54, 54, 54, 54, 56, 57]}, {\"axis\": {\"matches\": true}, \"label\": \"Spending Score (1-100)\", \"values\": [78, 75, 86, 75, 94, 56, 74, 43, 81, 88, 71, 77, 86, 45, 78, 73, 57, 88, 51, 68, 76, 76, 43, 70, 92, 43, 88, 99, 94, 70, 94, 84, 43, 52, 72, 94, 65, 99, 98, 98, 83, 84, 77, 83, 79, 71, 57, 56, 79, 82, 96, 99, 66, 64, 50, 66, 62, 80, 98, 88, 89, 42, 80, 51, 75, 63, 85, 73, 95, 59, 66, 99, 60, 92, 98, 98, 68, 66, 81, 60, 73, 46, 73, 56, 85, 56, 61, 45, 80, 68, 60, 68, 51, 69, 74, 55, 81, 70, 97, 80, 80, 79, 94, 58, 65, 51, 62, 83, 61, 52, 86, 58, 82, 48, 55, 87, 96, 70, 55, 53, 61, 56, 73, 77, 80, 69, 61, 84, 73, 79, 95, 89, 81, 89, 53, 57, 69, 54, 66, 92, 53, 64, 56, 81, 98, 99, 50, 86, 69, 83, 73, 99, 52, 47, 97, 68, 67, 76, 81, 62, 84, 54, 51, 75, 97, 93, 74, 94, 73, 70, 75, 63, 63, 60, 63, 67, 92, 66, 82, 50, 99, 68, 72, 71, 53, 73, 97, 98, 92, 88, 85, 54, 91, 73, 74, 69, 61, 65, 66, 59, 55, 95, 66, 58, 89, 94, 81, 54, 67, 59, 71, 79, 51, 60, 79, 52, 47, 60, 75, 54, 72, 89, 91, 53, 64, 92, 61, 78, 73, 99, 98, 50, 46, 64, 91, 52, 52, 92, 66, 66, 91, 56, 55, 51, 64, 95, 95, 97, 70, 67, 76, 52, 75, 61, 49, 59, 71, 50, 76, 75, 94, 80, 49, 52, 57, 59, 48, 50, 51, 59, 49, 93, 53, 85, 55, 55, 62, 55, 56, 78, 88, 49, 49, 85, 52, 56, 56, 81, 75, 85, 63, 93, 59, 76, 70, 55, 55, 53, 51, 50, 52, 54, 66, 57, 50, 55]}], \"hoverlabel\": {\"namelength\": 0}, \"hovertemplate\": \"color=Group 2<br>%{xaxis.title.text}=%{x}<br>%{yaxis.title.text}=%{y}\", \"legendgroup\": \"color=Group 2\", \"marker\": {\"color\": \"#EF553B\", \"symbol\": \"circle\"}, \"name\": \"color=Group 2\", \"showlegend\": true, \"type\": \"splom\"}, {\"dimensions\": [{\"axis\": {\"matches\": true}, \"label\": \"Age\", \"values\": [20, 18, 35, 27, 19]}, {\"axis\": {\"matches\": true}, \"label\": \"Annual Income (k$)\", \"values\": [16, 17, 18, 24, 33]}, {\"axis\": {\"matches\": true}, \"label\": \"Spending Score (1-100)\", \"values\": [6, 6, 6, 4, 2]}], \"hoverlabel\": {\"namelength\": 0}, \"hovertemplate\": \"color=Group 1<br>%{xaxis.title.text}=%{x}<br>%{yaxis.title.text}=%{y}\", \"legendgroup\": \"color=Group 1\", \"marker\": {\"color\": \"#00cc96\", \"symbol\": \"circle\"}, \"name\": \"color=Group 1\", \"showlegend\": true, \"type\": \"splom\"}, {\"dimensions\": [{\"axis\": {\"matches\": true}, \"label\": \"Age\", \"values\": [70, 57, 42, 18, 24, 60, 64, 70, 66, 67, 51, 45, 53, 45, 43, 26, 62, 55, 27, 62, 56, 50, 36, 25, 28, 53, 21, 34, 43, 56, 20, 54, 40, 68, 27, 35, 51, 44, 24, 30, 49, 64, 48, 37, 21, 52, 56, 52, 49, 30, 67, 26, 60, 48, 51, 57, 35, 38, 66, 43, 25, 49, 62, 66, 54, 66, 65, 35, 19, 63, 21, 35, 61, 39, 24, 49, 43, 49, 60, 51, 45, 60, 69, 28, 65, 37, 46, 18, 19, 63, 49, 58, 37, 29, 48, 20, 21, 39, 18, 27, 40, 50, 45, 26, 51, 27, 21, 69, 22, 55, 20, 47, 30, 39, 40, 34, 32, 19, 62, 69, 31, 31, 18, 27, 36, 39, 39, 59, 18, 58, 62, 56, 64, 40, 38, 65, 58, 55, 70, 38, 50, 33, 59, 25, 31, 41, 66, 58, 42, 67, 69, 25, 52, 29, 32, 64, 27, 59, 23, 25, 40, 35, 27, 42, 63, 32, 21, 62, 32, 23, 32, 41, 60, 56, 23, 32, 28, 64, 70, 52, 56, 39, 38, 54, 30, 30, 27, 34, 38, 43, 39, 24, 32, 69, 29, 29, 39, 33, 51, 43, 47, 21, 34, 18, 25, 19, 30, 67, 32, 26, 45, 55, 18, 47, 66, 33, 46, 19, 26, 31, 53, 68, 54, 47, 66, 58, 31, 31, 45, 41, 44, 33, 56, 43, 54, 29, 21, 30, 20, 29, 48, 55, 40, 47, 39, 54, 57, 31, 38, 21, 34, 35, 20, 67, 63, 20, 41, 23, 37, 49, 33, 31, 24, 37, 55, 59, 38, 36, 47, 18, 67, 32, 46, 47, 36, 33, 43, 28, 58, 31, 51, 66, 57, 44, 31, 28, 64, 68, 32, 36, 27, 65, 30, 53, 59, 62, 66, 47, 22, 31, 19, 45, 32, 25, 47, 66, 70, 56, 19, 20, 45, 39, 51, 41, 64, 38, 22, 43, 26, 64, 19, 31, 59, 18, 28, 35, 53, 18, 66, 45, 36, 42, 45, 49, 66, 35, 60, 54, 19, 31, 20, 52, 30, 62, 48, 26, 26, 38, 37, 37, 28, 40, 19, 25, 54, 47, 34, 23, 70, 32, 66, 32, 31, 29, 55, 44, 55, 30, 65, 18, 36, 61, 44, 19, 28, 24, 43, 37, 69, 69, 34, 60, 51, 28, 36, 48, 53, 69, 56, 21, 67, 47, 67, 36, 64, 32, 35, 45, 53, 54, 56, 57, 19, 53, 36, 23, 20, 66, 62, 70, 60, 60, 46, 63, 33, 28, 33, 29, 23, 28, 33, 62, 46, 62, 36, 56, 18, 22, 48, 19, 66, 20, 25, 65, 50, 58, 24, 48, 64, 55, 64, 67, 38, 20, 63, 69, 42, 50, 34, 25, 43, 24, 52, 18, 53, 41, 38, 19, 66, 32, 64, 19, 55, 41, 68, 46, 57, 27, 70, 27, 32, 22, 65, 36, 26, 64, 19, 56, 45, 18, 60, 46, 44, 35, 20, 34, 57, 61, 35, 62, 35, 49, 37, 56, 42, 62, 63, 29, 36, 36, 35, 67, 65, 37, 70, 44, 63, 22, 53, 20, 69, 25, 20, 55, 58, 69, 18, 30, 32, 64, 41, 56, 63, 20, 32, 52, 69, 53, 37, 35, 38, 68, 55, 58, 57, 34, 46, 23, 30, 43, 29, 52, 53, 24, 67, 57, 66, 24, 67, 23, 47, 56, 37, 36, 39, 27, 24, 26, 68, 36, 34, 57, 64, 45, 26, 35, 56, 39, 45, 40, 28, 69, 30, 60, 26, 43, 23, 66]}, {\"axis\": {\"matches\": true}, \"label\": \"Annual Income (k$)\", \"values\": [51, 52, 52, 53, 53, 54, 54, 54, 54, 55, 55, 55, 55, 55, 56, 56, 56, 57, 57, 57, 57, 58, 58, 58, 58, 58, 58, 58, 58, 58, 59, 59, 59, 59, 59, 59, 59, 60, 60, 60, 60, 60, 60, 61, 61, 61, 61, 61, 62, 62, 62, 62, 62, 62, 62, 62, 62, 62, 62, 62, 62, 62, 62, 63, 63, 63, 63, 63, 63, 63, 63, 63, 64, 64, 64, 64, 64, 64, 64, 64, 64, 64, 64, 65, 65, 65, 65, 65, 65, 65, 65, 65, 66, 66, 66, 66, 66, 67, 67, 67, 67, 67, 67, 67, 67, 67, 67, 67, 68, 68, 68, 68, 68, 69, 69, 69, 69, 69, 69, 70, 70, 70, 70, 70, 70, 70, 71, 71, 71, 71, 71, 71, 71, 71, 71, 72, 72, 72, 72, 72, 72, 72, 72, 72, 72, 73, 73, 73, 73, 73, 73, 73, 73, 73, 73, 74, 74, 74, 74, 74, 74, 74, 75, 75, 75, 75, 75, 75, 76, 76, 76, 76, 76, 76, 76, 77, 77, 77, 77, 77, 77, 77, 77, 77, 78, 78, 78, 78, 78, 78, 78, 79, 79, 79, 79, 79, 79, 79, 79, 80, 80, 80, 80, 80, 80, 80, 80, 80, 80, 80, 80, 80, 80, 80, 80, 80, 80, 80, 81, 81, 81, 81, 81, 81, 81, 81, 81, 81, 81, 81, 81, 81, 81, 81, 81, 81, 81, 81, 82, 82, 82, 82, 82, 82, 82, 82, 82, 82, 82, 82, 82, 83, 83, 83, 83, 83, 83, 84, 84, 84, 84, 84, 84, 84, 85, 85, 85, 85, 85, 85, 85, 85, 85, 86, 86, 86, 86, 86, 86, 86, 86, 86, 87, 87, 87, 87, 87, 87, 87, 87, 88, 88, 88, 88, 88, 89, 89, 89, 89, 89, 89, 89, 90, 90, 90, 90, 90, 90, 90, 90, 90, 90, 90, 90, 91, 91, 91, 91, 92, 92, 92, 93, 93, 93, 93, 93, 93, 93, 93, 93, 94, 94, 94, 94, 94, 94, 94, 94, 94, 95, 95, 95, 95, 95, 95, 95, 96, 96, 96, 96, 96, 96, 96, 97, 97, 97, 97, 97, 97, 97, 97, 97, 97, 98, 98, 98, 98, 99, 99, 99, 99, 99, 99, 100, 100, 100, 101, 101, 101, 101, 101, 101, 101, 101, 101, 102, 102, 102, 102, 103, 103, 103, 103, 103, 103, 103, 104, 104, 104, 105, 105, 105, 105, 105, 105, 106, 106, 106, 106, 106, 106, 106, 106, 107, 107, 107, 107, 107, 107, 107, 107, 107, 107, 108, 108, 108, 108, 108, 108, 108, 108, 108, 108, 109, 109, 109, 109, 109, 110, 110, 110, 110, 110, 110, 110, 110, 111, 111, 111, 111, 111, 112, 112, 112, 112, 112, 113, 113, 114, 114, 114, 114, 114, 115, 115, 115, 115, 115, 115, 115, 115, 115, 115, 116, 116, 116, 116, 116, 116, 117, 117, 117, 118, 118, 118, 119, 119, 119, 120, 120, 120, 120, 121, 121, 121, 121, 121, 121, 122, 122, 122, 123, 123, 123, 123, 123, 123, 123, 124, 124, 125, 125, 125, 126, 126, 126, 126, 126, 126, 126, 126, 126, 127, 127, 127, 127, 127, 127, 128, 128, 128, 128, 128, 129, 129, 129, 129, 129, 129, 130, 130, 130, 130, 131, 131, 131, 131, 131, 132, 132, 132, 132, 133, 133, 133, 133, 133, 134, 134, 134, 134, 134, 134, 134, 134, 135, 135, 136, 136, 136, 136, 136, 137, 137, 137, 137, 137, 137]}, {\"axis\": {\"matches\": true}, \"label\": \"Spending Score (1-100)\", \"values\": [98, 95, 94, 92, 93, 82, 76, 88, 81, 67, 99, 82, 70, 84, 82, 82, 95, 58, 84, 99, 69, 78, 89, 70, 84, 65, 81, 60, 76, 88, 78, 95, 73, 55, 82, 56, 77, 55, 52, 65, 73, 71, 49, 80, 88, 51, 65, 94, 48, 90, 59, 55, 59, 87, 59, 68, 67, 79, 94, 64, 70, 56, 50, 50, 46, 48, 52, 90, 54, 66, 62, 83, 46, 47, 89, 67, 56, 65, 85, 74, 47, 55, 75, 93, 98, 98, 88, 48, 50, 43, 59, 63, 99, 87, 52, 97, 58, 75, 47, 56, 44, 57, 92, 86, 43, 80, 56, 46, 49, 76, 73, 81, 95, 91, 58, 87, 51, 61, 72, 86, 77, 95, 70, 49, 66, 63, 75, 63, 52, 54, 58, 92, 74, 95, 75, 88, 89, 97, 72, 47, 82, 66, 81, 97, 71, 90, 84, 62, 62, 50, 74, 81, 92, 88, 73, 45, 76, 78, 87, 93, 64, 72, 73, 97, 56, 93, 45, 90, 87, 51, 66, 71, 88, 82, 53, 74, 97, 74, 65, 89, 98, 83, 81, 80, 78, 73, 89, 90, 76, 72, 88, 85, 95, 85, 99, 83, 84, 75, 79, 60, 93, 57, 71, 82, 93, 54, 56, 60, 87, 49, 99, 83, 75, 84, 90, 61, 47, 83, 84, 95, 98, 69, 73, 47, 79, 72, 68, 93, 93, 94, 87, 72, 84, 82, 82, 83, 68, 62, 78, 46, 89, 74, 81, 90, 89, 74, 64, 54, 60, 85, 51, 82, 92, 80, 83, 75, 80, 47, 84, 83, 71, 73, 54, 97, 74, 79, 92, 75, 82, 70, 67, 55, 56, 98, 73, 95, 69, 83, 76, 98, 92, 80, 70, 69, 81, 75, 77, 66, 63, 92, 69, 82, 86, 54, 54, 87, 48, 89, 74, 84, 95, 87, 47, 85, 59, 63, 65, 76, 68, 96, 82, 75, 78, 76, 79, 77, 99, 82, 97, 58, 59, 52, 80, 61, 92, 90, 60, 81, 99, 63, 55, 74, 64, 93, 84, 67, 59, 72, 61, 89, 53, 93, 63, 61, 89, 66, 77, 67, 82, 85, 63, 60, 53, 76, 56, 91, 56, 93, 56, 57, 72, 86, 57, 88, 78, 52, 92, 97, 89, 81, 70, 97, 96, 87, 79, 98, 81, 85, 77, 86, 96, 89, 94, 68, 76, 63, 71, 67, 61, 85, 67, 73, 64, 85, 82, 69, 58, 60, 51, 79, 65, 80, 75, 72, 80, 88, 68, 96, 99, 90, 68, 82, 55, 84, 75, 63, 98, 58, 70, 94, 76, 64, 66, 75, 62, 62, 57, 82, 87, 65, 75, 76, 86, 61, 54, 81, 75, 72, 84, 80, 76, 98, 80, 52, 96, 69, 77, 96, 98, 61, 79, 69, 67, 93, 74, 93, 91, 94, 80, 62, 71, 66, 97, 93, 95, 93, 73, 77, 71, 95, 63, 90, 55, 92, 81, 66, 94, 99, 71, 57, 82, 99, 92, 71, 67, 64, 56, 86, 69, 96, 79, 85, 92, 87, 61, 99, 75, 63, 93, 66, 64, 87, 97, 98, 57, 75, 73, 97, 83, 81, 99, 76, 99, 97, 57, 72, 99, 64, 74, 89, 90, 98, 97, 64, 72, 63, 99, 60, 78, 78, 61, 72, 96, 60, 71, 93, 88, 91, 97, 64, 78, 94, 69, 85, 94, 71, 95, 62, 96, 92, 58, 59, 75, 62, 59, 87, 89, 87, 96, 74, 69, 71, 68, 61, 86, 74, 85, 85, 99, 67, 70, 90, 83, 81, 73, 84, 66, 90]}], \"hoverlabel\": {\"namelength\": 0}, \"hovertemplate\": \"color=Group 4<br>%{xaxis.title.text}=%{x}<br>%{yaxis.title.text}=%{y}\", \"legendgroup\": \"color=Group 4\", \"marker\": {\"color\": \"#ab63fa\", \"symbol\": \"circle\"}, \"name\": \"color=Group 4\", \"showlegend\": true, \"type\": \"splom\"}, {\"dimensions\": [{\"axis\": {\"matches\": true}, \"label\": \"Age\", \"values\": [70, 70, 70, 63, 53, 68, 61, 44, 38, 70, 44, 60, 56, 28, 67, 20, 25, 64, 39, 37, 62, 46, 23, 40, 43, 52, 47, 59, 59, 26, 32, 48, 65, 23, 39, 25, 25, 40, 49, 57, 64, 44, 20, 46, 53, 49, 59, 19, 26, 64, 67, 45, 66, 19, 21, 65, 57, 64, 50, 68, 38, 37, 26, 28, 59, 50, 37, 53, 48, 26, 25, 46, 43, 34, 47, 26, 34, 44, 37, 31, 21, 47, 30, 59, 62, 41, 56, 29, 35, 39, 48, 49, 30, 21, 19, 53, 59, 33, 70, 28, 21, 44, 52, 58, 67, 25, 48, 29, 67, 39, 65, 25, 48, 20, 68, 45, 50, 58, 32, 38, 59, 65, 70, 61, 54, 42, 40, 68, 33, 39, 25, 36, 32, 29, 55, 67, 70, 22, 36, 40, 24, 36, 40, 49, 60, 19, 40, 58, 52, 66, 45, 52, 55, 47, 28, 61, 34, 44, 51, 52, 63, 64, 34, 70, 33, 48, 22, 68, 66, 37, 47, 40, 44, 36, 52, 57, 59, 54, 44, 21, 42, 69, 49, 44, 19, 44, 69, 62, 39, 22, 67, 35, 57, 55, 66, 68, 28, 39, 41, 31, 28, 31, 50, 31, 49, 26, 28, 37, 57, 37, 58, 26, 46, 20, 41, 37, 66, 33, 41, 34, 22, 22, 60, 60, 40, 28, 59, 54, 58, 39, 35, 37, 21, 34, 21, 48, 21, 49, 60, 67, 41, 67, 70, 57, 34, 48, 51, 31, 55, 30, 24, 56, 23, 20, 53, 62, 18, 57, 37, 59, 63, 56, 22, 34, 62, 30, 42, 41, 42, 64, 48, 69, 35, 45, 50, 36, 55, 68, 41, 30, 61, 60, 29, 34, 57, 56, 51, 37, 62, 42, 34, 45, 60, 37, 46, 58, 64, 68, 25, 25, 46, 57, 53, 55, 67, 30, 48, 67, 63, 39, 33, 50, 56, 70, 40, 33, 46, 50, 48, 39, 22, 45, 20, 29, 37, 39, 43, 18, 21, 42, 58, 65, 34, 47, 70, 21, 69, 21, 38, 48, 39, 20, 26, 35, 55, 30, 30, 65, 52, 20, 68, 32, 29, 47, 60, 33, 67, 65, 57, 19, 40, 42, 31, 33, 27, 42, 35, 21, 65, 61, 59, 52, 57, 20, 32, 62, 61, 35, 30, 26, 68, 47, 18, 69, 19, 35, 48, 70, 57, 33, 52, 28, 62, 61, 20, 70, 48, 62, 45, 22, 40, 60, 63, 22, 41, 32, 37, 45, 68, 37, 47, 24, 32, 26, 42, 27, 36, 67, 56, 63, 61, 25, 45, 49, 54, 26, 68, 27, 59, 24, 43, 67, 51, 38, 58, 65, 48, 38, 29, 34, 45, 21, 38, 29, 67, 30, 62, 42, 21, 28, 57, 38, 27, 69, 44, 39, 51, 49, 50, 56, 33, 21, 52, 57, 65, 27, 68, 63, 56, 68, 66, 45, 66, 38, 35, 21, 25, 29, 63, 54, 34, 47, 28, 67, 60, 37, 64, 35, 27, 54, 44, 25, 44, 32]}, {\"axis\": {\"matches\": true}, \"label\": \"Annual Income (k$)\", \"values\": [64, 64, 65, 65, 65, 66, 67, 67, 67, 67, 67, 67, 68, 68, 68, 68, 69, 69, 69, 69, 69, 69, 70, 70, 71, 71, 71, 71, 71, 71, 71, 71, 71, 71, 72, 72, 72, 72, 72, 73, 73, 73, 73, 74, 74, 74, 74, 74, 74, 75, 75, 75, 75, 75, 75, 75, 75, 75, 76, 76, 76, 76, 76, 76, 76, 76, 77, 77, 77, 77, 77, 77, 78, 78, 78, 78, 78, 78, 78, 78, 78, 78, 79, 79, 79, 79, 79, 79, 80, 80, 80, 80, 80, 81, 81, 81, 81, 81, 81, 82, 82, 82, 82, 82, 82, 83, 83, 83, 84, 84, 84, 84, 84, 84, 85, 85, 85, 85, 85, 85, 86, 86, 86, 86, 86, 86, 86, 86, 86, 86, 86, 86, 87, 87, 87, 87, 87, 87, 87, 87, 87, 87, 87, 88, 88, 88, 88, 88, 88, 88, 88, 88, 88, 88, 89, 89, 89, 89, 89, 90, 90, 90, 90, 90, 90, 90, 90, 90, 91, 91, 91, 92, 92, 92, 92, 93, 93, 93, 93, 93, 93, 93, 94, 94, 94, 94, 94, 94, 94, 95, 95, 95, 95, 95, 95, 96, 96, 96, 97, 97, 97, 97, 97, 97, 97, 97, 97, 97, 97, 97, 97, 98, 98, 98, 98, 98, 98, 99, 99, 99, 99, 99, 100, 100, 100, 100, 100, 101, 101, 101, 101, 101, 102, 102, 102, 102, 102, 103, 103, 103, 103, 103, 103, 103, 103, 104, 104, 104, 104, 104, 104, 105, 105, 105, 105, 106, 106, 106, 106, 106, 106, 107, 107, 107, 107, 107, 107, 108, 108, 108, 108, 108, 108, 108, 108, 109, 109, 109, 109, 109, 109, 109, 109, 109, 109, 109, 109, 109, 109, 109, 110, 110, 110, 110, 110, 110, 110, 110, 110, 111, 111, 112, 112, 112, 112, 112, 113, 113, 113, 113, 113, 113, 114, 114, 114, 114, 115, 115, 115, 115, 115, 115, 116, 116, 116, 116, 116, 116, 117, 117, 117, 117, 117, 117, 117, 117, 117, 117, 118, 118, 118, 118, 118, 118, 118, 118, 119, 119, 119, 119, 119, 119, 119, 120, 120, 121, 121, 121, 121, 121, 121, 121, 122, 122, 122, 122, 122, 122, 122, 122, 122, 122, 122, 123, 123, 123, 123, 123, 123, 123, 123, 123, 124, 124, 124, 124, 124, 124, 125, 125, 125, 125, 126, 126, 126, 126, 126, 126, 126, 126, 126, 126, 127, 127, 127, 127, 127, 127, 127, 127, 128, 128, 129, 129, 129, 129, 129, 129, 129, 129, 130, 130, 130, 130, 130, 130, 130, 131, 131, 131, 131, 131, 131, 131, 131, 131, 132, 132, 132, 132, 133, 133, 133, 133, 133, 133, 133, 133, 133, 133, 133, 133, 134, 134, 134, 134, 134, 134, 134, 134, 135, 135, 135, 135, 135, 135, 135, 135, 135, 136, 136, 136, 136, 136, 136, 136, 136, 136, 136, 137, 137, 137, 137, 137, 137, 137, 137, 137, 137, 137, 137, 137, 137, 137]}, {\"axis\": {\"matches\": true}, \"label\": \"Spending Score (1-100)\", \"values\": [15, 41, 15, 40, 6, 23, 24, 1, 40, 15, 38, 28, 37, 26, 19, 16, 36, 40, 8, 12, 22, 27, 29, 6, 35, 21, 9, 34, 11, 4, 29, 29, 34, 6, 12, 18, 34, 34, 28, 43, 3, 7, 5, 32, 33, 34, 9, 10, 42, 5, 40, 18, 27, 36, 42, 41, 5, 6, 9, 8, 43, 42, 42, 40, 33, 2, 11, 6, 36, 25, 12, 5, 17, 1, 16, 21, 22, 20, 1, 27, 37, 39, 29, 27, 36, 25, 35, 39, 31, 3, 6, 15, 7, 22, 5, 28, 11, 43, 12, 10, 19, 7, 23, 34, 46, 38, 29, 13, 10, 11, 18, 37, 2, 40, 19, 37, 26, 31, 14, 38, 36, 46, 42, 44, 13, 20, 9, 2, 29, 8, 19, 40, 32, 21, 34, 21, 18, 12, 27, 14, 28, 10, 13, 18, 2, 24, 1, 15, 13, 17, 1, 31, 19, 18, 30, 32, 37, 46, 9, 31, 16, 25, 16, 46, 21, 7, 28, 40, 24, 21, 9, 13, 39, 36, 1, 36, 14, 2, 40, 24, 41, 1, 7, 46, 1, 24, 14, 33, 41, 22, 33, 28, 30, 15, 36, 5, 1, 6, 26, 19, 42, 4, 35, 37, 23, 16, 18, 11, 46, 32, 15, 28, 15, 38, 2, 37, 49, 47, 39, 19, 25, 23, 9, 46, 32, 4, 2, 24, 5, 12, 26, 35, 19, 44, 22, 6, 10, 34, 10, 1, 17, 15, 26, 2, 23, 2, 35, 33, 23, 18, 41, 30, 18, 19, 47, 2, 50, 4, 8, 47, 6, 49, 34, 23, 4, 42, 51, 4, 10, 9, 11, 4, 45, 49, 7, 31, 33, 27, 39, 21, 20, 50, 46, 27, 21, 37, 18, 5, 45, 18, 19, 23, 14, 40, 2, 29, 43, 18, 25, 23, 6, 45, 30, 42, 10, 17, 11, 19, 15, 7, 8, 14, 53, 12, 7, 9, 14, 40, 8, 51, 49, 26, 45, 52, 49, 29, 45, 32, 9, 36, 1, 43, 20, 5, 21, 18, 14, 5, 13, 4, 40, 18, 13, 37, 49, 34, 51, 14, 25, 49, 42, 48, 30, 16, 43, 50, 42, 20, 15, 21, 21, 16, 46, 9, 37, 52, 26, 3, 16, 24, 46, 34, 39, 19, 48, 40, 33, 8, 25, 13, 23, 9, 28, 44, 21, 8, 24, 51, 14, 14, 21, 11, 38, 2, 23, 54, 52, 54, 28, 53, 48, 22, 45, 1, 20, 2, 29, 7, 23, 35, 2, 17, 37, 22, 30, 3, 23, 16, 24, 5, 32, 33, 37, 19, 33, 49, 10, 29, 22, 33, 31, 40, 11, 53, 37, 1, 35, 44, 27, 11, 41, 55, 10, 13, 46, 21, 41, 19, 16, 37, 49, 32, 47, 21, 12, 56, 57, 45, 7, 35, 39, 48, 48, 3, 37, 2, 19, 49, 45, 48, 14, 9, 35, 24, 13, 24, 29, 18, 44, 46, 35, 46, 26, 1, 7, 25, 54, 54, 26, 26, 56, 41, 27, 18]}], \"hoverlabel\": {\"namelength\": 0}, \"hovertemplate\": \"color=Group 3<br>%{xaxis.title.text}=%{x}<br>%{yaxis.title.text}=%{y}\", \"legendgroup\": \"color=Group 3\", \"marker\": {\"color\": \"#FFA15A\", \"symbol\": \"circle\"}, \"name\": \"color=Group 3\", \"showlegend\": true, \"type\": \"splom\"}],\n",
              "                        {\"dragmode\": \"select\", \"font\": {\"size\": 8}, \"legend\": {\"font\": {\"size\": 13}, \"tracegroupgap\": 0}, \"template\": {\"data\": {\"bar\": [{\"error_x\": {\"color\": \"#2a3f5f\"}, \"error_y\": {\"color\": \"#2a3f5f\"}, \"marker\": {\"line\": {\"color\": \"#E5ECF6\", \"width\": 0.5}}, \"type\": \"bar\"}], \"barpolar\": [{\"marker\": {\"line\": {\"color\": \"#E5ECF6\", \"width\": 0.5}}, \"type\": \"barpolar\"}], \"carpet\": [{\"aaxis\": {\"endlinecolor\": \"#2a3f5f\", \"gridcolor\": \"white\", \"linecolor\": \"white\", \"minorgridcolor\": \"white\", \"startlinecolor\": \"#2a3f5f\"}, \"baxis\": {\"endlinecolor\": \"#2a3f5f\", \"gridcolor\": \"white\", \"linecolor\": \"white\", \"minorgridcolor\": \"white\", \"startlinecolor\": \"#2a3f5f\"}, \"type\": \"carpet\"}], \"choropleth\": [{\"colorbar\": {\"outlinewidth\": 0, \"ticks\": \"\"}, \"type\": \"choropleth\"}], \"contour\": [{\"colorbar\": {\"outlinewidth\": 0, \"ticks\": \"\"}, \"colorscale\": [[0.0, \"#0d0887\"], [0.1111111111111111, \"#46039f\"], [0.2222222222222222, \"#7201a8\"], [0.3333333333333333, \"#9c179e\"], [0.4444444444444444, \"#bd3786\"], [0.5555555555555556, \"#d8576b\"], [0.6666666666666666, \"#ed7953\"], [0.7777777777777778, \"#fb9f3a\"], [0.8888888888888888, \"#fdca26\"], [1.0, \"#f0f921\"]], \"type\": \"contour\"}], \"contourcarpet\": [{\"colorbar\": {\"outlinewidth\": 0, \"ticks\": \"\"}, \"type\": \"contourcarpet\"}], \"heatmap\": [{\"colorbar\": {\"outlinewidth\": 0, \"ticks\": \"\"}, \"colorscale\": [[0.0, \"#0d0887\"], [0.1111111111111111, \"#46039f\"], [0.2222222222222222, \"#7201a8\"], [0.3333333333333333, \"#9c179e\"], [0.4444444444444444, \"#bd3786\"], [0.5555555555555556, \"#d8576b\"], [0.6666666666666666, \"#ed7953\"], [0.7777777777777778, \"#fb9f3a\"], [0.8888888888888888, \"#fdca26\"], [1.0, \"#f0f921\"]], \"type\": \"heatmap\"}], \"heatmapgl\": [{\"colorbar\": {\"outlinewidth\": 0, \"ticks\": \"\"}, \"colorscale\": [[0.0, \"#0d0887\"], [0.1111111111111111, \"#46039f\"], [0.2222222222222222, \"#7201a8\"], [0.3333333333333333, \"#9c179e\"], [0.4444444444444444, \"#bd3786\"], [0.5555555555555556, \"#d8576b\"], [0.6666666666666666, \"#ed7953\"], [0.7777777777777778, \"#fb9f3a\"], [0.8888888888888888, \"#fdca26\"], [1.0, \"#f0f921\"]], \"type\": \"heatmapgl\"}], \"histogram\": [{\"marker\": {\"colorbar\": {\"outlinewidth\": 0, \"ticks\": \"\"}}, \"type\": \"histogram\"}], \"histogram2d\": [{\"colorbar\": {\"outlinewidth\": 0, \"ticks\": \"\"}, \"colorscale\": [[0.0, \"#0d0887\"], [0.1111111111111111, \"#46039f\"], [0.2222222222222222, \"#7201a8\"], [0.3333333333333333, \"#9c179e\"], [0.4444444444444444, \"#bd3786\"], [0.5555555555555556, \"#d8576b\"], [0.6666666666666666, \"#ed7953\"], [0.7777777777777778, \"#fb9f3a\"], [0.8888888888888888, \"#fdca26\"], [1.0, \"#f0f921\"]], \"type\": \"histogram2d\"}], \"histogram2dcontour\": [{\"colorbar\": {\"outlinewidth\": 0, \"ticks\": \"\"}, \"colorscale\": [[0.0, \"#0d0887\"], [0.1111111111111111, \"#46039f\"], [0.2222222222222222, \"#7201a8\"], [0.3333333333333333, \"#9c179e\"], [0.4444444444444444, \"#bd3786\"], [0.5555555555555556, \"#d8576b\"], [0.6666666666666666, \"#ed7953\"], [0.7777777777777778, \"#fb9f3a\"], [0.8888888888888888, \"#fdca26\"], [1.0, \"#f0f921\"]], \"type\": \"histogram2dcontour\"}], \"mesh3d\": [{\"colorbar\": {\"outlinewidth\": 0, \"ticks\": \"\"}, \"type\": \"mesh3d\"}], \"parcoords\": [{\"line\": {\"colorbar\": {\"outlinewidth\": 0, \"ticks\": \"\"}}, \"type\": \"parcoords\"}], \"pie\": [{\"automargin\": true, \"type\": \"pie\"}], \"scatter\": [{\"marker\": {\"colorbar\": {\"outlinewidth\": 0, \"ticks\": \"\"}}, \"type\": \"scatter\"}], \"scatter3d\": [{\"line\": {\"colorbar\": {\"outlinewidth\": 0, \"ticks\": \"\"}}, \"marker\": {\"colorbar\": {\"outlinewidth\": 0, \"ticks\": \"\"}}, \"type\": \"scatter3d\"}], \"scattercarpet\": [{\"marker\": {\"colorbar\": {\"outlinewidth\": 0, \"ticks\": \"\"}}, \"type\": \"scattercarpet\"}], \"scattergeo\": [{\"marker\": {\"colorbar\": {\"outlinewidth\": 0, \"ticks\": \"\"}}, \"type\": \"scattergeo\"}], \"scattergl\": [{\"marker\": {\"colorbar\": {\"outlinewidth\": 0, \"ticks\": \"\"}}, \"type\": \"scattergl\"}], \"scattermapbox\": [{\"marker\": {\"colorbar\": {\"outlinewidth\": 0, \"ticks\": \"\"}}, \"type\": \"scattermapbox\"}], \"scatterpolar\": [{\"marker\": {\"colorbar\": {\"outlinewidth\": 0, \"ticks\": \"\"}}, \"type\": \"scatterpolar\"}], \"scatterpolargl\": [{\"marker\": {\"colorbar\": {\"outlinewidth\": 0, \"ticks\": \"\"}}, \"type\": \"scatterpolargl\"}], \"scatterternary\": [{\"marker\": {\"colorbar\": {\"outlinewidth\": 0, \"ticks\": \"\"}}, \"type\": \"scatterternary\"}], \"surface\": [{\"colorbar\": {\"outlinewidth\": 0, \"ticks\": \"\"}, \"colorscale\": [[0.0, \"#0d0887\"], [0.1111111111111111, \"#46039f\"], [0.2222222222222222, \"#7201a8\"], [0.3333333333333333, \"#9c179e\"], [0.4444444444444444, \"#bd3786\"], [0.5555555555555556, \"#d8576b\"], [0.6666666666666666, \"#ed7953\"], [0.7777777777777778, \"#fb9f3a\"], [0.8888888888888888, \"#fdca26\"], [1.0, \"#f0f921\"]], \"type\": \"surface\"}], \"table\": [{\"cells\": {\"fill\": {\"color\": \"#EBF0F8\"}, \"line\": {\"color\": \"white\"}}, \"header\": {\"fill\": {\"color\": \"#C8D4E3\"}, \"line\": {\"color\": \"white\"}}, \"type\": \"table\"}]}, \"layout\": {\"annotationdefaults\": {\"arrowcolor\": \"#2a3f5f\", \"arrowhead\": 0, \"arrowwidth\": 1}, \"coloraxis\": {\"colorbar\": {\"outlinewidth\": 0, \"ticks\": \"\"}}, \"colorscale\": {\"diverging\": [[0, \"#8e0152\"], [0.1, \"#c51b7d\"], [0.2, \"#de77ae\"], [0.3, \"#f1b6da\"], [0.4, \"#fde0ef\"], [0.5, \"#f7f7f7\"], [0.6, \"#e6f5d0\"], [0.7, \"#b8e186\"], [0.8, \"#7fbc41\"], [0.9, \"#4d9221\"], [1, \"#276419\"]], \"sequential\": [[0.0, \"#0d0887\"], [0.1111111111111111, \"#46039f\"], [0.2222222222222222, \"#7201a8\"], [0.3333333333333333, \"#9c179e\"], [0.4444444444444444, \"#bd3786\"], [0.5555555555555556, \"#d8576b\"], [0.6666666666666666, \"#ed7953\"], [0.7777777777777778, \"#fb9f3a\"], [0.8888888888888888, \"#fdca26\"], [1.0, \"#f0f921\"]], \"sequentialminus\": [[0.0, \"#0d0887\"], [0.1111111111111111, \"#46039f\"], [0.2222222222222222, \"#7201a8\"], [0.3333333333333333, \"#9c179e\"], [0.4444444444444444, \"#bd3786\"], [0.5555555555555556, \"#d8576b\"], [0.6666666666666666, \"#ed7953\"], [0.7777777777777778, \"#fb9f3a\"], [0.8888888888888888, \"#fdca26\"], [1.0, \"#f0f921\"]]}, \"colorway\": [\"#636efa\", \"#EF553B\", \"#00cc96\", \"#ab63fa\", \"#FFA15A\", \"#19d3f3\", \"#FF6692\", \"#B6E880\", \"#FF97FF\", \"#FECB52\"], \"font\": {\"color\": \"#2a3f5f\"}, \"geo\": {\"bgcolor\": \"white\", \"lakecolor\": \"white\", \"landcolor\": \"#E5ECF6\", \"showlakes\": true, \"showland\": true, \"subunitcolor\": \"white\"}, \"hoverlabel\": {\"align\": \"left\"}, \"hovermode\": \"closest\", \"mapbox\": {\"style\": \"light\"}, \"paper_bgcolor\": \"white\", \"plot_bgcolor\": \"#E5ECF6\", \"polar\": {\"angularaxis\": {\"gridcolor\": \"white\", \"linecolor\": \"white\", \"ticks\": \"\"}, \"bgcolor\": \"#E5ECF6\", \"radialaxis\": {\"gridcolor\": \"white\", \"linecolor\": \"white\", \"ticks\": \"\"}}, \"scene\": {\"xaxis\": {\"backgroundcolor\": \"#E5ECF6\", \"gridcolor\": \"white\", \"gridwidth\": 2, \"linecolor\": \"white\", \"showbackground\": true, \"ticks\": \"\", \"zerolinecolor\": \"white\"}, \"yaxis\": {\"backgroundcolor\": \"#E5ECF6\", \"gridcolor\": \"white\", \"gridwidth\": 2, \"linecolor\": \"white\", \"showbackground\": true, \"ticks\": \"\", \"zerolinecolor\": \"white\"}, \"zaxis\": {\"backgroundcolor\": \"#E5ECF6\", \"gridcolor\": \"white\", \"gridwidth\": 2, \"linecolor\": \"white\", \"showbackground\": true, \"ticks\": \"\", \"zerolinecolor\": \"white\"}}, \"shapedefaults\": {\"line\": {\"color\": \"#2a3f5f\"}}, \"ternary\": {\"aaxis\": {\"gridcolor\": \"white\", \"linecolor\": \"white\", \"ticks\": \"\"}, \"baxis\": {\"gridcolor\": \"white\", \"linecolor\": \"white\", \"ticks\": \"\"}, \"bgcolor\": \"#E5ECF6\", \"caxis\": {\"gridcolor\": \"white\", \"linecolor\": \"white\", \"ticks\": \"\"}}, \"title\": {\"x\": 0.05}, \"xaxis\": {\"automargin\": true, \"gridcolor\": \"white\", \"linecolor\": \"white\", \"ticks\": \"\", \"title\": {\"standoff\": 15}, \"zerolinecolor\": \"white\", \"zerolinewidth\": 2}, \"yaxis\": {\"automargin\": true, \"gridcolor\": \"white\", \"linecolor\": \"white\", \"ticks\": \"\", \"title\": {\"standoff\": 15}, \"zerolinecolor\": \"white\", \"zerolinewidth\": 2}}}, \"title\": {\"text\": \"DP K-Means Plots with e=25\"}},\n",
              "                        {\"responsive\": true}\n",
              "                    ).then(function(){\n",
              "                            \n",
              "var gd = document.getElementById('b21bfadb-63c5-4d9c-8611-a6c3373e0f79');\n",
              "var x = new MutationObserver(function (mutations, observer) {{\n",
              "        var display = window.getComputedStyle(gd).display;\n",
              "        if (!display || display === 'none') {{\n",
              "            console.log([gd, 'removed!']);\n",
              "            Plotly.purge(gd);\n",
              "            observer.disconnect();\n",
              "        }}\n",
              "}});\n",
              "\n",
              "// Listen for the removal of the full notebook cells\n",
              "var notebookContainer = gd.closest('#notebook-container');\n",
              "if (notebookContainer) {{\n",
              "    x.observe(notebookContainer, {childList: true});\n",
              "}}\n",
              "\n",
              "// Listen for the clearing of the current output cell\n",
              "var outputEl = gd.closest('.output');\n",
              "if (outputEl) {{\n",
              "    x.observe(outputEl, {childList: true});\n",
              "}}\n",
              "\n",
              "                        })\n",
              "                };\n",
              "                \n",
              "            </script>\n",
              "        </div>\n",
              "</body>\n",
              "</html>"
            ]
          },
          "metadata": {
            "tags": []
          }
        }
      ]
    },
    {
      "cell_type": "code",
      "metadata": {
        "id": "nxo5Gmrfrpys",
        "colab": {
          "base_uri": "https://localhost:8080/",
          "height": 542
        },
        "outputId": "6cfcef8c-8ee4-4b08-fe0f-bbd6351bfabb"
      },
      "source": [
        "fig = px.scatter_3d(customers3, x='Age', y='Annual Income (k$)', z='Spending Score (1-100)', color=labels_frame_original, title=\"Normal K-Means 3D\")\n",
        "fig.update_layout(font_size=9)\n",
        "fig.update_layout(legend_font_size=12)\n",
        "fig.show()"
      ],
      "execution_count": 23,
      "outputs": [
        {
          "output_type": "display_data",
          "data": {
            "text/html": [
              "<html>\n",
              "<head><meta charset=\"utf-8\" /></head>\n",
              "<body>\n",
              "    <div>\n",
              "            <script src=\"https://cdnjs.cloudflare.com/ajax/libs/mathjax/2.7.5/MathJax.js?config=TeX-AMS-MML_SVG\"></script><script type=\"text/javascript\">if (window.MathJax) {MathJax.Hub.Config({SVG: {font: \"STIX-Web\"}});}</script>\n",
              "                <script type=\"text/javascript\">window.PlotlyConfig = {MathJaxConfig: 'local'};</script>\n",
              "        <script src=\"https://cdn.plot.ly/plotly-latest.min.js\"></script>    \n",
              "            <div id=\"06d448c9-e90a-446c-8a02-4383b6cb03a5\" class=\"plotly-graph-div\" style=\"height:525px; width:100%;\"></div>\n",
              "            <script type=\"text/javascript\">\n",
              "                \n",
              "                    window.PLOTLYENV=window.PLOTLYENV || {};\n",
              "                    \n",
              "                if (document.getElementById(\"06d448c9-e90a-446c-8a02-4383b6cb03a5\")) {\n",
              "                    Plotly.newPlot(\n",
              "                        '06d448c9-e90a-446c-8a02-4383b6cb03a5',\n",
              "                        [{\"hoverlabel\": {\"namelength\": 0}, \"hovertemplate\": \"color=Group 1<br>Age=%{x}<br>Annual Income (k$)=%{y}<br>Spending Score (1-100)=%{z}\", \"legendgroup\": \"color=Group 1\", \"marker\": {\"color\": \"#636efa\", \"symbol\": \"circle\"}, \"mode\": \"markers\", \"name\": \"color=Group 1\", \"scene\": \"scene\", \"showlegend\": true, \"type\": \"scatter3d\", \"x\": [19, 61, 47, 54, 38, 51, 53, 59, 23, 20, 45, 50, 31, 65, 29, 58, 53, 31, 18, 27, 68, 57, 35, 41, 54, 69, 64, 61, 51, 38, 67, 43, 64, 70, 18, 51, 56, 37, 27, 58, 46, 55, 47, 62, 54, 49, 31, 35, 61, 33, 61, 52, 22, 24, 34, 26, 46, 22, 50, 57, 29, 52, 26, 27, 60, 35, 63, 46, 60, 24, 43, 28, 43, 54, 69, 70, 60, 52, 52, 29, 20, 25, 40, 45, 58, 67, 42, 66, 54, 22, 55, 61, 25, 27, 21, 40, 28, 27, 60, 66, 60, 36, 54, 48, 57, 34, 56, 65, 52, 20, 18, 44, 65, 48, 55, 19, 53, 31, 49, 31, 57, 64, 42, 48, 38, 19, 29, 44, 65, 36, 26, 34, 56, 59, 41, 37, 64, 58, 59, 43, 48, 69, 45, 21, 36, 20, 24, 43, 65, 62, 64, 25, 41, 53, 45, 55, 40, 67, 18, 48, 61, 49, 62, 56, 55, 31, 29, 60, 27, 27, 25, 52, 20, 47, 57, 41, 42, 22, 36, 63, 47, 69, 21, 32, 58, 39, 47, 50, 35, 61, 69, 32, 44, 50, 67, 32, 51, 33, 55, 53, 63, 54, 20, 18, 47, 28, 53, 41, 70, 31, 35, 32, 67, 64, 58, 37, 42, 45, 22, 32, 43, 57, 47, 65, 46, 56, 26, 21, 36, 56, 70, 27, 33, 43, 31, 20, 39, 25, 43, 28, 23, 26, 29, 62, 37, 19, 39, 56, 48, 22, 66], \"y\": [15, 15, 15, 15, 15, 16, 16, 16, 16, 16, 16, 17, 17, 17, 17, 17, 17, 17, 17, 18, 18, 18, 18, 18, 19, 19, 19, 19, 19, 19, 19, 19, 19, 19, 20, 20, 20, 20, 20, 20, 20, 21, 21, 21, 21, 21, 21, 21, 21, 21, 22, 22, 22, 22, 22, 23, 23, 23, 23, 23, 23, 23, 24, 24, 24, 24, 24, 25, 25, 25, 25, 25, 25, 25, 26, 26, 26, 26, 26, 27, 27, 27, 28, 28, 28, 28, 28, 28, 28, 28, 29, 29, 29, 29, 29, 29, 30, 30, 30, 30, 30, 30, 31, 31, 31, 31, 31, 31, 32, 32, 32, 32, 32, 32, 33, 33, 33, 33, 33, 34, 34, 34, 34, 34, 34, 34, 34, 34, 34, 34, 34, 34, 34, 34, 35, 35, 35, 35, 36, 36, 36, 36, 37, 37, 37, 37, 37, 37, 38, 38, 38, 38, 38, 38, 38, 39, 39, 39, 39, 39, 39, 39, 39, 40, 40, 40, 40, 40, 40, 40, 40, 40, 41, 41, 41, 41, 42, 42, 42, 42, 42, 42, 42, 42, 42, 43, 43, 43, 43, 44, 44, 45, 45, 45, 45, 45, 45, 45, 46, 46, 46, 46, 46, 46, 46, 46, 46, 46, 47, 47, 47, 47, 47, 47, 47, 48, 48, 48, 48, 48, 49, 49, 49, 49, 50, 50, 50, 50, 50, 51, 51, 51, 52, 52, 53, 53, 53, 53, 54, 54, 54, 55, 55, 55, 55, 56, 56, 56, 56, 56, 56], \"z\": [39, 8, 16, 1, 43, 35, 8, 33, 45, 6, 51, 31, 33, 1, 43, 24, 43, 40, 6, 28, 7, 28, 6, 20, 43, 35, 3, 2, 39, 30, 14, 36, 2, 35, 28, 32, 11, 13, 36, 15, 19, 22, 29, 3, 8, 33, 36, 35, 23, 50, 17, 42, 31, 35, 33, 29, 23, 23, 27, 37, 19, 29, 18, 4, 13, 35, 46, 5, 27, 16, 45, 10, 1, 20, 4, 18, 4, 27, 7, 35, 35, 18, 26, 32, 31, 1, 9, 31, 14, 18, 1, 48, 5, 33, 29, 31, 43, 26, 36, 21, 4, 31, 1, 27, 11, 5, 40, 14, 10, 27, 29, 15, 14, 16, 12, 2, 4, 42, 14, 1, 6, 19, 17, 27, 26, 41, 8, 24, 41, 18, 6, 44, 47, 39, 38, 28, 9, 19, 35, 4, 13, 11, 18, 25, 26, 15, 20, 28, 35, 14, 4, 46, 44, 9, 21, 34, 2, 33, 10, 36, 27, 28, 4, 3, 23, 42, 42, 25, 47, 37, 6, 40, 29, 16, 33, 13, 24, 42, 32, 26, 13, 12, 2, 17, 47, 35, 41, 45, 23, 29, 46, 29, 23, 26, 15, 47, 15, 13, 28, 26, 34, 20, 24, 8, 44, 17, 46, 26, 16, 11, 32, 10, 26, 33, 16, 22, 5, 44, 44, 34, 12, 21, 42, 11, 17, 28, 27, 25, 10, 45, 32, 40, 41, 45, 26, 3, 22, 17, 30, 19, 16, 11, 19, 21, 8, 1, 9, 12, 1, 7, 2]}, {\"hoverlabel\": {\"namelength\": 0}, \"hovertemplate\": \"color=Group 5<br>Age=%{x}<br>Annual Income (k$)=%{y}<br>Spending Score (1-100)=%{z}\", \"legendgroup\": \"color=Group 5\", \"marker\": {\"color\": \"#EF553B\", \"symbol\": \"circle\"}, \"mode\": \"markers\", \"name\": \"color=Group 5\", \"scene\": \"scene\", \"showlegend\": true, \"type\": \"scatter3d\", \"x\": [47, 21, 61, 27, 63, 62, 66, 21, 34, 53, 23, 20, 45, 59, 58, 65, 34, 53, 22, 60, 67, 48, 65, 23, 66, 37, 62, 30, 30, 30, 67, 35, 70, 25, 32, 58, 24, 33, 22, 45, 42, 34, 47, 51, 20, 28, 38, 22, 20, 45, 32, 21, 69, 45, 45, 42, 21, 66, 21, 46, 46, 44, 28, 68, 35, 67, 50, 35, 56, 28, 21, 65, 25, 31, 24, 50, 63, 20, 18, 18, 55, 32, 68, 51, 25, 66, 62, 61, 20, 18, 49, 23, 45, 31, 47, 63, 56, 33, 35, 38, 34, 36, 29, 51, 23, 50, 53, 63, 40, 35, 28, 21, 69, 52, 46, 69, 34, 67, 57, 41, 22, 32, 32, 60, 62, 65, 63, 20, 18, 70, 29, 67, 21, 28, 19, 57, 49, 29, 60, 30, 57, 53, 18, 56, 56, 65, 60, 18, 48, 68, 30, 59, 67, 54, 65, 20, 38, 54, 20, 52, 52, 22, 26, 57, 24, 66, 31, 35, 47, 25, 23, 54, 25, 24, 68, 56, 67, 29, 70, 66, 66, 63, 21, 42, 31, 24, 55, 69, 50, 32, 69, 36, 70, 37, 54, 58, 34, 41, 67, 46, 51, 33, 33, 49, 59, 50, 31, 70, 37, 58, 53, 63, 47, 45, 37, 58, 27, 68, 51, 60, 70, 56, 64, 67, 54, 23, 52, 70, 19, 27, 70, 32, 38, 68, 66, 62, 28, 67, 36, 50, 46, 54, 23, 50, 42, 66, 32, 48, 31, 57, 48, 58, 19, 68, 43, 63, 18, 46, 43, 60, 28, 70, 28, 66, 35, 60, 21, 47, 46, 60, 42, 70, 37, 42, 60, 37, 62, 21, 57, 42, 42, 34, 49, 39, 18, 29, 30, 24, 41, 23, 38, 45, 60, 40, 57, 57, 23, 64, 26, 70, 50, 21, 66, 67, 51, 45, 53, 45, 43, 26, 62, 67, 22, 55, 27, 62, 19, 56, 50, 36, 25, 28, 53, 21, 34, 43, 56, 20, 54, 40, 68, 27, 35, 51, 44, 30, 49, 64, 37, 21, 56, 52, 30, 67, 26, 60, 48, 51, 57, 35, 38, 66, 43, 25, 49, 35, 63, 21, 35, 24, 49, 43, 49, 60, 51, 60, 69, 28, 65, 37, 46, 49, 58, 37, 29, 20, 21, 39, 45, 26, 27, 55, 20, 47, 30, 34, 19, 62, 69, 31, 18, 36, 39, 59, 64], \"y\": [15, 15, 15, 15, 15, 15, 15, 15, 16, 16, 16, 16, 16, 16, 16, 16, 16, 16, 17, 17, 17, 17, 18, 18, 18, 18, 18, 19, 19, 19, 19, 19, 19, 19, 19, 19, 20, 20, 20, 20, 20, 20, 20, 20, 20, 21, 21, 21, 21, 22, 22, 22, 22, 22, 22, 22, 23, 23, 23, 23, 23, 23, 23, 23, 23, 23, 23, 23, 24, 24, 24, 24, 24, 25, 25, 25, 25, 25, 25, 25, 25, 25, 25, 26, 26, 26, 26, 26, 26, 26, 26, 26, 26, 27, 27, 27, 27, 27, 28, 28, 28, 28, 28, 29, 29, 29, 29, 29, 29, 29, 30, 30, 30, 30, 30, 30, 30, 31, 31, 31, 31, 32, 32, 32, 32, 32, 33, 33, 33, 33, 33, 33, 33, 33, 34, 34, 34, 34, 34, 34, 34, 34, 35, 35, 35, 35, 35, 35, 36, 36, 36, 36, 36, 37, 37, 37, 37, 37, 37, 37, 37, 37, 37, 37, 38, 38, 38, 38, 38, 38, 38, 38, 38, 38, 39, 39, 39, 39, 39, 39, 39, 39, 39, 39, 39, 39, 40, 40, 40, 40, 41, 41, 41, 42, 42, 42, 42, 42, 42, 42, 42, 42, 42, 42, 43, 43, 43, 43, 43, 43, 43, 43, 43, 43, 43, 44, 44, 44, 44, 44, 45, 45, 45, 45, 45, 46, 46, 46, 46, 46, 46, 46, 46, 46, 46, 47, 47, 47, 47, 47, 47, 47, 47, 47, 48, 48, 48, 48, 48, 48, 48, 48, 48, 48, 48, 48, 48, 48, 48, 49, 49, 49, 49, 49, 49, 50, 50, 50, 50, 50, 51, 51, 51, 51, 51, 52, 52, 52, 52, 52, 52, 52, 52, 52, 53, 53, 53, 53, 53, 53, 54, 54, 54, 54, 54, 54, 54, 54, 54, 54, 54, 54, 54, 55, 55, 55, 55, 55, 56, 56, 56, 56, 57, 57, 57, 57, 57, 57, 58, 58, 58, 58, 58, 58, 58, 58, 58, 59, 59, 59, 59, 59, 59, 59, 60, 60, 60, 60, 61, 61, 61, 61, 62, 62, 62, 62, 62, 62, 62, 62, 62, 62, 62, 62, 62, 63, 63, 63, 63, 64, 64, 64, 64, 64, 64, 64, 64, 65, 65, 65, 65, 65, 65, 66, 66, 66, 66, 67, 67, 67, 67, 68, 68, 68, 68, 69, 69, 69, 70, 70, 70, 70, 70, 71, 71], \"z\": [78, 75, 86, 75, 94, 56, 74, 81, 88, 71, 77, 86, 78, 73, 57, 88, 68, 76, 76, 70, 92, 88, 99, 94, 70, 94, 84, 52, 72, 94, 65, 99, 98, 98, 83, 84, 77, 83, 79, 71, 57, 56, 79, 82, 96, 99, 66, 64, 66, 62, 80, 98, 88, 89, 80, 51, 75, 63, 85, 73, 95, 59, 66, 99, 60, 92, 98, 98, 68, 66, 81, 60, 73, 73, 56, 85, 56, 61, 80, 68, 60, 68, 51, 69, 74, 55, 81, 70, 97, 80, 80, 79, 94, 58, 65, 51, 62, 83, 61, 52, 86, 58, 82, 55, 87, 96, 70, 55, 53, 61, 56, 73, 77, 80, 69, 61, 84, 73, 79, 95, 89, 81, 89, 53, 57, 69, 54, 66, 92, 53, 64, 56, 81, 98, 99, 50, 86, 69, 83, 73, 99, 52, 97, 68, 67, 76, 81, 62, 84, 54, 51, 75, 97, 93, 74, 94, 73, 70, 75, 63, 63, 60, 63, 67, 92, 66, 82, 50, 99, 68, 72, 71, 53, 73, 97, 98, 92, 88, 85, 54, 91, 73, 74, 69, 61, 65, 66, 59, 55, 95, 66, 58, 89, 94, 81, 54, 67, 59, 71, 79, 51, 60, 79, 52, 60, 75, 54, 72, 89, 91, 53, 64, 92, 61, 78, 73, 99, 98, 50, 64, 91, 52, 52, 92, 66, 66, 91, 56, 55, 51, 64, 95, 95, 97, 70, 67, 76, 52, 75, 61, 49, 59, 71, 50, 76, 75, 47, 94, 80, 49, 52, 57, 59, 48, 50, 51, 59, 49, 93, 53, 85, 55, 55, 62, 55, 56, 78, 88, 49, 49, 85, 98, 52, 56, 56, 81, 75, 85, 95, 94, 63, 93, 48, 59, 92, 76, 70, 93, 48, 55, 55, 53, 82, 48, 51, 50, 52, 76, 54, 88, 66, 57, 81, 67, 99, 82, 70, 84, 82, 82, 95, 50, 55, 58, 84, 99, 51, 69, 78, 89, 70, 84, 65, 81, 60, 76, 88, 78, 95, 73, 55, 82, 56, 77, 55, 65, 73, 71, 80, 88, 65, 94, 90, 59, 55, 59, 87, 59, 68, 67, 79, 94, 64, 70, 56, 90, 66, 62, 83, 89, 67, 56, 65, 85, 74, 55, 75, 93, 98, 98, 88, 59, 63, 99, 87, 97, 58, 75, 92, 86, 80, 76, 73, 81, 95, 87, 61, 72, 86, 77, 70, 66, 63, 63, 74]}, {\"hoverlabel\": {\"namelength\": 0}, \"hovertemplate\": \"color=Group 4<br>Age=%{x}<br>Annual Income (k$)=%{y}<br>Spending Score (1-100)=%{z}\", \"legendgroup\": \"color=Group 4\", \"marker\": {\"color\": \"#00cc96\", \"symbol\": \"circle\"}, \"mode\": \"markers\", \"name\": \"color=Group 4\", \"scene\": \"scene\", \"showlegend\": true, \"type\": \"scatter3d\", \"x\": [18, 53, 49, 67, 46, 38, 48, 69, 59, 53, 34, 22, 29, 61, 25, 41, 29, 26, 33, 32, 26, 26, 29, 69, 45, 29, 26, 20, 26, 50, 52, 40, 40, 55, 51, 18, 43, 55, 47, 24, 18, 40, 36, 69, 48, 59, 32, 27, 67, 32, 52, 35, 26, 48, 30, 20, 22, 49, 23, 45, 43, 21, 20, 70, 59, 50, 62, 45, 31, 66, 54, 68, 66, 65, 19, 19, 56, 61, 39, 70, 33, 36, 33, 70, 21, 45, 38, 19, 31, 47, 34, 70, 63, 53, 39, 34, 18, 19, 63, 68, 48, 61, 44, 19, 18, 27, 40, 38, 50, 70, 44, 51, 60, 21, 69, 56, 22, 28, 67, 18, 20, 40, 25, 64, 39, 37, 32, 62, 46, 23, 27, 40, 43, 52, 47, 59, 18, 58, 59, 62, 26, 32, 48, 65, 23, 39, 38, 25, 25, 40, 49, 57, 67, 64, 44, 20, 64, 46, 53, 49, 59, 19, 26, 63, 64, 67, 45, 66, 19, 21, 21, 65, 57, 64, 50, 23, 68, 38, 37, 26, 28, 59, 50, 23, 37, 53, 48, 26, 25, 46, 43, 34, 47, 26, 34, 44, 37, 31, 21, 47, 30, 59, 62, 41, 56, 29, 21, 19, 35, 30, 39, 48, 26, 49, 46, 30, 21, 47, 19, 53, 59, 33, 70, 28, 29, 21, 44, 52, 31, 58, 67, 34, 25, 48, 29, 23, 67, 39, 65, 25, 48, 24, 20, 68, 45, 50, 32, 58, 32, 38, 59, 65, 70, 61, 54, 42, 40, 68, 33, 39, 25, 36, 32, 29, 55, 67, 70, 22, 36, 40, 24, 36, 40, 49, 60, 19, 40, 58, 52, 66, 45, 52, 55, 47, 28, 61, 66, 34, 44, 51, 32, 52, 63, 64, 34, 70, 33, 48, 22, 68, 66, 37, 47, 40, 44, 36, 52, 57, 59, 54, 44, 21, 42, 69, 49, 44, 19, 44, 69, 62, 39, 22, 67, 35, 57, 55, 66, 28, 39, 41, 31, 28, 31, 50, 31, 49, 26, 28, 37, 57, 37, 26, 20, 37], \"y\": [53, 53, 54, 54, 54, 54, 54, 54, 54, 55, 55, 55, 55, 55, 55, 56, 56, 56, 56, 56, 56, 57, 57, 57, 57, 57, 58, 58, 58, 58, 58, 58, 59, 59, 59, 59, 59, 59, 60, 60, 60, 60, 60, 60, 60, 60, 60, 60, 61, 61, 61, 61, 61, 61, 61, 61, 61, 62, 62, 62, 62, 62, 62, 62, 62, 62, 62, 63, 63, 63, 63, 63, 63, 63, 63, 63, 63, 64, 64, 64, 64, 64, 64, 64, 64, 64, 64, 64, 64, 64, 65, 65, 65, 65, 65, 65, 65, 65, 65, 66, 66, 67, 67, 67, 67, 67, 67, 67, 67, 67, 67, 67, 67, 67, 67, 68, 68, 68, 68, 68, 68, 69, 69, 69, 69, 69, 69, 69, 69, 70, 70, 70, 71, 71, 71, 71, 71, 71, 71, 71, 71, 71, 71, 71, 71, 72, 72, 72, 72, 72, 72, 73, 73, 73, 73, 73, 74, 74, 74, 74, 74, 74, 74, 75, 75, 75, 75, 75, 75, 75, 75, 75, 75, 75, 76, 76, 76, 76, 76, 76, 76, 76, 76, 76, 77, 77, 77, 77, 77, 77, 78, 78, 78, 78, 78, 78, 78, 78, 78, 78, 79, 79, 79, 79, 79, 79, 80, 80, 80, 80, 80, 80, 80, 80, 80, 80, 81, 81, 81, 81, 81, 81, 81, 82, 82, 82, 82, 82, 82, 82, 82, 82, 83, 83, 83, 84, 84, 84, 84, 84, 84, 84, 84, 85, 85, 85, 85, 85, 85, 85, 86, 86, 86, 86, 86, 86, 86, 86, 86, 86, 86, 86, 87, 87, 87, 87, 87, 87, 87, 87, 87, 87, 87, 88, 88, 88, 88, 88, 88, 88, 88, 88, 88, 88, 89, 89, 89, 89, 89, 89, 90, 90, 90, 90, 90, 90, 90, 90, 90, 90, 91, 91, 91, 92, 92, 92, 92, 93, 93, 93, 93, 93, 93, 93, 94, 94, 94, 94, 94, 94, 94, 95, 95, 95, 95, 95, 95, 96, 96, 97, 97, 97, 97, 97, 97, 97, 97, 97, 97, 97, 97, 98, 98, 98], \"z\": [47, 44, 42, 41, 44, 38, 46, 43, 47, 38, 38, 21, 45, 46, 34, 46, 44, 49, 39, 34, 36, 40, 48, 24, 41, 38, 36, 36, 45, 46, 22, 22, 30, 5, 45, 41, 7, 26, 47, 52, 39, 40, 42, 22, 49, 3, 42, 50, 16, 23, 51, 5, 39, 42, 46, 49, 36, 48, 41, 11, 18, 42, 31, 15, 4, 43, 50, 2, 12, 50, 46, 43, 48, 52, 11, 54, 23, 46, 47, 15, 10, 38, 16, 41, 19, 47, 42, 46, 16, 44, 28, 15, 40, 6, 12, 10, 48, 50, 43, 23, 52, 24, 1, 12, 47, 56, 44, 40, 57, 15, 38, 43, 28, 56, 46, 37, 49, 26, 19, 36, 16, 58, 36, 40, 8, 12, 51, 22, 27, 29, 49, 6, 35, 21, 9, 34, 52, 54, 11, 58, 4, 29, 29, 34, 6, 12, 47, 18, 34, 34, 28, 43, 50, 3, 7, 5, 45, 32, 33, 34, 9, 10, 42, 56, 5, 40, 18, 27, 36, 45, 42, 41, 5, 6, 9, 51, 8, 43, 42, 42, 40, 33, 2, 53, 11, 6, 36, 25, 12, 5, 17, 1, 16, 21, 22, 20, 1, 27, 37, 39, 29, 27, 36, 25, 35, 39, 57, 54, 31, 56, 3, 6, 49, 15, 47, 7, 22, 47, 5, 28, 11, 43, 12, 10, 46, 19, 7, 23, 54, 34, 46, 51, 38, 29, 13, 47, 10, 11, 18, 37, 2, 54, 40, 19, 37, 26, 55, 31, 14, 38, 36, 46, 42, 44, 13, 20, 9, 2, 29, 8, 19, 40, 32, 21, 34, 21, 18, 12, 27, 14, 28, 10, 13, 18, 2, 24, 1, 15, 13, 17, 1, 31, 19, 18, 30, 32, 48, 37, 46, 9, 47, 31, 16, 25, 16, 46, 21, 7, 28, 40, 24, 21, 9, 13, 39, 36, 1, 36, 14, 2, 40, 24, 41, 1, 7, 46, 1, 24, 14, 33, 41, 22, 33, 28, 30, 15, 36, 1, 6, 26, 19, 42, 4, 35, 37, 23, 16, 18, 11, 46, 32, 28, 38, 37]}, {\"hoverlabel\": {\"namelength\": 0}, \"hovertemplate\": \"color=Group 3<br>Age=%{x}<br>Annual Income (k$)=%{y}<br>Spending Score (1-100)=%{z}\", \"legendgroup\": \"color=Group 3\", \"marker\": {\"color\": \"#ab63fa\", \"symbol\": \"circle\"}, \"mode\": \"markers\", \"name\": \"color=Group 3\", \"scene\": \"scene\", \"showlegend\": true, \"type\": \"scatter3d\", \"x\": [39, 31, 39, 56, 40, 38, 65, 58, 55, 70, 50, 33, 59, 25, 31, 41, 66, 58, 42, 69, 25, 52, 29, 32, 27, 59, 23, 25, 40, 35, 27, 42, 32, 62, 32, 32, 41, 60, 56, 32, 28, 64, 70, 52, 56, 39, 38, 54, 30, 30, 27, 34, 38, 43, 39, 24, 32, 69, 29, 29, 39, 33, 51, 43, 47, 34, 18, 25, 67, 32, 45, 55, 18, 47, 66, 33, 19, 26, 31, 53, 68, 54, 66, 58, 31, 31, 45, 41, 44, 33, 56, 43, 54, 29, 21, 30, 20, 48, 55, 40, 47, 39, 54, 57, 38, 21, 35, 20, 67, 63, 20, 41, 37, 49, 33, 31, 37, 55, 59, 38, 36, 47, 18, 67, 46, 47, 36, 33, 43, 28, 58, 31, 51, 66, 57, 44, 31, 28, 64, 68, 32, 36, 27, 65, 30, 53, 59, 62, 47, 22, 31, 19, 45, 25, 47, 66, 70, 56, 19, 20, 45, 39, 51, 41, 64, 38, 22, 43, 26, 64, 19, 31, 59, 18, 28, 35, 53, 18, 66, 45, 36, 42, 45, 49, 66, 35, 60, 54, 19, 31, 20, 52, 30, 62, 48, 26, 26, 38, 37, 37, 28, 40, 19, 25, 54, 47, 34, 23, 70, 32, 66, 32, 31, 29, 55, 44, 55, 30, 65, 18, 36, 61, 44, 19, 28, 24, 43, 37, 69, 69, 34, 60, 51, 28, 36, 48, 53, 69, 56, 21, 67, 47, 67, 36, 64, 32, 35, 45, 54, 56, 57, 19, 53, 36, 23, 20, 66, 62, 70, 60, 60, 46, 63, 33, 28, 33, 29, 23, 28, 33, 62, 46, 62, 36, 56, 18, 22, 48, 19, 66, 20, 25, 65, 50, 58, 24, 48, 64, 55, 64, 67, 38, 63, 69, 42, 50, 34, 25, 43, 24, 52, 18, 53, 41, 38, 19, 66, 32, 64, 19, 55, 41, 68, 46, 57, 27, 70, 27, 32, 22, 36, 26, 64, 19, 56, 45, 18, 60, 46, 44, 35, 20, 34, 61, 35, 62, 35, 49, 37, 56, 42, 62, 63, 29, 36, 36, 35, 67, 65, 37, 44, 63, 22, 53, 20, 69, 25, 20, 55, 69, 18, 30, 32, 64, 41, 56, 63, 20, 32, 52, 69, 37, 35, 38, 68, 55, 57, 34, 46, 23, 30, 43, 29, 52, 53, 24, 67, 57, 66, 24, 67, 23, 37, 27, 24, 26, 68, 36, 34, 57, 64, 26, 35, 56, 39, 45, 40, 28, 69, 30, 60, 26, 43, 23, 66], \"y\": [69, 70, 71, 71, 71, 71, 72, 72, 72, 72, 72, 72, 72, 72, 72, 73, 73, 73, 73, 73, 73, 73, 73, 73, 74, 74, 74, 74, 74, 74, 75, 75, 75, 75, 76, 76, 76, 76, 76, 77, 77, 77, 77, 77, 77, 77, 77, 77, 78, 78, 78, 78, 78, 78, 78, 79, 79, 79, 79, 79, 79, 79, 79, 80, 80, 80, 80, 80, 80, 80, 80, 80, 80, 80, 80, 80, 80, 81, 81, 81, 81, 81, 81, 81, 81, 81, 81, 81, 81, 81, 81, 81, 81, 81, 81, 81, 82, 82, 82, 82, 82, 82, 82, 82, 82, 82, 83, 83, 83, 83, 83, 83, 84, 84, 84, 84, 84, 85, 85, 85, 85, 85, 85, 85, 85, 86, 86, 86, 86, 86, 86, 86, 86, 86, 87, 87, 87, 87, 87, 87, 87, 87, 88, 88, 88, 88, 88, 89, 89, 89, 89, 89, 89, 90, 90, 90, 90, 90, 90, 90, 90, 90, 90, 90, 91, 91, 91, 91, 92, 92, 92, 93, 93, 93, 93, 93, 93, 93, 93, 93, 94, 94, 94, 94, 94, 94, 94, 94, 94, 95, 95, 95, 95, 95, 95, 95, 96, 96, 96, 96, 96, 96, 96, 97, 97, 97, 97, 97, 97, 97, 97, 97, 97, 98, 98, 98, 98, 99, 99, 99, 99, 99, 99, 100, 100, 100, 101, 101, 101, 101, 101, 101, 101, 101, 101, 102, 102, 102, 102, 103, 103, 103, 103, 103, 103, 103, 104, 104, 105, 105, 105, 105, 105, 105, 106, 106, 106, 106, 106, 106, 106, 106, 107, 107, 107, 107, 107, 107, 107, 107, 107, 107, 108, 108, 108, 108, 108, 108, 108, 108, 108, 108, 109, 109, 109, 109, 109, 110, 110, 110, 110, 110, 110, 110, 111, 111, 111, 111, 111, 112, 112, 112, 112, 112, 113, 113, 114, 114, 114, 114, 114, 115, 115, 115, 115, 115, 115, 115, 115, 115, 116, 116, 116, 116, 116, 116, 117, 117, 117, 118, 118, 118, 119, 119, 120, 120, 120, 120, 121, 121, 121, 121, 121, 121, 122, 122, 122, 123, 123, 123, 123, 123, 123, 124, 124, 125, 125, 125, 126, 126, 126, 126, 126, 126, 126, 126, 127, 127, 127, 127, 127, 128, 128, 128, 128, 128, 129, 129, 129, 129, 129, 130, 130, 130, 130, 131, 131, 131, 131, 131, 132, 132, 133, 133, 133, 134, 134, 134, 134, 134, 134, 134, 135, 135, 136, 136, 136, 136, 136, 137, 137, 137, 137, 137, 137], \"z\": [91, 95, 75, 92, 95, 75, 88, 89, 97, 72, 82, 66, 81, 97, 71, 90, 84, 62, 62, 74, 81, 92, 88, 73, 76, 78, 87, 93, 64, 72, 73, 97, 93, 90, 87, 66, 71, 88, 82, 74, 97, 74, 65, 89, 98, 83, 81, 80, 78, 73, 89, 90, 76, 72, 88, 85, 95, 85, 99, 83, 84, 75, 79, 60, 93, 71, 82, 93, 60, 87, 99, 83, 75, 84, 90, 61, 83, 84, 95, 98, 69, 73, 79, 72, 68, 93, 93, 94, 87, 72, 84, 82, 82, 83, 68, 62, 78, 89, 74, 81, 90, 89, 74, 64, 60, 85, 82, 92, 80, 83, 75, 80, 84, 83, 71, 73, 97, 74, 79, 92, 75, 82, 70, 67, 56, 98, 73, 95, 69, 83, 76, 98, 92, 80, 70, 69, 81, 75, 77, 66, 63, 92, 69, 82, 86, 54, 54, 87, 89, 74, 84, 95, 87, 85, 59, 63, 65, 76, 68, 96, 82, 75, 78, 76, 79, 77, 99, 82, 97, 58, 59, 52, 80, 61, 92, 90, 60, 81, 99, 63, 55, 74, 64, 93, 84, 67, 59, 72, 61, 89, 53, 93, 63, 61, 89, 66, 77, 67, 82, 85, 63, 60, 53, 76, 56, 91, 56, 93, 56, 57, 72, 86, 57, 88, 78, 52, 92, 97, 89, 81, 70, 97, 96, 87, 79, 98, 81, 85, 77, 86, 96, 89, 94, 68, 76, 63, 71, 67, 61, 85, 67, 73, 64, 85, 82, 69, 58, 60, 79, 65, 80, 75, 72, 80, 88, 68, 96, 99, 90, 68, 82, 55, 84, 75, 63, 98, 58, 70, 94, 76, 64, 66, 75, 62, 62, 57, 82, 87, 65, 75, 76, 86, 61, 54, 81, 75, 72, 84, 80, 76, 98, 80, 96, 69, 77, 96, 98, 61, 79, 69, 67, 93, 74, 93, 91, 94, 80, 62, 71, 66, 97, 93, 95, 93, 73, 77, 71, 95, 63, 90, 92, 81, 66, 94, 99, 71, 57, 82, 99, 92, 71, 67, 64, 86, 69, 96, 79, 85, 92, 87, 61, 99, 75, 63, 93, 66, 64, 87, 97, 98, 75, 73, 97, 83, 81, 99, 76, 99, 97, 72, 99, 64, 74, 89, 90, 98, 97, 64, 72, 63, 99, 78, 78, 61, 72, 96, 71, 93, 88, 91, 97, 64, 78, 94, 69, 85, 94, 71, 95, 62, 96, 92, 75, 87, 89, 87, 96, 74, 69, 71, 68, 86, 74, 85, 85, 99, 67, 70, 90, 83, 81, 73, 84, 66, 90]}, {\"hoverlabel\": {\"namelength\": 0}, \"hovertemplate\": \"color=Group 2<br>Age=%{x}<br>Annual Income (k$)=%{y}<br>Spending Score (1-100)=%{z}\", \"legendgroup\": \"color=Group 2\", \"marker\": {\"color\": \"#FFA15A\", \"symbol\": \"circle\"}, \"mode\": \"markers\", \"name\": \"color=Group 2\", \"scene\": \"scene\", \"showlegend\": true, \"type\": \"scatter3d\", \"x\": [68, 58, 46, 41, 66, 33, 41, 34, 22, 22, 60, 60, 40, 28, 59, 54, 58, 39, 35, 37, 21, 34, 21, 48, 21, 49, 60, 67, 41, 67, 70, 57, 34, 48, 51, 31, 55, 30, 53, 24, 56, 23, 20, 53, 62, 18, 57, 37, 59, 63, 56, 22, 34, 62, 30, 42, 41, 42, 64, 48, 69, 35, 45, 50, 36, 55, 68, 41, 30, 61, 60, 29, 34, 57, 56, 51, 37, 62, 42, 34, 45, 60, 37, 46, 58, 64, 68, 20, 25, 25, 46, 57, 53, 55, 67, 30, 48, 67, 63, 39, 33, 50, 56, 70, 40, 33, 46, 50, 48, 39, 22, 45, 65, 20, 29, 37, 39, 43, 18, 21, 42, 58, 65, 34, 47, 70, 21, 69, 21, 38, 48, 39, 20, 26, 35, 55, 30, 30, 65, 52, 57, 20, 68, 32, 29, 47, 60, 33, 67, 65, 57, 19, 40, 42, 31, 33, 27, 42, 35, 21, 65, 61, 59, 52, 57, 20, 32, 62, 61, 35, 30, 70, 26, 68, 47, 18, 69, 19, 35, 48, 70, 57, 33, 52, 28, 58, 62, 61, 20, 70, 48, 62, 45, 22, 40, 60, 63, 22, 41, 32, 37, 45, 68, 37, 53, 47, 24, 32, 58, 26, 42, 27, 36, 67, 56, 63, 61, 25, 45, 49, 54, 26, 68, 27, 59, 24, 43, 67, 51, 38, 58, 65, 48, 47, 38, 29, 34, 56, 36, 45, 39, 21, 38, 29, 67, 30, 62, 42, 21, 28, 57, 38, 27, 69, 44, 39, 51, 49, 50, 45, 56, 33, 21, 52, 57, 65, 27, 68, 63, 56, 68, 66, 45, 66, 38, 35, 21, 25, 29, 63, 54, 34, 47, 28, 67, 60, 37, 64, 35, 27, 54, 44, 25, 44, 32], \"y\": [96, 97, 98, 98, 98, 99, 99, 99, 99, 99, 100, 100, 100, 100, 100, 101, 101, 101, 101, 101, 102, 102, 102, 102, 102, 103, 103, 103, 103, 103, 103, 103, 103, 104, 104, 104, 104, 104, 104, 104, 105, 105, 105, 105, 106, 106, 106, 106, 106, 106, 107, 107, 107, 107, 107, 107, 108, 108, 108, 108, 108, 108, 108, 108, 109, 109, 109, 109, 109, 109, 109, 109, 109, 109, 109, 109, 109, 109, 109, 110, 110, 110, 110, 110, 110, 110, 110, 110, 110, 111, 111, 112, 112, 112, 112, 112, 113, 113, 113, 113, 113, 113, 114, 114, 114, 114, 115, 115, 115, 115, 115, 115, 115, 116, 116, 116, 116, 116, 116, 117, 117, 117, 117, 117, 117, 117, 117, 117, 117, 118, 118, 118, 118, 118, 118, 118, 118, 119, 119, 119, 119, 119, 119, 119, 119, 120, 120, 121, 121, 121, 121, 121, 121, 121, 122, 122, 122, 122, 122, 122, 122, 122, 122, 122, 122, 123, 123, 123, 123, 123, 123, 123, 123, 123, 123, 124, 124, 124, 124, 124, 124, 125, 125, 125, 125, 126, 126, 126, 126, 126, 126, 126, 126, 126, 126, 126, 127, 127, 127, 127, 127, 127, 127, 127, 127, 128, 128, 129, 129, 129, 129, 129, 129, 129, 129, 129, 130, 130, 130, 130, 130, 130, 130, 131, 131, 131, 131, 131, 131, 131, 131, 131, 132, 132, 132, 132, 132, 132, 133, 133, 133, 133, 133, 133, 133, 133, 133, 133, 133, 133, 133, 133, 134, 134, 134, 134, 134, 134, 134, 134, 134, 135, 135, 135, 135, 135, 135, 135, 135, 135, 136, 136, 136, 136, 136, 136, 136, 136, 136, 136, 137, 137, 137, 137, 137, 137, 137, 137, 137, 137, 137, 137, 137, 137, 137], \"z\": [5, 15, 15, 2, 49, 47, 39, 19, 25, 23, 9, 46, 32, 4, 2, 24, 5, 12, 26, 35, 19, 44, 22, 6, 10, 34, 10, 1, 17, 15, 26, 2, 23, 2, 35, 33, 23, 18, 51, 41, 30, 18, 19, 47, 2, 50, 4, 8, 47, 6, 49, 34, 23, 4, 42, 51, 4, 10, 9, 11, 4, 45, 49, 7, 31, 33, 27, 39, 21, 20, 50, 46, 27, 21, 37, 18, 5, 45, 18, 19, 23, 14, 40, 2, 29, 43, 18, 52, 25, 23, 6, 45, 30, 42, 10, 17, 11, 19, 15, 7, 8, 14, 53, 12, 7, 9, 14, 40, 8, 51, 49, 26, 55, 45, 52, 49, 29, 45, 32, 9, 36, 1, 43, 20, 5, 21, 18, 14, 5, 13, 4, 40, 18, 13, 37, 49, 34, 51, 14, 25, 56, 49, 42, 48, 30, 16, 43, 50, 42, 20, 15, 21, 21, 16, 46, 9, 37, 52, 26, 3, 16, 24, 46, 34, 39, 19, 48, 40, 33, 8, 25, 57, 13, 23, 9, 28, 44, 21, 8, 24, 51, 14, 14, 21, 11, 57, 38, 2, 23, 54, 52, 54, 28, 53, 48, 22, 45, 1, 20, 2, 29, 7, 23, 35, 60, 2, 17, 37, 60, 22, 30, 3, 23, 16, 24, 5, 32, 33, 37, 19, 33, 49, 10, 29, 22, 33, 31, 40, 11, 53, 37, 1, 35, 58, 44, 27, 11, 59, 62, 41, 59, 55, 10, 13, 46, 21, 41, 19, 16, 37, 49, 32, 47, 21, 12, 56, 57, 45, 7, 61, 35, 39, 48, 48, 3, 37, 2, 19, 49, 45, 48, 14, 9, 35, 24, 13, 24, 29, 18, 44, 46, 35, 46, 26, 1, 7, 25, 54, 54, 26, 26, 56, 41, 27, 18]}],\n",
              "                        {\"font\": {\"size\": 9}, \"legend\": {\"font\": {\"size\": 12}, \"tracegroupgap\": 0}, \"scene\": {\"domain\": {\"x\": [0.0, 1.0], \"y\": [0.0, 1.0]}, \"xaxis\": {\"title\": {\"text\": \"Age\"}}, \"yaxis\": {\"title\": {\"text\": \"Annual Income (k$)\"}}, \"zaxis\": {\"title\": {\"text\": \"Spending Score (1-100)\"}}}, \"template\": {\"data\": {\"bar\": [{\"error_x\": {\"color\": \"#2a3f5f\"}, \"error_y\": {\"color\": \"#2a3f5f\"}, \"marker\": {\"line\": {\"color\": \"#E5ECF6\", \"width\": 0.5}}, \"type\": \"bar\"}], \"barpolar\": [{\"marker\": {\"line\": {\"color\": \"#E5ECF6\", \"width\": 0.5}}, \"type\": \"barpolar\"}], \"carpet\": [{\"aaxis\": {\"endlinecolor\": \"#2a3f5f\", \"gridcolor\": \"white\", \"linecolor\": \"white\", \"minorgridcolor\": \"white\", \"startlinecolor\": \"#2a3f5f\"}, \"baxis\": {\"endlinecolor\": \"#2a3f5f\", \"gridcolor\": \"white\", \"linecolor\": \"white\", \"minorgridcolor\": \"white\", \"startlinecolor\": \"#2a3f5f\"}, \"type\": \"carpet\"}], \"choropleth\": [{\"colorbar\": {\"outlinewidth\": 0, \"ticks\": \"\"}, \"type\": \"choropleth\"}], \"contour\": [{\"colorbar\": {\"outlinewidth\": 0, \"ticks\": \"\"}, \"colorscale\": [[0.0, \"#0d0887\"], [0.1111111111111111, \"#46039f\"], [0.2222222222222222, \"#7201a8\"], [0.3333333333333333, \"#9c179e\"], [0.4444444444444444, \"#bd3786\"], [0.5555555555555556, \"#d8576b\"], [0.6666666666666666, \"#ed7953\"], [0.7777777777777778, \"#fb9f3a\"], [0.8888888888888888, \"#fdca26\"], [1.0, \"#f0f921\"]], \"type\": \"contour\"}], \"contourcarpet\": [{\"colorbar\": {\"outlinewidth\": 0, \"ticks\": \"\"}, \"type\": \"contourcarpet\"}], \"heatmap\": [{\"colorbar\": {\"outlinewidth\": 0, \"ticks\": \"\"}, \"colorscale\": [[0.0, \"#0d0887\"], [0.1111111111111111, \"#46039f\"], [0.2222222222222222, \"#7201a8\"], [0.3333333333333333, \"#9c179e\"], [0.4444444444444444, \"#bd3786\"], [0.5555555555555556, \"#d8576b\"], [0.6666666666666666, \"#ed7953\"], [0.7777777777777778, \"#fb9f3a\"], [0.8888888888888888, \"#fdca26\"], [1.0, \"#f0f921\"]], \"type\": \"heatmap\"}], \"heatmapgl\": [{\"colorbar\": {\"outlinewidth\": 0, \"ticks\": \"\"}, \"colorscale\": [[0.0, \"#0d0887\"], [0.1111111111111111, \"#46039f\"], [0.2222222222222222, \"#7201a8\"], [0.3333333333333333, \"#9c179e\"], [0.4444444444444444, \"#bd3786\"], [0.5555555555555556, \"#d8576b\"], [0.6666666666666666, \"#ed7953\"], [0.7777777777777778, \"#fb9f3a\"], [0.8888888888888888, \"#fdca26\"], [1.0, \"#f0f921\"]], \"type\": \"heatmapgl\"}], \"histogram\": [{\"marker\": {\"colorbar\": {\"outlinewidth\": 0, \"ticks\": \"\"}}, \"type\": \"histogram\"}], \"histogram2d\": [{\"colorbar\": {\"outlinewidth\": 0, \"ticks\": \"\"}, \"colorscale\": [[0.0, \"#0d0887\"], [0.1111111111111111, \"#46039f\"], [0.2222222222222222, \"#7201a8\"], [0.3333333333333333, \"#9c179e\"], [0.4444444444444444, \"#bd3786\"], [0.5555555555555556, \"#d8576b\"], [0.6666666666666666, \"#ed7953\"], [0.7777777777777778, \"#fb9f3a\"], [0.8888888888888888, \"#fdca26\"], [1.0, \"#f0f921\"]], \"type\": \"histogram2d\"}], \"histogram2dcontour\": [{\"colorbar\": {\"outlinewidth\": 0, \"ticks\": \"\"}, \"colorscale\": [[0.0, \"#0d0887\"], [0.1111111111111111, \"#46039f\"], [0.2222222222222222, \"#7201a8\"], [0.3333333333333333, \"#9c179e\"], [0.4444444444444444, \"#bd3786\"], [0.5555555555555556, \"#d8576b\"], [0.6666666666666666, \"#ed7953\"], [0.7777777777777778, \"#fb9f3a\"], [0.8888888888888888, \"#fdca26\"], [1.0, \"#f0f921\"]], \"type\": \"histogram2dcontour\"}], \"mesh3d\": [{\"colorbar\": {\"outlinewidth\": 0, \"ticks\": \"\"}, \"type\": \"mesh3d\"}], \"parcoords\": [{\"line\": {\"colorbar\": {\"outlinewidth\": 0, \"ticks\": \"\"}}, \"type\": \"parcoords\"}], \"pie\": [{\"automargin\": true, \"type\": \"pie\"}], \"scatter\": [{\"marker\": {\"colorbar\": {\"outlinewidth\": 0, \"ticks\": \"\"}}, \"type\": \"scatter\"}], \"scatter3d\": [{\"line\": {\"colorbar\": {\"outlinewidth\": 0, \"ticks\": \"\"}}, \"marker\": {\"colorbar\": {\"outlinewidth\": 0, \"ticks\": \"\"}}, \"type\": \"scatter3d\"}], \"scattercarpet\": [{\"marker\": {\"colorbar\": {\"outlinewidth\": 0, \"ticks\": \"\"}}, \"type\": \"scattercarpet\"}], \"scattergeo\": [{\"marker\": {\"colorbar\": {\"outlinewidth\": 0, \"ticks\": \"\"}}, \"type\": \"scattergeo\"}], \"scattergl\": [{\"marker\": {\"colorbar\": {\"outlinewidth\": 0, \"ticks\": \"\"}}, \"type\": \"scattergl\"}], \"scattermapbox\": [{\"marker\": {\"colorbar\": {\"outlinewidth\": 0, \"ticks\": \"\"}}, \"type\": \"scattermapbox\"}], \"scatterpolar\": [{\"marker\": {\"colorbar\": {\"outlinewidth\": 0, \"ticks\": \"\"}}, \"type\": \"scatterpolar\"}], \"scatterpolargl\": [{\"marker\": {\"colorbar\": {\"outlinewidth\": 0, \"ticks\": \"\"}}, \"type\": \"scatterpolargl\"}], \"scatterternary\": [{\"marker\": {\"colorbar\": {\"outlinewidth\": 0, \"ticks\": \"\"}}, \"type\": \"scatterternary\"}], \"surface\": [{\"colorbar\": {\"outlinewidth\": 0, \"ticks\": \"\"}, \"colorscale\": [[0.0, \"#0d0887\"], [0.1111111111111111, \"#46039f\"], [0.2222222222222222, \"#7201a8\"], [0.3333333333333333, \"#9c179e\"], [0.4444444444444444, \"#bd3786\"], [0.5555555555555556, \"#d8576b\"], [0.6666666666666666, \"#ed7953\"], [0.7777777777777778, \"#fb9f3a\"], [0.8888888888888888, \"#fdca26\"], [1.0, \"#f0f921\"]], \"type\": \"surface\"}], \"table\": [{\"cells\": {\"fill\": {\"color\": \"#EBF0F8\"}, \"line\": {\"color\": \"white\"}}, \"header\": {\"fill\": {\"color\": \"#C8D4E3\"}, \"line\": {\"color\": \"white\"}}, \"type\": \"table\"}]}, \"layout\": {\"annotationdefaults\": {\"arrowcolor\": \"#2a3f5f\", \"arrowhead\": 0, \"arrowwidth\": 1}, \"coloraxis\": {\"colorbar\": {\"outlinewidth\": 0, \"ticks\": \"\"}}, \"colorscale\": {\"diverging\": [[0, \"#8e0152\"], [0.1, \"#c51b7d\"], [0.2, \"#de77ae\"], [0.3, \"#f1b6da\"], [0.4, \"#fde0ef\"], [0.5, \"#f7f7f7\"], [0.6, \"#e6f5d0\"], [0.7, \"#b8e186\"], [0.8, \"#7fbc41\"], [0.9, \"#4d9221\"], [1, \"#276419\"]], \"sequential\": [[0.0, \"#0d0887\"], [0.1111111111111111, \"#46039f\"], [0.2222222222222222, \"#7201a8\"], [0.3333333333333333, \"#9c179e\"], [0.4444444444444444, \"#bd3786\"], [0.5555555555555556, \"#d8576b\"], [0.6666666666666666, \"#ed7953\"], [0.7777777777777778, \"#fb9f3a\"], [0.8888888888888888, \"#fdca26\"], [1.0, \"#f0f921\"]], \"sequentialminus\": [[0.0, \"#0d0887\"], [0.1111111111111111, \"#46039f\"], [0.2222222222222222, \"#7201a8\"], [0.3333333333333333, \"#9c179e\"], [0.4444444444444444, \"#bd3786\"], [0.5555555555555556, \"#d8576b\"], [0.6666666666666666, \"#ed7953\"], [0.7777777777777778, \"#fb9f3a\"], [0.8888888888888888, \"#fdca26\"], [1.0, \"#f0f921\"]]}, \"colorway\": [\"#636efa\", \"#EF553B\", \"#00cc96\", \"#ab63fa\", \"#FFA15A\", \"#19d3f3\", \"#FF6692\", \"#B6E880\", \"#FF97FF\", \"#FECB52\"], \"font\": {\"color\": \"#2a3f5f\"}, \"geo\": {\"bgcolor\": \"white\", \"lakecolor\": \"white\", \"landcolor\": \"#E5ECF6\", \"showlakes\": true, \"showland\": true, \"subunitcolor\": \"white\"}, \"hoverlabel\": {\"align\": \"left\"}, \"hovermode\": \"closest\", \"mapbox\": {\"style\": \"light\"}, \"paper_bgcolor\": \"white\", \"plot_bgcolor\": \"#E5ECF6\", \"polar\": {\"angularaxis\": {\"gridcolor\": \"white\", \"linecolor\": \"white\", \"ticks\": \"\"}, \"bgcolor\": \"#E5ECF6\", \"radialaxis\": {\"gridcolor\": \"white\", \"linecolor\": \"white\", \"ticks\": \"\"}}, \"scene\": {\"xaxis\": {\"backgroundcolor\": \"#E5ECF6\", \"gridcolor\": \"white\", \"gridwidth\": 2, \"linecolor\": \"white\", \"showbackground\": true, \"ticks\": \"\", \"zerolinecolor\": \"white\"}, \"yaxis\": {\"backgroundcolor\": \"#E5ECF6\", \"gridcolor\": \"white\", \"gridwidth\": 2, \"linecolor\": \"white\", \"showbackground\": true, \"ticks\": \"\", \"zerolinecolor\": \"white\"}, \"zaxis\": {\"backgroundcolor\": \"#E5ECF6\", \"gridcolor\": \"white\", \"gridwidth\": 2, \"linecolor\": \"white\", \"showbackground\": true, \"ticks\": \"\", \"zerolinecolor\": \"white\"}}, \"shapedefaults\": {\"line\": {\"color\": \"#2a3f5f\"}}, \"ternary\": {\"aaxis\": {\"gridcolor\": \"white\", \"linecolor\": \"white\", \"ticks\": \"\"}, \"baxis\": {\"gridcolor\": \"white\", \"linecolor\": \"white\", \"ticks\": \"\"}, \"bgcolor\": \"#E5ECF6\", \"caxis\": {\"gridcolor\": \"white\", \"linecolor\": \"white\", \"ticks\": \"\"}}, \"title\": {\"x\": 0.05}, \"xaxis\": {\"automargin\": true, \"gridcolor\": \"white\", \"linecolor\": \"white\", \"ticks\": \"\", \"title\": {\"standoff\": 15}, \"zerolinecolor\": \"white\", \"zerolinewidth\": 2}, \"yaxis\": {\"automargin\": true, \"gridcolor\": \"white\", \"linecolor\": \"white\", \"ticks\": \"\", \"title\": {\"standoff\": 15}, \"zerolinecolor\": \"white\", \"zerolinewidth\": 2}}}, \"title\": {\"text\": \"Normal K-Means 3D\"}},\n",
              "                        {\"responsive\": true}\n",
              "                    ).then(function(){\n",
              "                            \n",
              "var gd = document.getElementById('06d448c9-e90a-446c-8a02-4383b6cb03a5');\n",
              "var x = new MutationObserver(function (mutations, observer) {{\n",
              "        var display = window.getComputedStyle(gd).display;\n",
              "        if (!display || display === 'none') {{\n",
              "            console.log([gd, 'removed!']);\n",
              "            Plotly.purge(gd);\n",
              "            observer.disconnect();\n",
              "        }}\n",
              "}});\n",
              "\n",
              "// Listen for the removal of the full notebook cells\n",
              "var notebookContainer = gd.closest('#notebook-container');\n",
              "if (notebookContainer) {{\n",
              "    x.observe(notebookContainer, {childList: true});\n",
              "}}\n",
              "\n",
              "// Listen for the clearing of the current output cell\n",
              "var outputEl = gd.closest('.output');\n",
              "if (outputEl) {{\n",
              "    x.observe(outputEl, {childList: true});\n",
              "}}\n",
              "\n",
              "                        })\n",
              "                };\n",
              "                \n",
              "            </script>\n",
              "        </div>\n",
              "</body>\n",
              "</html>"
            ]
          },
          "metadata": {
            "tags": []
          }
        }
      ]
    },
    {
      "cell_type": "code",
      "metadata": {
        "id": "JL302im8rVwh",
        "colab": {
          "base_uri": "https://localhost:8080/",
          "height": 542
        },
        "outputId": "7f00802c-08a1-4945-bb09-893931ce215c"
      },
      "source": [
        "fig = px.scatter_3d(customers3, x='Age', y='Annual Income (k$)', z='Spending Score (1-100)', color=labels_frame_df, title=\"DP K-Means 3D with e=25\")\n",
        "fig.update_layout(font_size=9)\n",
        "fig.update_layout(legend_font_size=12)\n",
        "fig.show()"
      ],
      "execution_count": 24,
      "outputs": [
        {
          "output_type": "display_data",
          "data": {
            "text/html": [
              "<html>\n",
              "<head><meta charset=\"utf-8\" /></head>\n",
              "<body>\n",
              "    <div>\n",
              "            <script src=\"https://cdnjs.cloudflare.com/ajax/libs/mathjax/2.7.5/MathJax.js?config=TeX-AMS-MML_SVG\"></script><script type=\"text/javascript\">if (window.MathJax) {MathJax.Hub.Config({SVG: {font: \"STIX-Web\"}});}</script>\n",
              "                <script type=\"text/javascript\">window.PlotlyConfig = {MathJaxConfig: 'local'};</script>\n",
              "        <script src=\"https://cdn.plot.ly/plotly-latest.min.js\"></script>    \n",
              "            <div id=\"3fadb801-cf5d-4682-b61d-1d88b2d63d22\" class=\"plotly-graph-div\" style=\"height:525px; width:100%;\"></div>\n",
              "            <script type=\"text/javascript\">\n",
              "                \n",
              "                    window.PLOTLYENV=window.PLOTLYENV || {};\n",
              "                    \n",
              "                if (document.getElementById(\"3fadb801-cf5d-4682-b61d-1d88b2d63d22\")) {\n",
              "                    Plotly.newPlot(\n",
              "                        '3fadb801-cf5d-4682-b61d-1d88b2d63d22',\n",
              "                        [{\"hoverlabel\": {\"namelength\": 0}, \"hovertemplate\": \"color=Group 5<br>Age=%{x}<br>Annual Income (k$)=%{y}<br>Spending Score (1-100)=%{z}\", \"legendgroup\": \"color=Group 5\", \"marker\": {\"color\": \"#636efa\", \"symbol\": \"circle\"}, \"mode\": \"markers\", \"name\": \"color=Group 5\", \"scene\": \"scene\", \"showlegend\": true, \"type\": \"scatter3d\", \"x\": [19, 61, 47, 54, 51, 53, 59, 50, 31, 65, 58, 31, 27, 68, 57, 41, 69, 64, 61, 51, 38, 67, 43, 64, 70, 18, 51, 56, 37, 27, 58, 46, 55, 47, 62, 54, 49, 31, 35, 61, 61, 22, 24, 34, 26, 46, 22, 50, 57, 29, 52, 26, 60, 35, 46, 60, 24, 28, 43, 54, 69, 70, 60, 52, 52, 29, 20, 25, 40, 45, 58, 67, 42, 66, 54, 22, 55, 25, 27, 21, 40, 28, 27, 60, 66, 60, 36, 54, 48, 57, 34, 56, 65, 52, 20, 18, 44, 65, 48, 55, 53, 31, 49, 31, 57, 64, 42, 48, 38, 19, 29, 44, 65, 36, 26, 34, 59, 41, 37, 64, 58, 59, 43, 48, 69, 45, 21, 36, 20, 24, 43, 65, 62, 64, 25, 41, 53, 45, 55, 40, 67, 18, 48, 61, 49, 62, 56, 55, 31, 29, 60, 27, 27, 25, 52, 20, 47, 57, 41, 42, 22, 36, 63, 47, 69, 21, 32, 39, 47, 50, 35, 61, 32, 44, 50, 67, 32, 51, 33, 55, 53, 63, 54, 20, 18, 47, 28, 53, 41, 70, 31, 35, 32, 67, 64, 58, 37, 42, 32, 45, 22, 32, 43, 57, 47, 65, 46, 56, 26, 21, 36, 56, 70, 27, 33, 49, 43, 31, 20, 18, 39, 41, 53, 25, 43, 28, 49, 40, 67, 46, 23, 38, 48, 69, 59, 26, 53, 29, 34, 22, 62, 29, 61, 37, 25, 19, 41, 29, 26, 39, 56, 48, 22, 33, 66, 32, 26, 26, 19, 29, 69, 45, 29, 26, 20, 26, 50, 52, 40, 40, 55, 51, 18, 43, 55, 47, 18, 40, 36, 69, 59, 32, 27, 67, 32, 35, 26, 48, 30, 20, 22, 23, 45, 43, 21, 20, 70, 59, 50, 45, 31, 68, 19, 56, 33, 36, 33, 21, 38, 19, 31, 47, 34, 39, 34, 19, 18], \"y\": [15, 15, 15, 15, 16, 16, 16, 17, 17, 17, 17, 17, 18, 18, 18, 18, 19, 19, 19, 19, 19, 19, 19, 19, 19, 20, 20, 20, 20, 20, 20, 20, 21, 21, 21, 21, 21, 21, 21, 21, 22, 22, 22, 22, 23, 23, 23, 23, 23, 23, 23, 24, 24, 24, 25, 25, 25, 25, 25, 25, 26, 26, 26, 26, 26, 27, 27, 27, 28, 28, 28, 28, 28, 28, 28, 28, 29, 29, 29, 29, 29, 30, 30, 30, 30, 30, 30, 31, 31, 31, 31, 31, 31, 32, 32, 32, 32, 32, 32, 33, 33, 33, 33, 34, 34, 34, 34, 34, 34, 34, 34, 34, 34, 34, 34, 34, 34, 35, 35, 35, 35, 36, 36, 36, 36, 37, 37, 37, 37, 37, 37, 38, 38, 38, 38, 38, 38, 38, 39, 39, 39, 39, 39, 39, 39, 39, 40, 40, 40, 40, 40, 40, 40, 40, 40, 41, 41, 41, 41, 42, 42, 42, 42, 42, 42, 42, 42, 43, 43, 43, 43, 44, 45, 45, 45, 45, 45, 45, 45, 46, 46, 46, 46, 46, 46, 46, 46, 46, 46, 47, 47, 47, 47, 47, 47, 47, 48, 48, 48, 48, 48, 48, 49, 49, 49, 49, 50, 50, 50, 50, 50, 51, 51, 51, 52, 52, 52, 53, 53, 53, 53, 53, 53, 53, 54, 54, 54, 54, 54, 54, 54, 54, 54, 54, 54, 55, 55, 55, 55, 55, 55, 55, 55, 55, 55, 56, 56, 56, 56, 56, 56, 56, 56, 56, 56, 56, 56, 57, 57, 57, 57, 57, 57, 58, 58, 58, 58, 58, 58, 59, 59, 59, 59, 59, 59, 60, 60, 60, 60, 60, 60, 60, 60, 61, 61, 61, 61, 61, 61, 61, 61, 62, 62, 62, 62, 62, 62, 62, 62, 63, 63, 63, 63, 63, 64, 64, 64, 64, 64, 64, 64, 64, 65, 65, 65, 67, 68], \"z\": [39, 8, 16, 1, 35, 8, 33, 31, 33, 1, 24, 40, 28, 7, 28, 20, 35, 3, 2, 39, 30, 14, 36, 2, 35, 28, 32, 11, 13, 36, 15, 19, 22, 29, 3, 8, 33, 36, 35, 23, 17, 31, 35, 33, 29, 23, 23, 27, 37, 19, 29, 18, 13, 35, 5, 27, 16, 10, 1, 20, 4, 18, 4, 27, 7, 35, 35, 18, 26, 32, 31, 1, 9, 31, 14, 18, 1, 5, 33, 29, 31, 43, 26, 36, 21, 4, 31, 1, 27, 11, 5, 40, 14, 10, 27, 29, 15, 14, 16, 12, 4, 42, 14, 1, 6, 19, 17, 27, 26, 41, 8, 24, 41, 18, 6, 44, 39, 38, 28, 9, 19, 35, 4, 13, 11, 18, 25, 26, 15, 20, 28, 35, 14, 4, 46, 44, 9, 21, 34, 2, 33, 10, 36, 27, 28, 4, 3, 23, 42, 42, 25, 47, 37, 6, 40, 29, 16, 33, 13, 24, 42, 32, 26, 13, 12, 2, 17, 35, 41, 45, 23, 29, 29, 23, 26, 15, 47, 15, 13, 28, 26, 34, 20, 24, 8, 44, 17, 46, 26, 16, 11, 32, 10, 26, 33, 16, 22, 5, 47, 44, 44, 34, 12, 21, 42, 11, 17, 28, 27, 25, 10, 45, 32, 40, 41, 48, 45, 26, 3, 47, 22, 48, 44, 17, 30, 19, 42, 48, 41, 44, 16, 38, 46, 43, 47, 11, 38, 19, 38, 21, 21, 45, 46, 8, 34, 1, 46, 44, 49, 9, 12, 1, 7, 39, 2, 34, 36, 40, 51, 48, 24, 41, 38, 36, 36, 45, 46, 22, 22, 30, 5, 45, 41, 7, 26, 47, 39, 40, 42, 22, 3, 42, 50, 16, 23, 5, 39, 42, 46, 49, 36, 41, 11, 18, 42, 31, 15, 4, 43, 2, 12, 43, 11, 23, 10, 38, 16, 19, 42, 46, 16, 44, 28, 12, 10, 12, 36]}, {\"hoverlabel\": {\"namelength\": 0}, \"hovertemplate\": \"color=Group 2<br>Age=%{x}<br>Annual Income (k$)=%{y}<br>Spending Score (1-100)=%{z}\", \"legendgroup\": \"color=Group 2\", \"marker\": {\"color\": \"#EF553B\", \"symbol\": \"circle\"}, \"mode\": \"markers\", \"name\": \"color=Group 2\", \"scene\": \"scene\", \"showlegend\": true, \"type\": \"scatter3d\", \"x\": [47, 21, 61, 27, 63, 62, 66, 38, 21, 34, 53, 23, 20, 23, 45, 59, 58, 65, 45, 34, 53, 22, 29, 60, 67, 53, 48, 65, 23, 66, 37, 62, 54, 30, 30, 30, 67, 35, 70, 25, 32, 58, 24, 33, 22, 45, 42, 34, 47, 51, 20, 28, 38, 22, 33, 20, 45, 32, 21, 69, 45, 52, 45, 42, 21, 66, 21, 46, 46, 44, 28, 68, 35, 67, 50, 35, 56, 28, 21, 65, 25, 63, 31, 24, 50, 63, 20, 43, 18, 18, 55, 32, 68, 51, 25, 66, 62, 61, 20, 18, 49, 23, 45, 31, 47, 63, 56, 33, 35, 38, 34, 36, 29, 61, 51, 23, 50, 53, 63, 40, 35, 28, 21, 69, 52, 46, 69, 34, 67, 57, 41, 22, 32, 32, 60, 62, 65, 63, 20, 18, 70, 29, 67, 21, 28, 19, 57, 49, 29, 60, 30, 57, 53, 56, 18, 56, 56, 65, 60, 18, 48, 68, 30, 59, 67, 54, 65, 20, 38, 54, 20, 52, 52, 22, 26, 57, 24, 66, 31, 35, 47, 25, 23, 54, 25, 24, 68, 56, 67, 29, 70, 66, 66, 63, 21, 42, 31, 24, 55, 69, 50, 32, 69, 36, 70, 37, 54, 58, 34, 41, 67, 46, 51, 33, 33, 49, 58, 59, 50, 31, 70, 37, 58, 53, 63, 47, 45, 37, 58, 27, 68, 51, 69, 60, 70, 56, 64, 67, 54, 23, 52, 70, 19, 27, 70, 32, 38, 68, 66, 62, 28, 67, 36, 50, 46, 54, 23, 50, 42, 66, 48, 31, 57, 48, 58, 19, 68, 43, 63, 18, 46, 43, 60, 28, 70, 28, 66, 35, 60, 21, 47, 46, 60, 42, 37, 42, 60, 37, 62, 21, 42, 34, 39, 29, 30, 23, 38, 45, 57, 57, 23, 26, 50, 21, 67, 22], \"y\": [15, 15, 15, 15, 15, 15, 15, 15, 15, 16, 16, 16, 16, 16, 16, 16, 16, 16, 16, 16, 16, 17, 17, 17, 17, 17, 17, 18, 18, 18, 18, 18, 19, 19, 19, 19, 19, 19, 19, 19, 19, 19, 20, 20, 20, 20, 20, 20, 20, 20, 20, 21, 21, 21, 21, 21, 22, 22, 22, 22, 22, 22, 22, 22, 23, 23, 23, 23, 23, 23, 23, 23, 23, 23, 23, 23, 24, 24, 24, 24, 24, 24, 25, 25, 25, 25, 25, 25, 25, 25, 25, 25, 25, 26, 26, 26, 26, 26, 26, 26, 26, 26, 26, 27, 27, 27, 27, 27, 28, 28, 28, 28, 28, 29, 29, 29, 29, 29, 29, 29, 29, 30, 30, 30, 30, 30, 30, 30, 31, 31, 31, 31, 32, 32, 32, 32, 32, 33, 33, 33, 33, 33, 33, 33, 33, 34, 34, 34, 34, 34, 34, 34, 34, 34, 35, 35, 35, 35, 35, 35, 36, 36, 36, 36, 36, 37, 37, 37, 37, 37, 37, 37, 37, 37, 37, 37, 38, 38, 38, 38, 38, 38, 38, 38, 38, 38, 39, 39, 39, 39, 39, 39, 39, 39, 39, 39, 39, 39, 40, 40, 40, 40, 41, 41, 41, 42, 42, 42, 42, 42, 42, 42, 42, 42, 42, 42, 42, 43, 43, 43, 43, 43, 43, 43, 43, 43, 43, 43, 44, 44, 44, 44, 44, 44, 45, 45, 45, 45, 45, 46, 46, 46, 46, 46, 46, 46, 46, 46, 46, 47, 47, 47, 47, 47, 47, 47, 47, 47, 48, 48, 48, 48, 48, 48, 48, 48, 48, 48, 48, 48, 48, 48, 49, 49, 49, 49, 49, 49, 50, 50, 50, 50, 50, 51, 51, 51, 51, 52, 52, 52, 52, 52, 52, 53, 53, 53, 54, 54, 54, 54, 54, 54, 54, 54, 56, 57], \"z\": [78, 75, 86, 75, 94, 56, 74, 43, 81, 88, 71, 77, 86, 45, 78, 73, 57, 88, 51, 68, 76, 76, 43, 70, 92, 43, 88, 99, 94, 70, 94, 84, 43, 52, 72, 94, 65, 99, 98, 98, 83, 84, 77, 83, 79, 71, 57, 56, 79, 82, 96, 99, 66, 64, 50, 66, 62, 80, 98, 88, 89, 42, 80, 51, 75, 63, 85, 73, 95, 59, 66, 99, 60, 92, 98, 98, 68, 66, 81, 60, 73, 46, 73, 56, 85, 56, 61, 45, 80, 68, 60, 68, 51, 69, 74, 55, 81, 70, 97, 80, 80, 79, 94, 58, 65, 51, 62, 83, 61, 52, 86, 58, 82, 48, 55, 87, 96, 70, 55, 53, 61, 56, 73, 77, 80, 69, 61, 84, 73, 79, 95, 89, 81, 89, 53, 57, 69, 54, 66, 92, 53, 64, 56, 81, 98, 99, 50, 86, 69, 83, 73, 99, 52, 47, 97, 68, 67, 76, 81, 62, 84, 54, 51, 75, 97, 93, 74, 94, 73, 70, 75, 63, 63, 60, 63, 67, 92, 66, 82, 50, 99, 68, 72, 71, 53, 73, 97, 98, 92, 88, 85, 54, 91, 73, 74, 69, 61, 65, 66, 59, 55, 95, 66, 58, 89, 94, 81, 54, 67, 59, 71, 79, 51, 60, 79, 52, 47, 60, 75, 54, 72, 89, 91, 53, 64, 92, 61, 78, 73, 99, 98, 50, 46, 64, 91, 52, 52, 92, 66, 66, 91, 56, 55, 51, 64, 95, 95, 97, 70, 67, 76, 52, 75, 61, 49, 59, 71, 50, 76, 75, 94, 80, 49, 52, 57, 59, 48, 50, 51, 59, 49, 93, 53, 85, 55, 55, 62, 55, 56, 78, 88, 49, 49, 85, 52, 56, 56, 81, 75, 85, 63, 93, 59, 76, 70, 55, 55, 53, 51, 50, 52, 54, 66, 57, 50, 55]}, {\"hoverlabel\": {\"namelength\": 0}, \"hovertemplate\": \"color=Group 1<br>Age=%{x}<br>Annual Income (k$)=%{y}<br>Spending Score (1-100)=%{z}\", \"legendgroup\": \"color=Group 1\", \"marker\": {\"color\": \"#00cc96\", \"symbol\": \"circle\"}, \"mode\": \"markers\", \"name\": \"color=Group 1\", \"scene\": \"scene\", \"showlegend\": true, \"type\": \"scatter3d\", \"x\": [20, 18, 35, 27, 19], \"y\": [16, 17, 18, 24, 33], \"z\": [6, 6, 6, 4, 2]}, {\"hoverlabel\": {\"namelength\": 0}, \"hovertemplate\": \"color=Group 4<br>Age=%{x}<br>Annual Income (k$)=%{y}<br>Spending Score (1-100)=%{z}\", \"legendgroup\": \"color=Group 4\", \"marker\": {\"color\": \"#ab63fa\", \"symbol\": \"circle\"}, \"mode\": \"markers\", \"name\": \"color=Group 4\", \"scene\": \"scene\", \"showlegend\": true, \"type\": \"scatter3d\", \"x\": [70, 57, 42, 18, 24, 60, 64, 70, 66, 67, 51, 45, 53, 45, 43, 26, 62, 55, 27, 62, 56, 50, 36, 25, 28, 53, 21, 34, 43, 56, 20, 54, 40, 68, 27, 35, 51, 44, 24, 30, 49, 64, 48, 37, 21, 52, 56, 52, 49, 30, 67, 26, 60, 48, 51, 57, 35, 38, 66, 43, 25, 49, 62, 66, 54, 66, 65, 35, 19, 63, 21, 35, 61, 39, 24, 49, 43, 49, 60, 51, 45, 60, 69, 28, 65, 37, 46, 18, 19, 63, 49, 58, 37, 29, 48, 20, 21, 39, 18, 27, 40, 50, 45, 26, 51, 27, 21, 69, 22, 55, 20, 47, 30, 39, 40, 34, 32, 19, 62, 69, 31, 31, 18, 27, 36, 39, 39, 59, 18, 58, 62, 56, 64, 40, 38, 65, 58, 55, 70, 38, 50, 33, 59, 25, 31, 41, 66, 58, 42, 67, 69, 25, 52, 29, 32, 64, 27, 59, 23, 25, 40, 35, 27, 42, 63, 32, 21, 62, 32, 23, 32, 41, 60, 56, 23, 32, 28, 64, 70, 52, 56, 39, 38, 54, 30, 30, 27, 34, 38, 43, 39, 24, 32, 69, 29, 29, 39, 33, 51, 43, 47, 21, 34, 18, 25, 19, 30, 67, 32, 26, 45, 55, 18, 47, 66, 33, 46, 19, 26, 31, 53, 68, 54, 47, 66, 58, 31, 31, 45, 41, 44, 33, 56, 43, 54, 29, 21, 30, 20, 29, 48, 55, 40, 47, 39, 54, 57, 31, 38, 21, 34, 35, 20, 67, 63, 20, 41, 23, 37, 49, 33, 31, 24, 37, 55, 59, 38, 36, 47, 18, 67, 32, 46, 47, 36, 33, 43, 28, 58, 31, 51, 66, 57, 44, 31, 28, 64, 68, 32, 36, 27, 65, 30, 53, 59, 62, 66, 47, 22, 31, 19, 45, 32, 25, 47, 66, 70, 56, 19, 20, 45, 39, 51, 41, 64, 38, 22, 43, 26, 64, 19, 31, 59, 18, 28, 35, 53, 18, 66, 45, 36, 42, 45, 49, 66, 35, 60, 54, 19, 31, 20, 52, 30, 62, 48, 26, 26, 38, 37, 37, 28, 40, 19, 25, 54, 47, 34, 23, 70, 32, 66, 32, 31, 29, 55, 44, 55, 30, 65, 18, 36, 61, 44, 19, 28, 24, 43, 37, 69, 69, 34, 60, 51, 28, 36, 48, 53, 69, 56, 21, 67, 47, 67, 36, 64, 32, 35, 45, 53, 54, 56, 57, 19, 53, 36, 23, 20, 66, 62, 70, 60, 60, 46, 63, 33, 28, 33, 29, 23, 28, 33, 62, 46, 62, 36, 56, 18, 22, 48, 19, 66, 20, 25, 65, 50, 58, 24, 48, 64, 55, 64, 67, 38, 20, 63, 69, 42, 50, 34, 25, 43, 24, 52, 18, 53, 41, 38, 19, 66, 32, 64, 19, 55, 41, 68, 46, 57, 27, 70, 27, 32, 22, 65, 36, 26, 64, 19, 56, 45, 18, 60, 46, 44, 35, 20, 34, 57, 61, 35, 62, 35, 49, 37, 56, 42, 62, 63, 29, 36, 36, 35, 67, 65, 37, 70, 44, 63, 22, 53, 20, 69, 25, 20, 55, 58, 69, 18, 30, 32, 64, 41, 56, 63, 20, 32, 52, 69, 53, 37, 35, 38, 68, 55, 58, 57, 34, 46, 23, 30, 43, 29, 52, 53, 24, 67, 57, 66, 24, 67, 23, 47, 56, 37, 36, 39, 27, 24, 26, 68, 36, 34, 57, 64, 45, 26, 35, 56, 39, 45, 40, 28, 69, 30, 60, 26, 43, 23, 66], \"y\": [51, 52, 52, 53, 53, 54, 54, 54, 54, 55, 55, 55, 55, 55, 56, 56, 56, 57, 57, 57, 57, 58, 58, 58, 58, 58, 58, 58, 58, 58, 59, 59, 59, 59, 59, 59, 59, 60, 60, 60, 60, 60, 60, 61, 61, 61, 61, 61, 62, 62, 62, 62, 62, 62, 62, 62, 62, 62, 62, 62, 62, 62, 62, 63, 63, 63, 63, 63, 63, 63, 63, 63, 64, 64, 64, 64, 64, 64, 64, 64, 64, 64, 64, 65, 65, 65, 65, 65, 65, 65, 65, 65, 66, 66, 66, 66, 66, 67, 67, 67, 67, 67, 67, 67, 67, 67, 67, 67, 68, 68, 68, 68, 68, 69, 69, 69, 69, 69, 69, 70, 70, 70, 70, 70, 70, 70, 71, 71, 71, 71, 71, 71, 71, 71, 71, 72, 72, 72, 72, 72, 72, 72, 72, 72, 72, 73, 73, 73, 73, 73, 73, 73, 73, 73, 73, 74, 74, 74, 74, 74, 74, 74, 75, 75, 75, 75, 75, 75, 76, 76, 76, 76, 76, 76, 76, 77, 77, 77, 77, 77, 77, 77, 77, 77, 78, 78, 78, 78, 78, 78, 78, 79, 79, 79, 79, 79, 79, 79, 79, 80, 80, 80, 80, 80, 80, 80, 80, 80, 80, 80, 80, 80, 80, 80, 80, 80, 80, 80, 81, 81, 81, 81, 81, 81, 81, 81, 81, 81, 81, 81, 81, 81, 81, 81, 81, 81, 81, 81, 82, 82, 82, 82, 82, 82, 82, 82, 82, 82, 82, 82, 82, 83, 83, 83, 83, 83, 83, 84, 84, 84, 84, 84, 84, 84, 85, 85, 85, 85, 85, 85, 85, 85, 85, 86, 86, 86, 86, 86, 86, 86, 86, 86, 87, 87, 87, 87, 87, 87, 87, 87, 88, 88, 88, 88, 88, 89, 89, 89, 89, 89, 89, 89, 90, 90, 90, 90, 90, 90, 90, 90, 90, 90, 90, 90, 91, 91, 91, 91, 92, 92, 92, 93, 93, 93, 93, 93, 93, 93, 93, 93, 94, 94, 94, 94, 94, 94, 94, 94, 94, 95, 95, 95, 95, 95, 95, 95, 96, 96, 96, 96, 96, 96, 96, 97, 97, 97, 97, 97, 97, 97, 97, 97, 97, 98, 98, 98, 98, 99, 99, 99, 99, 99, 99, 100, 100, 100, 101, 101, 101, 101, 101, 101, 101, 101, 101, 102, 102, 102, 102, 103, 103, 103, 103, 103, 103, 103, 104, 104, 104, 105, 105, 105, 105, 105, 105, 106, 106, 106, 106, 106, 106, 106, 106, 107, 107, 107, 107, 107, 107, 107, 107, 107, 107, 108, 108, 108, 108, 108, 108, 108, 108, 108, 108, 109, 109, 109, 109, 109, 110, 110, 110, 110, 110, 110, 110, 110, 111, 111, 111, 111, 111, 112, 112, 112, 112, 112, 113, 113, 114, 114, 114, 114, 114, 115, 115, 115, 115, 115, 115, 115, 115, 115, 115, 116, 116, 116, 116, 116, 116, 117, 117, 117, 118, 118, 118, 119, 119, 119, 120, 120, 120, 120, 121, 121, 121, 121, 121, 121, 122, 122, 122, 123, 123, 123, 123, 123, 123, 123, 124, 124, 125, 125, 125, 126, 126, 126, 126, 126, 126, 126, 126, 126, 127, 127, 127, 127, 127, 127, 128, 128, 128, 128, 128, 129, 129, 129, 129, 129, 129, 130, 130, 130, 130, 131, 131, 131, 131, 131, 132, 132, 132, 132, 133, 133, 133, 133, 133, 134, 134, 134, 134, 134, 134, 134, 134, 135, 135, 136, 136, 136, 136, 136, 137, 137, 137, 137, 137, 137], \"z\": [98, 95, 94, 92, 93, 82, 76, 88, 81, 67, 99, 82, 70, 84, 82, 82, 95, 58, 84, 99, 69, 78, 89, 70, 84, 65, 81, 60, 76, 88, 78, 95, 73, 55, 82, 56, 77, 55, 52, 65, 73, 71, 49, 80, 88, 51, 65, 94, 48, 90, 59, 55, 59, 87, 59, 68, 67, 79, 94, 64, 70, 56, 50, 50, 46, 48, 52, 90, 54, 66, 62, 83, 46, 47, 89, 67, 56, 65, 85, 74, 47, 55, 75, 93, 98, 98, 88, 48, 50, 43, 59, 63, 99, 87, 52, 97, 58, 75, 47, 56, 44, 57, 92, 86, 43, 80, 56, 46, 49, 76, 73, 81, 95, 91, 58, 87, 51, 61, 72, 86, 77, 95, 70, 49, 66, 63, 75, 63, 52, 54, 58, 92, 74, 95, 75, 88, 89, 97, 72, 47, 82, 66, 81, 97, 71, 90, 84, 62, 62, 50, 74, 81, 92, 88, 73, 45, 76, 78, 87, 93, 64, 72, 73, 97, 56, 93, 45, 90, 87, 51, 66, 71, 88, 82, 53, 74, 97, 74, 65, 89, 98, 83, 81, 80, 78, 73, 89, 90, 76, 72, 88, 85, 95, 85, 99, 83, 84, 75, 79, 60, 93, 57, 71, 82, 93, 54, 56, 60, 87, 49, 99, 83, 75, 84, 90, 61, 47, 83, 84, 95, 98, 69, 73, 47, 79, 72, 68, 93, 93, 94, 87, 72, 84, 82, 82, 83, 68, 62, 78, 46, 89, 74, 81, 90, 89, 74, 64, 54, 60, 85, 51, 82, 92, 80, 83, 75, 80, 47, 84, 83, 71, 73, 54, 97, 74, 79, 92, 75, 82, 70, 67, 55, 56, 98, 73, 95, 69, 83, 76, 98, 92, 80, 70, 69, 81, 75, 77, 66, 63, 92, 69, 82, 86, 54, 54, 87, 48, 89, 74, 84, 95, 87, 47, 85, 59, 63, 65, 76, 68, 96, 82, 75, 78, 76, 79, 77, 99, 82, 97, 58, 59, 52, 80, 61, 92, 90, 60, 81, 99, 63, 55, 74, 64, 93, 84, 67, 59, 72, 61, 89, 53, 93, 63, 61, 89, 66, 77, 67, 82, 85, 63, 60, 53, 76, 56, 91, 56, 93, 56, 57, 72, 86, 57, 88, 78, 52, 92, 97, 89, 81, 70, 97, 96, 87, 79, 98, 81, 85, 77, 86, 96, 89, 94, 68, 76, 63, 71, 67, 61, 85, 67, 73, 64, 85, 82, 69, 58, 60, 51, 79, 65, 80, 75, 72, 80, 88, 68, 96, 99, 90, 68, 82, 55, 84, 75, 63, 98, 58, 70, 94, 76, 64, 66, 75, 62, 62, 57, 82, 87, 65, 75, 76, 86, 61, 54, 81, 75, 72, 84, 80, 76, 98, 80, 52, 96, 69, 77, 96, 98, 61, 79, 69, 67, 93, 74, 93, 91, 94, 80, 62, 71, 66, 97, 93, 95, 93, 73, 77, 71, 95, 63, 90, 55, 92, 81, 66, 94, 99, 71, 57, 82, 99, 92, 71, 67, 64, 56, 86, 69, 96, 79, 85, 92, 87, 61, 99, 75, 63, 93, 66, 64, 87, 97, 98, 57, 75, 73, 97, 83, 81, 99, 76, 99, 97, 57, 72, 99, 64, 74, 89, 90, 98, 97, 64, 72, 63, 99, 60, 78, 78, 61, 72, 96, 60, 71, 93, 88, 91, 97, 64, 78, 94, 69, 85, 94, 71, 95, 62, 96, 92, 58, 59, 75, 62, 59, 87, 89, 87, 96, 74, 69, 71, 68, 61, 86, 74, 85, 85, 99, 67, 70, 90, 83, 81, 73, 84, 66, 90]}, {\"hoverlabel\": {\"namelength\": 0}, \"hovertemplate\": \"color=Group 3<br>Age=%{x}<br>Annual Income (k$)=%{y}<br>Spending Score (1-100)=%{z}\", \"legendgroup\": \"color=Group 3\", \"marker\": {\"color\": \"#FFA15A\", \"symbol\": \"circle\"}, \"mode\": \"markers\", \"name\": \"color=Group 3\", \"scene\": \"scene\", \"showlegend\": true, \"type\": \"scatter3d\", \"x\": [70, 70, 70, 63, 53, 68, 61, 44, 38, 70, 44, 60, 56, 28, 67, 20, 25, 64, 39, 37, 62, 46, 23, 40, 43, 52, 47, 59, 59, 26, 32, 48, 65, 23, 39, 25, 25, 40, 49, 57, 64, 44, 20, 46, 53, 49, 59, 19, 26, 64, 67, 45, 66, 19, 21, 65, 57, 64, 50, 68, 38, 37, 26, 28, 59, 50, 37, 53, 48, 26, 25, 46, 43, 34, 47, 26, 34, 44, 37, 31, 21, 47, 30, 59, 62, 41, 56, 29, 35, 39, 48, 49, 30, 21, 19, 53, 59, 33, 70, 28, 21, 44, 52, 58, 67, 25, 48, 29, 67, 39, 65, 25, 48, 20, 68, 45, 50, 58, 32, 38, 59, 65, 70, 61, 54, 42, 40, 68, 33, 39, 25, 36, 32, 29, 55, 67, 70, 22, 36, 40, 24, 36, 40, 49, 60, 19, 40, 58, 52, 66, 45, 52, 55, 47, 28, 61, 34, 44, 51, 52, 63, 64, 34, 70, 33, 48, 22, 68, 66, 37, 47, 40, 44, 36, 52, 57, 59, 54, 44, 21, 42, 69, 49, 44, 19, 44, 69, 62, 39, 22, 67, 35, 57, 55, 66, 68, 28, 39, 41, 31, 28, 31, 50, 31, 49, 26, 28, 37, 57, 37, 58, 26, 46, 20, 41, 37, 66, 33, 41, 34, 22, 22, 60, 60, 40, 28, 59, 54, 58, 39, 35, 37, 21, 34, 21, 48, 21, 49, 60, 67, 41, 67, 70, 57, 34, 48, 51, 31, 55, 30, 24, 56, 23, 20, 53, 62, 18, 57, 37, 59, 63, 56, 22, 34, 62, 30, 42, 41, 42, 64, 48, 69, 35, 45, 50, 36, 55, 68, 41, 30, 61, 60, 29, 34, 57, 56, 51, 37, 62, 42, 34, 45, 60, 37, 46, 58, 64, 68, 25, 25, 46, 57, 53, 55, 67, 30, 48, 67, 63, 39, 33, 50, 56, 70, 40, 33, 46, 50, 48, 39, 22, 45, 20, 29, 37, 39, 43, 18, 21, 42, 58, 65, 34, 47, 70, 21, 69, 21, 38, 48, 39, 20, 26, 35, 55, 30, 30, 65, 52, 20, 68, 32, 29, 47, 60, 33, 67, 65, 57, 19, 40, 42, 31, 33, 27, 42, 35, 21, 65, 61, 59, 52, 57, 20, 32, 62, 61, 35, 30, 26, 68, 47, 18, 69, 19, 35, 48, 70, 57, 33, 52, 28, 62, 61, 20, 70, 48, 62, 45, 22, 40, 60, 63, 22, 41, 32, 37, 45, 68, 37, 47, 24, 32, 26, 42, 27, 36, 67, 56, 63, 61, 25, 45, 49, 54, 26, 68, 27, 59, 24, 43, 67, 51, 38, 58, 65, 48, 38, 29, 34, 45, 21, 38, 29, 67, 30, 62, 42, 21, 28, 57, 38, 27, 69, 44, 39, 51, 49, 50, 56, 33, 21, 52, 57, 65, 27, 68, 63, 56, 68, 66, 45, 66, 38, 35, 21, 25, 29, 63, 54, 34, 47, 28, 67, 60, 37, 64, 35, 27, 54, 44, 25, 44, 32], \"y\": [64, 64, 65, 65, 65, 66, 67, 67, 67, 67, 67, 67, 68, 68, 68, 68, 69, 69, 69, 69, 69, 69, 70, 70, 71, 71, 71, 71, 71, 71, 71, 71, 71, 71, 72, 72, 72, 72, 72, 73, 73, 73, 73, 74, 74, 74, 74, 74, 74, 75, 75, 75, 75, 75, 75, 75, 75, 75, 76, 76, 76, 76, 76, 76, 76, 76, 77, 77, 77, 77, 77, 77, 78, 78, 78, 78, 78, 78, 78, 78, 78, 78, 79, 79, 79, 79, 79, 79, 80, 80, 80, 80, 80, 81, 81, 81, 81, 81, 81, 82, 82, 82, 82, 82, 82, 83, 83, 83, 84, 84, 84, 84, 84, 84, 85, 85, 85, 85, 85, 85, 86, 86, 86, 86, 86, 86, 86, 86, 86, 86, 86, 86, 87, 87, 87, 87, 87, 87, 87, 87, 87, 87, 87, 88, 88, 88, 88, 88, 88, 88, 88, 88, 88, 88, 89, 89, 89, 89, 89, 90, 90, 90, 90, 90, 90, 90, 90, 90, 91, 91, 91, 92, 92, 92, 92, 93, 93, 93, 93, 93, 93, 93, 94, 94, 94, 94, 94, 94, 94, 95, 95, 95, 95, 95, 95, 96, 96, 96, 97, 97, 97, 97, 97, 97, 97, 97, 97, 97, 97, 97, 97, 98, 98, 98, 98, 98, 98, 99, 99, 99, 99, 99, 100, 100, 100, 100, 100, 101, 101, 101, 101, 101, 102, 102, 102, 102, 102, 103, 103, 103, 103, 103, 103, 103, 103, 104, 104, 104, 104, 104, 104, 105, 105, 105, 105, 106, 106, 106, 106, 106, 106, 107, 107, 107, 107, 107, 107, 108, 108, 108, 108, 108, 108, 108, 108, 109, 109, 109, 109, 109, 109, 109, 109, 109, 109, 109, 109, 109, 109, 109, 110, 110, 110, 110, 110, 110, 110, 110, 110, 111, 111, 112, 112, 112, 112, 112, 113, 113, 113, 113, 113, 113, 114, 114, 114, 114, 115, 115, 115, 115, 115, 115, 116, 116, 116, 116, 116, 116, 117, 117, 117, 117, 117, 117, 117, 117, 117, 117, 118, 118, 118, 118, 118, 118, 118, 118, 119, 119, 119, 119, 119, 119, 119, 120, 120, 121, 121, 121, 121, 121, 121, 121, 122, 122, 122, 122, 122, 122, 122, 122, 122, 122, 122, 123, 123, 123, 123, 123, 123, 123, 123, 123, 124, 124, 124, 124, 124, 124, 125, 125, 125, 125, 126, 126, 126, 126, 126, 126, 126, 126, 126, 126, 127, 127, 127, 127, 127, 127, 127, 127, 128, 128, 129, 129, 129, 129, 129, 129, 129, 129, 130, 130, 130, 130, 130, 130, 130, 131, 131, 131, 131, 131, 131, 131, 131, 131, 132, 132, 132, 132, 133, 133, 133, 133, 133, 133, 133, 133, 133, 133, 133, 133, 134, 134, 134, 134, 134, 134, 134, 134, 135, 135, 135, 135, 135, 135, 135, 135, 135, 136, 136, 136, 136, 136, 136, 136, 136, 136, 136, 137, 137, 137, 137, 137, 137, 137, 137, 137, 137, 137, 137, 137, 137, 137], \"z\": [15, 41, 15, 40, 6, 23, 24, 1, 40, 15, 38, 28, 37, 26, 19, 16, 36, 40, 8, 12, 22, 27, 29, 6, 35, 21, 9, 34, 11, 4, 29, 29, 34, 6, 12, 18, 34, 34, 28, 43, 3, 7, 5, 32, 33, 34, 9, 10, 42, 5, 40, 18, 27, 36, 42, 41, 5, 6, 9, 8, 43, 42, 42, 40, 33, 2, 11, 6, 36, 25, 12, 5, 17, 1, 16, 21, 22, 20, 1, 27, 37, 39, 29, 27, 36, 25, 35, 39, 31, 3, 6, 15, 7, 22, 5, 28, 11, 43, 12, 10, 19, 7, 23, 34, 46, 38, 29, 13, 10, 11, 18, 37, 2, 40, 19, 37, 26, 31, 14, 38, 36, 46, 42, 44, 13, 20, 9, 2, 29, 8, 19, 40, 32, 21, 34, 21, 18, 12, 27, 14, 28, 10, 13, 18, 2, 24, 1, 15, 13, 17, 1, 31, 19, 18, 30, 32, 37, 46, 9, 31, 16, 25, 16, 46, 21, 7, 28, 40, 24, 21, 9, 13, 39, 36, 1, 36, 14, 2, 40, 24, 41, 1, 7, 46, 1, 24, 14, 33, 41, 22, 33, 28, 30, 15, 36, 5, 1, 6, 26, 19, 42, 4, 35, 37, 23, 16, 18, 11, 46, 32, 15, 28, 15, 38, 2, 37, 49, 47, 39, 19, 25, 23, 9, 46, 32, 4, 2, 24, 5, 12, 26, 35, 19, 44, 22, 6, 10, 34, 10, 1, 17, 15, 26, 2, 23, 2, 35, 33, 23, 18, 41, 30, 18, 19, 47, 2, 50, 4, 8, 47, 6, 49, 34, 23, 4, 42, 51, 4, 10, 9, 11, 4, 45, 49, 7, 31, 33, 27, 39, 21, 20, 50, 46, 27, 21, 37, 18, 5, 45, 18, 19, 23, 14, 40, 2, 29, 43, 18, 25, 23, 6, 45, 30, 42, 10, 17, 11, 19, 15, 7, 8, 14, 53, 12, 7, 9, 14, 40, 8, 51, 49, 26, 45, 52, 49, 29, 45, 32, 9, 36, 1, 43, 20, 5, 21, 18, 14, 5, 13, 4, 40, 18, 13, 37, 49, 34, 51, 14, 25, 49, 42, 48, 30, 16, 43, 50, 42, 20, 15, 21, 21, 16, 46, 9, 37, 52, 26, 3, 16, 24, 46, 34, 39, 19, 48, 40, 33, 8, 25, 13, 23, 9, 28, 44, 21, 8, 24, 51, 14, 14, 21, 11, 38, 2, 23, 54, 52, 54, 28, 53, 48, 22, 45, 1, 20, 2, 29, 7, 23, 35, 2, 17, 37, 22, 30, 3, 23, 16, 24, 5, 32, 33, 37, 19, 33, 49, 10, 29, 22, 33, 31, 40, 11, 53, 37, 1, 35, 44, 27, 11, 41, 55, 10, 13, 46, 21, 41, 19, 16, 37, 49, 32, 47, 21, 12, 56, 57, 45, 7, 35, 39, 48, 48, 3, 37, 2, 19, 49, 45, 48, 14, 9, 35, 24, 13, 24, 29, 18, 44, 46, 35, 46, 26, 1, 7, 25, 54, 54, 26, 26, 56, 41, 27, 18]}],\n",
              "                        {\"font\": {\"size\": 9}, \"legend\": {\"font\": {\"size\": 12}, \"tracegroupgap\": 0}, \"scene\": {\"domain\": {\"x\": [0.0, 1.0], \"y\": [0.0, 1.0]}, \"xaxis\": {\"title\": {\"text\": \"Age\"}}, \"yaxis\": {\"title\": {\"text\": \"Annual Income (k$)\"}}, \"zaxis\": {\"title\": {\"text\": \"Spending Score (1-100)\"}}}, \"template\": {\"data\": {\"bar\": [{\"error_x\": {\"color\": \"#2a3f5f\"}, \"error_y\": {\"color\": \"#2a3f5f\"}, \"marker\": {\"line\": {\"color\": \"#E5ECF6\", \"width\": 0.5}}, \"type\": \"bar\"}], \"barpolar\": [{\"marker\": {\"line\": {\"color\": \"#E5ECF6\", \"width\": 0.5}}, \"type\": \"barpolar\"}], \"carpet\": [{\"aaxis\": {\"endlinecolor\": \"#2a3f5f\", \"gridcolor\": \"white\", \"linecolor\": \"white\", \"minorgridcolor\": \"white\", \"startlinecolor\": \"#2a3f5f\"}, \"baxis\": {\"endlinecolor\": \"#2a3f5f\", \"gridcolor\": \"white\", \"linecolor\": \"white\", \"minorgridcolor\": \"white\", \"startlinecolor\": \"#2a3f5f\"}, \"type\": \"carpet\"}], \"choropleth\": [{\"colorbar\": {\"outlinewidth\": 0, \"ticks\": \"\"}, \"type\": \"choropleth\"}], \"contour\": [{\"colorbar\": {\"outlinewidth\": 0, \"ticks\": \"\"}, \"colorscale\": [[0.0, \"#0d0887\"], [0.1111111111111111, \"#46039f\"], [0.2222222222222222, \"#7201a8\"], [0.3333333333333333, \"#9c179e\"], [0.4444444444444444, \"#bd3786\"], [0.5555555555555556, \"#d8576b\"], [0.6666666666666666, \"#ed7953\"], [0.7777777777777778, \"#fb9f3a\"], [0.8888888888888888, \"#fdca26\"], [1.0, \"#f0f921\"]], \"type\": \"contour\"}], \"contourcarpet\": [{\"colorbar\": {\"outlinewidth\": 0, \"ticks\": \"\"}, \"type\": \"contourcarpet\"}], \"heatmap\": [{\"colorbar\": {\"outlinewidth\": 0, \"ticks\": \"\"}, \"colorscale\": [[0.0, \"#0d0887\"], [0.1111111111111111, \"#46039f\"], [0.2222222222222222, \"#7201a8\"], [0.3333333333333333, \"#9c179e\"], [0.4444444444444444, \"#bd3786\"], [0.5555555555555556, \"#d8576b\"], [0.6666666666666666, \"#ed7953\"], [0.7777777777777778, \"#fb9f3a\"], [0.8888888888888888, \"#fdca26\"], [1.0, \"#f0f921\"]], \"type\": \"heatmap\"}], \"heatmapgl\": [{\"colorbar\": {\"outlinewidth\": 0, \"ticks\": \"\"}, \"colorscale\": [[0.0, \"#0d0887\"], [0.1111111111111111, \"#46039f\"], [0.2222222222222222, \"#7201a8\"], [0.3333333333333333, \"#9c179e\"], [0.4444444444444444, \"#bd3786\"], [0.5555555555555556, \"#d8576b\"], [0.6666666666666666, \"#ed7953\"], [0.7777777777777778, \"#fb9f3a\"], [0.8888888888888888, \"#fdca26\"], [1.0, \"#f0f921\"]], \"type\": \"heatmapgl\"}], \"histogram\": [{\"marker\": {\"colorbar\": {\"outlinewidth\": 0, \"ticks\": \"\"}}, \"type\": \"histogram\"}], \"histogram2d\": [{\"colorbar\": {\"outlinewidth\": 0, \"ticks\": \"\"}, \"colorscale\": [[0.0, \"#0d0887\"], [0.1111111111111111, \"#46039f\"], [0.2222222222222222, \"#7201a8\"], [0.3333333333333333, \"#9c179e\"], [0.4444444444444444, \"#bd3786\"], [0.5555555555555556, \"#d8576b\"], [0.6666666666666666, \"#ed7953\"], [0.7777777777777778, \"#fb9f3a\"], [0.8888888888888888, \"#fdca26\"], [1.0, \"#f0f921\"]], \"type\": \"histogram2d\"}], \"histogram2dcontour\": [{\"colorbar\": {\"outlinewidth\": 0, \"ticks\": \"\"}, \"colorscale\": [[0.0, \"#0d0887\"], [0.1111111111111111, \"#46039f\"], [0.2222222222222222, \"#7201a8\"], [0.3333333333333333, \"#9c179e\"], [0.4444444444444444, \"#bd3786\"], [0.5555555555555556, \"#d8576b\"], [0.6666666666666666, \"#ed7953\"], [0.7777777777777778, \"#fb9f3a\"], [0.8888888888888888, \"#fdca26\"], [1.0, \"#f0f921\"]], \"type\": \"histogram2dcontour\"}], \"mesh3d\": [{\"colorbar\": {\"outlinewidth\": 0, \"ticks\": \"\"}, \"type\": \"mesh3d\"}], \"parcoords\": [{\"line\": {\"colorbar\": {\"outlinewidth\": 0, \"ticks\": \"\"}}, \"type\": \"parcoords\"}], \"pie\": [{\"automargin\": true, \"type\": \"pie\"}], \"scatter\": [{\"marker\": {\"colorbar\": {\"outlinewidth\": 0, \"ticks\": \"\"}}, \"type\": \"scatter\"}], \"scatter3d\": [{\"line\": {\"colorbar\": {\"outlinewidth\": 0, \"ticks\": \"\"}}, \"marker\": {\"colorbar\": {\"outlinewidth\": 0, \"ticks\": \"\"}}, \"type\": \"scatter3d\"}], \"scattercarpet\": [{\"marker\": {\"colorbar\": {\"outlinewidth\": 0, \"ticks\": \"\"}}, \"type\": \"scattercarpet\"}], \"scattergeo\": [{\"marker\": {\"colorbar\": {\"outlinewidth\": 0, \"ticks\": \"\"}}, \"type\": \"scattergeo\"}], \"scattergl\": [{\"marker\": {\"colorbar\": {\"outlinewidth\": 0, \"ticks\": \"\"}}, \"type\": \"scattergl\"}], \"scattermapbox\": [{\"marker\": {\"colorbar\": {\"outlinewidth\": 0, \"ticks\": \"\"}}, \"type\": \"scattermapbox\"}], \"scatterpolar\": [{\"marker\": {\"colorbar\": {\"outlinewidth\": 0, \"ticks\": \"\"}}, \"type\": \"scatterpolar\"}], \"scatterpolargl\": [{\"marker\": {\"colorbar\": {\"outlinewidth\": 0, \"ticks\": \"\"}}, \"type\": \"scatterpolargl\"}], \"scatterternary\": [{\"marker\": {\"colorbar\": {\"outlinewidth\": 0, \"ticks\": \"\"}}, \"type\": \"scatterternary\"}], \"surface\": [{\"colorbar\": {\"outlinewidth\": 0, \"ticks\": \"\"}, \"colorscale\": [[0.0, \"#0d0887\"], [0.1111111111111111, \"#46039f\"], [0.2222222222222222, \"#7201a8\"], [0.3333333333333333, \"#9c179e\"], [0.4444444444444444, \"#bd3786\"], [0.5555555555555556, \"#d8576b\"], [0.6666666666666666, \"#ed7953\"], [0.7777777777777778, \"#fb9f3a\"], [0.8888888888888888, \"#fdca26\"], [1.0, \"#f0f921\"]], \"type\": \"surface\"}], \"table\": [{\"cells\": {\"fill\": {\"color\": \"#EBF0F8\"}, \"line\": {\"color\": \"white\"}}, \"header\": {\"fill\": {\"color\": \"#C8D4E3\"}, \"line\": {\"color\": \"white\"}}, \"type\": \"table\"}]}, \"layout\": {\"annotationdefaults\": {\"arrowcolor\": \"#2a3f5f\", \"arrowhead\": 0, \"arrowwidth\": 1}, \"coloraxis\": {\"colorbar\": {\"outlinewidth\": 0, \"ticks\": \"\"}}, \"colorscale\": {\"diverging\": [[0, \"#8e0152\"], [0.1, \"#c51b7d\"], [0.2, \"#de77ae\"], [0.3, \"#f1b6da\"], [0.4, \"#fde0ef\"], [0.5, \"#f7f7f7\"], [0.6, \"#e6f5d0\"], [0.7, \"#b8e186\"], [0.8, \"#7fbc41\"], [0.9, \"#4d9221\"], [1, \"#276419\"]], \"sequential\": [[0.0, \"#0d0887\"], [0.1111111111111111, \"#46039f\"], [0.2222222222222222, \"#7201a8\"], [0.3333333333333333, \"#9c179e\"], [0.4444444444444444, \"#bd3786\"], [0.5555555555555556, \"#d8576b\"], [0.6666666666666666, \"#ed7953\"], [0.7777777777777778, \"#fb9f3a\"], [0.8888888888888888, \"#fdca26\"], [1.0, \"#f0f921\"]], \"sequentialminus\": [[0.0, \"#0d0887\"], [0.1111111111111111, \"#46039f\"], [0.2222222222222222, \"#7201a8\"], [0.3333333333333333, \"#9c179e\"], [0.4444444444444444, \"#bd3786\"], [0.5555555555555556, \"#d8576b\"], [0.6666666666666666, \"#ed7953\"], [0.7777777777777778, \"#fb9f3a\"], [0.8888888888888888, \"#fdca26\"], [1.0, \"#f0f921\"]]}, \"colorway\": [\"#636efa\", \"#EF553B\", \"#00cc96\", \"#ab63fa\", \"#FFA15A\", \"#19d3f3\", \"#FF6692\", \"#B6E880\", \"#FF97FF\", \"#FECB52\"], \"font\": {\"color\": \"#2a3f5f\"}, \"geo\": {\"bgcolor\": \"white\", \"lakecolor\": \"white\", \"landcolor\": \"#E5ECF6\", \"showlakes\": true, \"showland\": true, \"subunitcolor\": \"white\"}, \"hoverlabel\": {\"align\": \"left\"}, \"hovermode\": \"closest\", \"mapbox\": {\"style\": \"light\"}, \"paper_bgcolor\": \"white\", \"plot_bgcolor\": \"#E5ECF6\", \"polar\": {\"angularaxis\": {\"gridcolor\": \"white\", \"linecolor\": \"white\", \"ticks\": \"\"}, \"bgcolor\": \"#E5ECF6\", \"radialaxis\": {\"gridcolor\": \"white\", \"linecolor\": \"white\", \"ticks\": \"\"}}, \"scene\": {\"xaxis\": {\"backgroundcolor\": \"#E5ECF6\", \"gridcolor\": \"white\", \"gridwidth\": 2, \"linecolor\": \"white\", \"showbackground\": true, \"ticks\": \"\", \"zerolinecolor\": \"white\"}, \"yaxis\": {\"backgroundcolor\": \"#E5ECF6\", \"gridcolor\": \"white\", \"gridwidth\": 2, \"linecolor\": \"white\", \"showbackground\": true, \"ticks\": \"\", \"zerolinecolor\": \"white\"}, \"zaxis\": {\"backgroundcolor\": \"#E5ECF6\", \"gridcolor\": \"white\", \"gridwidth\": 2, \"linecolor\": \"white\", \"showbackground\": true, \"ticks\": \"\", \"zerolinecolor\": \"white\"}}, \"shapedefaults\": {\"line\": {\"color\": \"#2a3f5f\"}}, \"ternary\": {\"aaxis\": {\"gridcolor\": \"white\", \"linecolor\": \"white\", \"ticks\": \"\"}, \"baxis\": {\"gridcolor\": \"white\", \"linecolor\": \"white\", \"ticks\": \"\"}, \"bgcolor\": \"#E5ECF6\", \"caxis\": {\"gridcolor\": \"white\", \"linecolor\": \"white\", \"ticks\": \"\"}}, \"title\": {\"x\": 0.05}, \"xaxis\": {\"automargin\": true, \"gridcolor\": \"white\", \"linecolor\": \"white\", \"ticks\": \"\", \"title\": {\"standoff\": 15}, \"zerolinecolor\": \"white\", \"zerolinewidth\": 2}, \"yaxis\": {\"automargin\": true, \"gridcolor\": \"white\", \"linecolor\": \"white\", \"ticks\": \"\", \"title\": {\"standoff\": 15}, \"zerolinecolor\": \"white\", \"zerolinewidth\": 2}}}, \"title\": {\"text\": \"DP K-Means 3D with e=25\"}},\n",
              "                        {\"responsive\": true}\n",
              "                    ).then(function(){\n",
              "                            \n",
              "var gd = document.getElementById('3fadb801-cf5d-4682-b61d-1d88b2d63d22');\n",
              "var x = new MutationObserver(function (mutations, observer) {{\n",
              "        var display = window.getComputedStyle(gd).display;\n",
              "        if (!display || display === 'none') {{\n",
              "            console.log([gd, 'removed!']);\n",
              "            Plotly.purge(gd);\n",
              "            observer.disconnect();\n",
              "        }}\n",
              "}});\n",
              "\n",
              "// Listen for the removal of the full notebook cells\n",
              "var notebookContainer = gd.closest('#notebook-container');\n",
              "if (notebookContainer) {{\n",
              "    x.observe(notebookContainer, {childList: true});\n",
              "}}\n",
              "\n",
              "// Listen for the clearing of the current output cell\n",
              "var outputEl = gd.closest('.output');\n",
              "if (outputEl) {{\n",
              "    x.observe(outputEl, {childList: true});\n",
              "}}\n",
              "\n",
              "                        })\n",
              "                };\n",
              "                \n",
              "            </script>\n",
              "        </div>\n",
              "</body>\n",
              "</html>"
            ]
          },
          "metadata": {
            "tags": []
          }
        }
      ]
    },
    {
      "cell_type": "code",
      "metadata": {
        "id": "wnJ7Ommtvs_K"
      },
      "source": [
        "#function to calculate error based on distance of labels of original K-means and DP-Kmeans.\n",
        "#it is specific to the data set used in this project file.\n",
        "#the main idea of algorithm is to get the length(labels) for each centroids, \n",
        "#then put them in real numbers line, and find error of nearest len(labels) for each centroids in DP-Kmeans compared to original K-means\n",
        "def Error_Labels(labels_original, labels_df):\n",
        "  labelO0 = []\n",
        "  labelO1 = []\n",
        "  labelO2 = []\n",
        "  labelO3 = []\n",
        "  labelO4 = []\n",
        "  for i in range (len(labels_original)):\n",
        "    if (labels_original[i] == 0):\n",
        "      labelO0.append(labels_original[i])\n",
        "    elif (labels_original[i] == 1):\n",
        "      labelO1.append(labels_original[i])\n",
        "    elif (labels_original[i] == 2):\n",
        "      labelO2.append(labels_original[i])\n",
        "    elif (labels_original[i] == 3):\n",
        "      labelO3.append(labels_original[i])\n",
        "    else:\n",
        "      labelO4.append(labels_original[i])\n",
        "\n",
        "  arr_o = [len(labelO0), len(labelO1), len(labelO2), len(labelO3), len(labelO4)]\n",
        "\n",
        "\n",
        "  labelDF0 = []\n",
        "  labelDF1 = []\n",
        "  labelDF2 = []\n",
        "  labelDF3 = []\n",
        "  labelDF4 = []\n",
        "  for i in range (len(labels_df)):\n",
        "    if (labels_df[i] == 0):\n",
        "      labelDF0.append(labels_df[i])\n",
        "    elif (labels_df[i] == 1):\n",
        "      labelDF1.append(labels_df[i])\n",
        "    elif (labels_df[i] == 2):\n",
        "      labelDF2.append(labels_df[i])\n",
        "    elif (labels_df[i] == 3):\n",
        "      labelDF3.append(labels_df[i])\n",
        "    else:\n",
        "      labelDF4.append(labels_df[i])\n",
        "  arr_df = [len(labelDF0), len(labelDF1), len(labelDF2), len(labelDF3), len(labelDF4)]\n",
        "\n",
        "  error = 0\n",
        "  while (len(arr_o) > 0):\n",
        "    minDist = abs(arr_o[0] - arr_df[0])\n",
        "    for i in range(len(arr_o)):\n",
        "      for j in range(len(arr_df)):\n",
        "        if (abs(arr_o[i] - arr_df[j]) <= minDist):\n",
        "          minDist = abs(arr_o[i] - arr_df[j])\n",
        "          e1 = i\n",
        "          e2 = j\n",
        "    init_error = (abs(arr_o[e1] - arr_df[e2]))**2\n",
        "    error = error + init_error\n",
        "    arr_o.remove(arr_o[e1])\n",
        "    arr_df.remove(arr_df[e2])\n",
        "  return error\n",
        "\n"
      ],
      "execution_count": 25,
      "outputs": []
    },
    {
      "cell_type": "code",
      "metadata": {
        "id": "yruE5W1wwGqW"
      },
      "source": [
        "label_error_e1 = Error_Labels(labels_original, labels_df_e1)\n",
        "label_error_e2 = Error_Labels(labels_original, labels_df_e2)\n",
        "label_error_e3 = Error_Labels(labels_original, labels_df_e3)\n",
        "label_error_e4 = Error_Labels(labels_original, labels_df_e4)\n",
        "label_error_e5 = Error_Labels(labels_original, labels_df_e5)\n",
        "label_error_e6 = Error_Labels(labels_original, labels_df_e6)"
      ],
      "execution_count": 26,
      "outputs": []
    },
    {
      "cell_type": "code",
      "metadata": {
        "id": "iwAPHT0B_vPv",
        "colab": {
          "base_uri": "https://localhost:8080/",
          "height": 235
        },
        "outputId": "4bf6d156-2755-4077-fa98-b6cc57356176"
      },
      "source": [
        "#Store values in a Frame to Plot them. #0.1, 1, 5, 25, 50, 100\n",
        "label_error = pd.DataFrame(data={'Epsilon':[0.1, 1, 5, 25, 50, 100],'Error':[label_error_e1, label_error_e2, label_error_e3, label_error_e4, label_error_e5, label_error_e6]})\n",
        "label_error"
      ],
      "execution_count": 27,
      "outputs": [
        {
          "output_type": "execute_result",
          "data": {
            "text/html": [
              "<div>\n",
              "<style scoped>\n",
              "    .dataframe tbody tr th:only-of-type {\n",
              "        vertical-align: middle;\n",
              "    }\n",
              "\n",
              "    .dataframe tbody tr th {\n",
              "        vertical-align: top;\n",
              "    }\n",
              "\n",
              "    .dataframe thead th {\n",
              "        text-align: right;\n",
              "    }\n",
              "</style>\n",
              "<table border=\"1\" class=\"dataframe\">\n",
              "  <thead>\n",
              "    <tr style=\"text-align: right;\">\n",
              "      <th></th>\n",
              "      <th>Epsilon</th>\n",
              "      <th>Error</th>\n",
              "    </tr>\n",
              "  </thead>\n",
              "  <tbody>\n",
              "    <tr>\n",
              "      <th>0</th>\n",
              "      <td>0.1</td>\n",
              "      <td>2075612</td>\n",
              "    </tr>\n",
              "    <tr>\n",
              "      <th>1</th>\n",
              "      <td>1.0</td>\n",
              "      <td>2069476</td>\n",
              "    </tr>\n",
              "    <tr>\n",
              "      <th>2</th>\n",
              "      <td>5.0</td>\n",
              "      <td>1349654</td>\n",
              "    </tr>\n",
              "    <tr>\n",
              "      <th>3</th>\n",
              "      <td>25.0</td>\n",
              "      <td>101096</td>\n",
              "    </tr>\n",
              "    <tr>\n",
              "      <th>4</th>\n",
              "      <td>50.0</td>\n",
              "      <td>49904</td>\n",
              "    </tr>\n",
              "    <tr>\n",
              "      <th>5</th>\n",
              "      <td>100.0</td>\n",
              "      <td>95546</td>\n",
              "    </tr>\n",
              "  </tbody>\n",
              "</table>\n",
              "</div>"
            ],
            "text/plain": [
              "   Epsilon    Error\n",
              "0      0.1  2075612\n",
              "1      1.0  2069476\n",
              "2      5.0  1349654\n",
              "3     25.0   101096\n",
              "4     50.0    49904\n",
              "5    100.0    95546"
            ]
          },
          "metadata": {
            "tags": []
          },
          "execution_count": 27
        }
      ]
    },
    {
      "cell_type": "code",
      "metadata": {
        "id": "NnHVb2Y0AMq-",
        "colab": {
          "base_uri": "https://localhost:8080/",
          "height": 542
        },
        "outputId": "4e821928-ba45-42e9-96e5-563ec55dac8f"
      },
      "source": [
        "fig = px.line(label_error, x=\"Epsilon\", y=\"Error\", title=\"Error of Labels Difference over different number of Epsilon\")\n",
        "fig.show()"
      ],
      "execution_count": 28,
      "outputs": [
        {
          "output_type": "display_data",
          "data": {
            "text/html": [
              "<html>\n",
              "<head><meta charset=\"utf-8\" /></head>\n",
              "<body>\n",
              "    <div>\n",
              "            <script src=\"https://cdnjs.cloudflare.com/ajax/libs/mathjax/2.7.5/MathJax.js?config=TeX-AMS-MML_SVG\"></script><script type=\"text/javascript\">if (window.MathJax) {MathJax.Hub.Config({SVG: {font: \"STIX-Web\"}});}</script>\n",
              "                <script type=\"text/javascript\">window.PlotlyConfig = {MathJaxConfig: 'local'};</script>\n",
              "        <script src=\"https://cdn.plot.ly/plotly-latest.min.js\"></script>    \n",
              "            <div id=\"a8ef1084-ce30-47f1-a915-e5c2a3c432db\" class=\"plotly-graph-div\" style=\"height:525px; width:100%;\"></div>\n",
              "            <script type=\"text/javascript\">\n",
              "                \n",
              "                    window.PLOTLYENV=window.PLOTLYENV || {};\n",
              "                    \n",
              "                if (document.getElementById(\"a8ef1084-ce30-47f1-a915-e5c2a3c432db\")) {\n",
              "                    Plotly.newPlot(\n",
              "                        'a8ef1084-ce30-47f1-a915-e5c2a3c432db',\n",
              "                        [{\"hoverlabel\": {\"namelength\": 0}, \"hovertemplate\": \"Epsilon=%{x}<br>Error=%{y}\", \"legendgroup\": \"\", \"line\": {\"color\": \"#636efa\", \"dash\": \"solid\"}, \"mode\": \"lines\", \"name\": \"\", \"showlegend\": false, \"type\": \"scatter\", \"x\": [0.1, 1.0, 5.0, 25.0, 50.0, 100.0], \"xaxis\": \"x\", \"y\": [2075612, 2069476, 1349654, 101096, 49904, 95546], \"yaxis\": \"y\"}],\n",
              "                        {\"legend\": {\"tracegroupgap\": 0}, \"template\": {\"data\": {\"bar\": [{\"error_x\": {\"color\": \"#2a3f5f\"}, \"error_y\": {\"color\": \"#2a3f5f\"}, \"marker\": {\"line\": {\"color\": \"#E5ECF6\", \"width\": 0.5}}, \"type\": \"bar\"}], \"barpolar\": [{\"marker\": {\"line\": {\"color\": \"#E5ECF6\", \"width\": 0.5}}, \"type\": \"barpolar\"}], \"carpet\": [{\"aaxis\": {\"endlinecolor\": \"#2a3f5f\", \"gridcolor\": \"white\", \"linecolor\": \"white\", \"minorgridcolor\": \"white\", \"startlinecolor\": \"#2a3f5f\"}, \"baxis\": {\"endlinecolor\": \"#2a3f5f\", \"gridcolor\": \"white\", \"linecolor\": \"white\", \"minorgridcolor\": \"white\", \"startlinecolor\": \"#2a3f5f\"}, \"type\": \"carpet\"}], \"choropleth\": [{\"colorbar\": {\"outlinewidth\": 0, \"ticks\": \"\"}, \"type\": \"choropleth\"}], \"contour\": [{\"colorbar\": {\"outlinewidth\": 0, \"ticks\": \"\"}, \"colorscale\": [[0.0, \"#0d0887\"], [0.1111111111111111, \"#46039f\"], [0.2222222222222222, \"#7201a8\"], [0.3333333333333333, \"#9c179e\"], [0.4444444444444444, \"#bd3786\"], [0.5555555555555556, \"#d8576b\"], [0.6666666666666666, \"#ed7953\"], [0.7777777777777778, \"#fb9f3a\"], [0.8888888888888888, \"#fdca26\"], [1.0, \"#f0f921\"]], \"type\": \"contour\"}], \"contourcarpet\": [{\"colorbar\": {\"outlinewidth\": 0, \"ticks\": \"\"}, \"type\": \"contourcarpet\"}], \"heatmap\": [{\"colorbar\": {\"outlinewidth\": 0, \"ticks\": \"\"}, \"colorscale\": [[0.0, \"#0d0887\"], [0.1111111111111111, \"#46039f\"], [0.2222222222222222, \"#7201a8\"], [0.3333333333333333, \"#9c179e\"], [0.4444444444444444, \"#bd3786\"], [0.5555555555555556, \"#d8576b\"], [0.6666666666666666, \"#ed7953\"], [0.7777777777777778, \"#fb9f3a\"], [0.8888888888888888, \"#fdca26\"], [1.0, \"#f0f921\"]], \"type\": \"heatmap\"}], \"heatmapgl\": [{\"colorbar\": {\"outlinewidth\": 0, \"ticks\": \"\"}, \"colorscale\": [[0.0, \"#0d0887\"], [0.1111111111111111, \"#46039f\"], [0.2222222222222222, \"#7201a8\"], [0.3333333333333333, \"#9c179e\"], [0.4444444444444444, \"#bd3786\"], [0.5555555555555556, \"#d8576b\"], [0.6666666666666666, \"#ed7953\"], [0.7777777777777778, \"#fb9f3a\"], [0.8888888888888888, \"#fdca26\"], [1.0, \"#f0f921\"]], \"type\": \"heatmapgl\"}], \"histogram\": [{\"marker\": {\"colorbar\": {\"outlinewidth\": 0, \"ticks\": \"\"}}, \"type\": \"histogram\"}], \"histogram2d\": [{\"colorbar\": {\"outlinewidth\": 0, \"ticks\": \"\"}, \"colorscale\": [[0.0, \"#0d0887\"], [0.1111111111111111, \"#46039f\"], [0.2222222222222222, \"#7201a8\"], [0.3333333333333333, \"#9c179e\"], [0.4444444444444444, \"#bd3786\"], [0.5555555555555556, \"#d8576b\"], [0.6666666666666666, \"#ed7953\"], [0.7777777777777778, \"#fb9f3a\"], [0.8888888888888888, \"#fdca26\"], [1.0, \"#f0f921\"]], \"type\": \"histogram2d\"}], \"histogram2dcontour\": [{\"colorbar\": {\"outlinewidth\": 0, \"ticks\": \"\"}, \"colorscale\": [[0.0, \"#0d0887\"], [0.1111111111111111, \"#46039f\"], [0.2222222222222222, \"#7201a8\"], [0.3333333333333333, \"#9c179e\"], [0.4444444444444444, \"#bd3786\"], [0.5555555555555556, \"#d8576b\"], [0.6666666666666666, \"#ed7953\"], [0.7777777777777778, \"#fb9f3a\"], [0.8888888888888888, \"#fdca26\"], [1.0, \"#f0f921\"]], \"type\": \"histogram2dcontour\"}], \"mesh3d\": [{\"colorbar\": {\"outlinewidth\": 0, \"ticks\": \"\"}, \"type\": \"mesh3d\"}], \"parcoords\": [{\"line\": {\"colorbar\": {\"outlinewidth\": 0, \"ticks\": \"\"}}, \"type\": \"parcoords\"}], \"pie\": [{\"automargin\": true, \"type\": \"pie\"}], \"scatter\": [{\"marker\": {\"colorbar\": {\"outlinewidth\": 0, \"ticks\": \"\"}}, \"type\": \"scatter\"}], \"scatter3d\": [{\"line\": {\"colorbar\": {\"outlinewidth\": 0, \"ticks\": \"\"}}, \"marker\": {\"colorbar\": {\"outlinewidth\": 0, \"ticks\": \"\"}}, \"type\": \"scatter3d\"}], \"scattercarpet\": [{\"marker\": {\"colorbar\": {\"outlinewidth\": 0, \"ticks\": \"\"}}, \"type\": \"scattercarpet\"}], \"scattergeo\": [{\"marker\": {\"colorbar\": {\"outlinewidth\": 0, \"ticks\": \"\"}}, \"type\": \"scattergeo\"}], \"scattergl\": [{\"marker\": {\"colorbar\": {\"outlinewidth\": 0, \"ticks\": \"\"}}, \"type\": \"scattergl\"}], \"scattermapbox\": [{\"marker\": {\"colorbar\": {\"outlinewidth\": 0, \"ticks\": \"\"}}, \"type\": \"scattermapbox\"}], \"scatterpolar\": [{\"marker\": {\"colorbar\": {\"outlinewidth\": 0, \"ticks\": \"\"}}, \"type\": \"scatterpolar\"}], \"scatterpolargl\": [{\"marker\": {\"colorbar\": {\"outlinewidth\": 0, \"ticks\": \"\"}}, \"type\": \"scatterpolargl\"}], \"scatterternary\": [{\"marker\": {\"colorbar\": {\"outlinewidth\": 0, \"ticks\": \"\"}}, \"type\": \"scatterternary\"}], \"surface\": [{\"colorbar\": {\"outlinewidth\": 0, \"ticks\": \"\"}, \"colorscale\": [[0.0, \"#0d0887\"], [0.1111111111111111, \"#46039f\"], [0.2222222222222222, \"#7201a8\"], [0.3333333333333333, \"#9c179e\"], [0.4444444444444444, \"#bd3786\"], [0.5555555555555556, \"#d8576b\"], [0.6666666666666666, \"#ed7953\"], [0.7777777777777778, \"#fb9f3a\"], [0.8888888888888888, \"#fdca26\"], [1.0, \"#f0f921\"]], \"type\": \"surface\"}], \"table\": [{\"cells\": {\"fill\": {\"color\": \"#EBF0F8\"}, \"line\": {\"color\": \"white\"}}, \"header\": {\"fill\": {\"color\": \"#C8D4E3\"}, \"line\": {\"color\": \"white\"}}, \"type\": \"table\"}]}, \"layout\": {\"annotationdefaults\": {\"arrowcolor\": \"#2a3f5f\", \"arrowhead\": 0, \"arrowwidth\": 1}, \"coloraxis\": {\"colorbar\": {\"outlinewidth\": 0, \"ticks\": \"\"}}, \"colorscale\": {\"diverging\": [[0, \"#8e0152\"], [0.1, \"#c51b7d\"], [0.2, \"#de77ae\"], [0.3, \"#f1b6da\"], [0.4, \"#fde0ef\"], [0.5, \"#f7f7f7\"], [0.6, \"#e6f5d0\"], [0.7, \"#b8e186\"], [0.8, \"#7fbc41\"], [0.9, \"#4d9221\"], [1, \"#276419\"]], \"sequential\": [[0.0, \"#0d0887\"], [0.1111111111111111, \"#46039f\"], [0.2222222222222222, \"#7201a8\"], [0.3333333333333333, \"#9c179e\"], [0.4444444444444444, \"#bd3786\"], [0.5555555555555556, \"#d8576b\"], [0.6666666666666666, \"#ed7953\"], [0.7777777777777778, \"#fb9f3a\"], [0.8888888888888888, \"#fdca26\"], [1.0, \"#f0f921\"]], \"sequentialminus\": [[0.0, \"#0d0887\"], [0.1111111111111111, \"#46039f\"], [0.2222222222222222, \"#7201a8\"], [0.3333333333333333, \"#9c179e\"], [0.4444444444444444, \"#bd3786\"], [0.5555555555555556, \"#d8576b\"], [0.6666666666666666, \"#ed7953\"], [0.7777777777777778, \"#fb9f3a\"], [0.8888888888888888, \"#fdca26\"], [1.0, \"#f0f921\"]]}, \"colorway\": [\"#636efa\", \"#EF553B\", \"#00cc96\", \"#ab63fa\", \"#FFA15A\", \"#19d3f3\", \"#FF6692\", \"#B6E880\", \"#FF97FF\", \"#FECB52\"], \"font\": {\"color\": \"#2a3f5f\"}, \"geo\": {\"bgcolor\": \"white\", \"lakecolor\": \"white\", \"landcolor\": \"#E5ECF6\", \"showlakes\": true, \"showland\": true, \"subunitcolor\": \"white\"}, \"hoverlabel\": {\"align\": \"left\"}, \"hovermode\": \"closest\", \"mapbox\": {\"style\": \"light\"}, \"paper_bgcolor\": \"white\", \"plot_bgcolor\": \"#E5ECF6\", \"polar\": {\"angularaxis\": {\"gridcolor\": \"white\", \"linecolor\": \"white\", \"ticks\": \"\"}, \"bgcolor\": \"#E5ECF6\", \"radialaxis\": {\"gridcolor\": \"white\", \"linecolor\": \"white\", \"ticks\": \"\"}}, \"scene\": {\"xaxis\": {\"backgroundcolor\": \"#E5ECF6\", \"gridcolor\": \"white\", \"gridwidth\": 2, \"linecolor\": \"white\", \"showbackground\": true, \"ticks\": \"\", \"zerolinecolor\": \"white\"}, \"yaxis\": {\"backgroundcolor\": \"#E5ECF6\", \"gridcolor\": \"white\", \"gridwidth\": 2, \"linecolor\": \"white\", \"showbackground\": true, \"ticks\": \"\", \"zerolinecolor\": \"white\"}, \"zaxis\": {\"backgroundcolor\": \"#E5ECF6\", \"gridcolor\": \"white\", \"gridwidth\": 2, \"linecolor\": \"white\", \"showbackground\": true, \"ticks\": \"\", \"zerolinecolor\": \"white\"}}, \"shapedefaults\": {\"line\": {\"color\": \"#2a3f5f\"}}, \"ternary\": {\"aaxis\": {\"gridcolor\": \"white\", \"linecolor\": \"white\", \"ticks\": \"\"}, \"baxis\": {\"gridcolor\": \"white\", \"linecolor\": \"white\", \"ticks\": \"\"}, \"bgcolor\": \"#E5ECF6\", \"caxis\": {\"gridcolor\": \"white\", \"linecolor\": \"white\", \"ticks\": \"\"}}, \"title\": {\"x\": 0.05}, \"xaxis\": {\"automargin\": true, \"gridcolor\": \"white\", \"linecolor\": \"white\", \"ticks\": \"\", \"title\": {\"standoff\": 15}, \"zerolinecolor\": \"white\", \"zerolinewidth\": 2}, \"yaxis\": {\"automargin\": true, \"gridcolor\": \"white\", \"linecolor\": \"white\", \"ticks\": \"\", \"title\": {\"standoff\": 15}, \"zerolinecolor\": \"white\", \"zerolinewidth\": 2}}}, \"title\": {\"text\": \"Error of Labels Difference over different number of Epsilon\"}, \"xaxis\": {\"anchor\": \"y\", \"domain\": [0.0, 1.0], \"title\": {\"text\": \"Epsilon\"}}, \"yaxis\": {\"anchor\": \"x\", \"domain\": [0.0, 1.0], \"title\": {\"text\": \"Error\"}}},\n",
              "                        {\"responsive\": true}\n",
              "                    ).then(function(){\n",
              "                            \n",
              "var gd = document.getElementById('a8ef1084-ce30-47f1-a915-e5c2a3c432db');\n",
              "var x = new MutationObserver(function (mutations, observer) {{\n",
              "        var display = window.getComputedStyle(gd).display;\n",
              "        if (!display || display === 'none') {{\n",
              "            console.log([gd, 'removed!']);\n",
              "            Plotly.purge(gd);\n",
              "            observer.disconnect();\n",
              "        }}\n",
              "}});\n",
              "\n",
              "// Listen for the removal of the full notebook cells\n",
              "var notebookContainer = gd.closest('#notebook-container');\n",
              "if (notebookContainer) {{\n",
              "    x.observe(notebookContainer, {childList: true});\n",
              "}}\n",
              "\n",
              "// Listen for the clearing of the current output cell\n",
              "var outputEl = gd.closest('.output');\n",
              "if (outputEl) {{\n",
              "    x.observe(outputEl, {childList: true});\n",
              "}}\n",
              "\n",
              "                        })\n",
              "                };\n",
              "                \n",
              "            </script>\n",
              "        </div>\n",
              "</body>\n",
              "</html>"
            ]
          },
          "metadata": {
            "tags": []
          }
        }
      ]
    },
    {
      "cell_type": "markdown",
      "metadata": {
        "id": "jI47kbcHNvFS"
      },
      "source": [
        "#Abdullah Space"
      ]
    },
    {
      "cell_type": "markdown",
      "metadata": {
        "id": "MvRfg6lTMOef"
      },
      "source": [
        "def GenerateCentroid(radius a, Data d, n, k):\n",
        "  - generate centroids randomely 1 by 1.\n",
        "  -iterate n times, n=len(d).\n",
        "    - Corners = Min_domain, Max_domain of every corner\n",
        "    - K must be rad-a away from every point in Corners\n",
        "    - K must be at least 2a away from any existing centroid.\n",
        "    - Select different K if not satisfied.\n",
        "  -centroid must be >= K, else decrease radius a and repeat.\n",
        "  -return centroids.\n",
        "\n",
        "Given a radius a, \n",
        "we randomly generate k centroids one by one such that each new centroid is of\n",
        "distance at least rad-a away from every corner of the domain [−r, r]^d\n",
        "and each new centroid is of distance at least 2a away from any existing centroid. When a randomly chosen point does not satisfy this\n",
        "condition, we generate another point. When we have failed repeatedly, we conclude that the radius a is too large, and try a smaller\n",
        "radius. We use a binary search to find the maximal value for a such\n",
        "that it is the process of choosing k centroids succeed. This process\n",
        "depends only on the shape of the overall domain and not where the\n",
        "data points are, and thus does not affect privacy.\n"
      ]
    },
    {
      "cell_type": "code",
      "metadata": {
        "id": "Fux6eixcNS2R"
      },
      "source": [
        "C = np.array([[  1.,  52.,  37.,  32.],\n",
        "              [  0.,  18., 135.,  98.]])"
      ],
      "execution_count": null,
      "outputs": []
    },
    {
      "cell_type": "code",
      "metadata": {
        "id": "uFZRs4-Hm99F"
      },
      "source": [
        "#Unused algorithm that Finds smallest distance of a pair of points between n points in 2D array and report their indeces.\n",
        "index_point1 = 0\n",
        "min_distance = np.min(cdist(C[1:], np.reshape(C[0], (1,4))))\n",
        "for i in range(len(C)-1):\n",
        "  min_distance_loop = np.min(cdist(C[i+1:], np.reshape(C[i], (1,4))))\n",
        "  if (min_distance_loop < min_distance):\n",
        "    min_distance = min_distance_loop\n",
        "    index_point1 = i+1\n",
        "point1 = C[index_point1]\n",
        "min_distance_array = cdist(C, np.reshape(point1, (1,4)))\n",
        "min_distance_array = np.round(min_distance_array, 5)\n",
        "min_distance = np.round(min_distance, 5)\n",
        "index_point2 = np.where(min_distance_array==min_distance)\n",
        "point2 = C[index_point2[0][0]]\n",
        "print(\"point 1:\", point1, \"point 2:\", point2)\n",
        "print(\"minimum distance between all points: \", min_distance) #can confirm they are point 1 and point 2 using this calculator: https://www.omnicalculator.com/math/distance"
      ],
      "execution_count": null,
      "outputs": []
    }
  ]
}